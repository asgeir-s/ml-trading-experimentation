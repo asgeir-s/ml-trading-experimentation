{
 "nbformat": 4,
 "nbformat_minor": 2,
 "metadata": {
  "language_info": {
   "name": "python",
   "codemirror_mode": {
    "name": "ipython",
    "version": 3
   },
   "version": "3.7.7-final"
  },
  "orig_nbformat": 2,
  "file_extension": ".py",
  "mimetype": "text/x-python",
  "name": "python",
  "npconvert_exporter": "python",
  "pygments_lexer": "ipython3",
  "version": 3,
  "kernelspec": {
   "name": "python3",
   "display_name": "Python 3"
  }
 },
 "cells": [
  {
   "cell_type": "code",
   "execution_count": null,
   "metadata": {},
   "outputs": [],
   "source": [
    "import os, sys\n",
    "\n",
    "sys.path.insert(0, os.path.abspath(\"../../..\"))"
   ]
  },
  {
   "cell_type": "code",
   "execution_count": null,
   "metadata": {},
   "outputs": [],
   "source": [
    "from models.xgboost.model_2.model_2 import XgboostModel2\n",
    "import pandas as pd\n",
    "from pandas.plotting import scatter_matrix\n",
    "from lib.data_splitter import split_features_and_target_into_train_and_test_set\n",
    "from lib.data_util import load_candlesticks\n",
    "from matplotlib import cm\n",
    ""
   ]
  },
  {
   "cell_type": "code",
   "execution_count": null,
   "metadata": {},
   "outputs": [],
   "source": [
    "candlesticks = load_candlesticks(\"BTCUSDT\", \"1h\", custom_tmp_path=\"../../../tmp\")\n",
    "\n",
    "candlesticks"
   ]
  },
  {
   "cell_type": "code",
   "execution_count": null,
   "metadata": {},
   "outputs": [],
   "source": [
    "features = XgboostModel2.generate_features(candlesticks)\n",
    "target = XgboostModel2.generate_target(features)\n",
    "\n",
    "features"
   ]
  },
  {
   "cell_type": "code",
   "execution_count": null,
   "metadata": {},
   "outputs": [],
   "source": [
    "(\n",
    "    training_set_features,\n",
    "    training_set_target,\n",
    "    test_set_features,\n",
    "    test_set_target,\n",
    ") = split_features_and_target_into_train_and_test_set(features, target, 20)"
   ]
  },
  {
   "cell_type": "code",
   "execution_count": null,
   "metadata": {},
   "outputs": [],
   "source": [
    "# scatte = scatter_matrix(test_set_features.iloc[:, -5:], c=test_set_target.iloc[:], s=40, hist_kwds={\"bins\": 15}, figsize=(20,20))"
   ]
  },
  {
   "cell_type": "code",
   "execution_count": null,
   "metadata": {},
   "outputs": [],
   "source": [
    "xg_boost = XgboostModel2()\n",
    "xg_boost.train(training_set_features, training_set_target)\n",
    "xg_boost.evaluate(test_set_features, test_set_target)\n",
    "xg_boost.print_info()"
   ]
  },
  {
   "cell_type": "code",
   "execution_count": null,
   "metadata": {},
   "outputs": [],
   "source": [
    "features[\"open\"].describe()"
   ]
  },
  {
   "cell_type": "code",
   "execution_count": null,
   "metadata": {},
   "outputs": [],
   "source": []
  }
 ]
}