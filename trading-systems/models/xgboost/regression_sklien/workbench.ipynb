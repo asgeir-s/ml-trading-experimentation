{
 "nbformat": 4,
 "nbformat_minor": 2,
 "metadata": {
  "language_info": {
   "name": "python",
   "codemirror_mode": {
    "name": "ipython",
    "version": 3
   },
   "version": "3.7.7-final"
  },
  "orig_nbformat": 2,
  "file_extension": ".py",
  "mimetype": "text/x-python",
  "name": "python",
  "npconvert_exporter": "python",
  "pygments_lexer": "ipython3",
  "version": 3,
  "kernelspec": {
   "name": "python3",
   "display_name": "Python 3"
  }
 },
 "cells": [
  {
   "cell_type": "markdown",
   "metadata": {},
   "source": [
    "## RegressionSklienModel"
   ],
   "execution_count": null,
   "outputs": []
  },
  {
   "cell_type": "code",
   "execution_count": 1,
   "metadata": {},
   "outputs": [],
   "source": [
    "import os, sys\n",
    "\n",
    "sys.path.insert(0, os.path.abspath(\"../../..\"))"
   ]
  },
  {
   "cell_type": "code",
   "execution_count": 2,
   "metadata": {},
   "outputs": [],
   "source": [
    "from models.xgboost import RegressionSklienModel\n",
    "import pandas as pd\n",
    "from pandas.plotting import scatter_matrix\n",
    "from lib.data_splitter import split_features_and_target_into_train_and_test_set\n",
    "from lib.data_util import load_candlesticks\n",
    "import xgboost as xgb\n",
    "from sklearn.metrics import mean_squared_error, make_scorer\n",
    "from scipy import stats\n",
    "from sklearn.model_selection import RandomizedSearchCV"
   ]
  },
  {
   "cell_type": "code",
   "execution_count": 3,
   "metadata": {},
   "outputs": [
    {
     "output_type": "stream",
     "name": "stdout",
     "text": "Closetime of newest candle is 1587038399999\nOnly using data on file. Will not download new data from Binance.\n"
    },
    {
     "output_type": "execute_result",
     "data": {
      "text/plain": "           open time     open     high      low    close       volume  \\\n0      1502942400000  4261.48  4313.62  4261.32  4308.83    47.181009   \n1      1502946000000  4308.83  4328.69  4291.37  4315.32    23.234916   \n2      1502949600000  4330.29  4345.45  4309.37  4324.35     7.229691   \n3      1502953200000  4316.62  4349.99  4287.41  4349.99     4.443249   \n4      1502956800000  4333.32  4377.85  4333.32  4360.69     0.972807   \n...              ...      ...      ...      ...      ...          ...   \n23252  1587020400000  6688.63  6818.46  6686.39  6780.00  3399.164609   \n23253  1587024000000  6893.24  6923.52  6871.13  6888.30  1641.824781   \n23254  1587027600000  7045.30  7097.00  7017.00  7027.09  4302.835917   \n23255  1587031200000  7027.70  7061.80  7026.77  7040.00  1512.420788   \n23256  1587034800000  6952.81  7049.00  6939.01  7047.83  2354.284481   \n\n          close time  quote asset volume  number of trades  \\\n0      1502945999999        2.023661e+05               171   \n1      1502949599999        1.003048e+05               102   \n2      1502953199999        3.128231e+04                36   \n3      1502956799999        1.924106e+04                25   \n4      1502960399999        4.239504e+03                28   \n...              ...                 ...               ...   \n23252  1587023999999        2.300670e+07             22202   \n23253  1587027599999        1.132671e+07             12148   \n23254  1587031199999        3.038567e+07             31923   \n23255  1587034799999        1.066239e+07             12131   \n23256  1587038399999        1.645590e+07             19987   \n\n       taker buy base asset volume  taker buy quote asset volume  \n0                        35.160503                  1.509525e+05  \n1                        21.448071                  9.260828e+04  \n2                         4.802861                  2.079532e+04  \n3                         2.602292                  1.129135e+04  \n4                         0.814655                  3.552747e+03  \n...                            ...                           ...  \n23252                  1901.518707                  1.285952e+07  \n23253                   873.070968                  6.024127e+06  \n23254                  2361.179694                  1.667550e+07  \n23255                   938.969209                  6.619599e+06  \n23256                  1222.918716                  8.549023e+06  \n\n[23257 rows x 11 columns]",
      "text/html": "<div>\n<style scoped>\n    .dataframe tbody tr th:only-of-type {\n        vertical-align: middle;\n    }\n\n    .dataframe tbody tr th {\n        vertical-align: top;\n    }\n\n    .dataframe thead th {\n        text-align: right;\n    }\n</style>\n<table border=\"1\" class=\"dataframe\">\n  <thead>\n    <tr style=\"text-align: right;\">\n      <th></th>\n      <th>open time</th>\n      <th>open</th>\n      <th>high</th>\n      <th>low</th>\n      <th>close</th>\n      <th>volume</th>\n      <th>close time</th>\n      <th>quote asset volume</th>\n      <th>number of trades</th>\n      <th>taker buy base asset volume</th>\n      <th>taker buy quote asset volume</th>\n    </tr>\n  </thead>\n  <tbody>\n    <tr>\n      <th>0</th>\n      <td>1502942400000</td>\n      <td>4261.48</td>\n      <td>4313.62</td>\n      <td>4261.32</td>\n      <td>4308.83</td>\n      <td>47.181009</td>\n      <td>1502945999999</td>\n      <td>2.023661e+05</td>\n      <td>171</td>\n      <td>35.160503</td>\n      <td>1.509525e+05</td>\n    </tr>\n    <tr>\n      <th>1</th>\n      <td>1502946000000</td>\n      <td>4308.83</td>\n      <td>4328.69</td>\n      <td>4291.37</td>\n      <td>4315.32</td>\n      <td>23.234916</td>\n      <td>1502949599999</td>\n      <td>1.003048e+05</td>\n      <td>102</td>\n      <td>21.448071</td>\n      <td>9.260828e+04</td>\n    </tr>\n    <tr>\n      <th>2</th>\n      <td>1502949600000</td>\n      <td>4330.29</td>\n      <td>4345.45</td>\n      <td>4309.37</td>\n      <td>4324.35</td>\n      <td>7.229691</td>\n      <td>1502953199999</td>\n      <td>3.128231e+04</td>\n      <td>36</td>\n      <td>4.802861</td>\n      <td>2.079532e+04</td>\n    </tr>\n    <tr>\n      <th>3</th>\n      <td>1502953200000</td>\n      <td>4316.62</td>\n      <td>4349.99</td>\n      <td>4287.41</td>\n      <td>4349.99</td>\n      <td>4.443249</td>\n      <td>1502956799999</td>\n      <td>1.924106e+04</td>\n      <td>25</td>\n      <td>2.602292</td>\n      <td>1.129135e+04</td>\n    </tr>\n    <tr>\n      <th>4</th>\n      <td>1502956800000</td>\n      <td>4333.32</td>\n      <td>4377.85</td>\n      <td>4333.32</td>\n      <td>4360.69</td>\n      <td>0.972807</td>\n      <td>1502960399999</td>\n      <td>4.239504e+03</td>\n      <td>28</td>\n      <td>0.814655</td>\n      <td>3.552747e+03</td>\n    </tr>\n    <tr>\n      <th>...</th>\n      <td>...</td>\n      <td>...</td>\n      <td>...</td>\n      <td>...</td>\n      <td>...</td>\n      <td>...</td>\n      <td>...</td>\n      <td>...</td>\n      <td>...</td>\n      <td>...</td>\n      <td>...</td>\n    </tr>\n    <tr>\n      <th>23252</th>\n      <td>1587020400000</td>\n      <td>6688.63</td>\n      <td>6818.46</td>\n      <td>6686.39</td>\n      <td>6780.00</td>\n      <td>3399.164609</td>\n      <td>1587023999999</td>\n      <td>2.300670e+07</td>\n      <td>22202</td>\n      <td>1901.518707</td>\n      <td>1.285952e+07</td>\n    </tr>\n    <tr>\n      <th>23253</th>\n      <td>1587024000000</td>\n      <td>6893.24</td>\n      <td>6923.52</td>\n      <td>6871.13</td>\n      <td>6888.30</td>\n      <td>1641.824781</td>\n      <td>1587027599999</td>\n      <td>1.132671e+07</td>\n      <td>12148</td>\n      <td>873.070968</td>\n      <td>6.024127e+06</td>\n    </tr>\n    <tr>\n      <th>23254</th>\n      <td>1587027600000</td>\n      <td>7045.30</td>\n      <td>7097.00</td>\n      <td>7017.00</td>\n      <td>7027.09</td>\n      <td>4302.835917</td>\n      <td>1587031199999</td>\n      <td>3.038567e+07</td>\n      <td>31923</td>\n      <td>2361.179694</td>\n      <td>1.667550e+07</td>\n    </tr>\n    <tr>\n      <th>23255</th>\n      <td>1587031200000</td>\n      <td>7027.70</td>\n      <td>7061.80</td>\n      <td>7026.77</td>\n      <td>7040.00</td>\n      <td>1512.420788</td>\n      <td>1587034799999</td>\n      <td>1.066239e+07</td>\n      <td>12131</td>\n      <td>938.969209</td>\n      <td>6.619599e+06</td>\n    </tr>\n    <tr>\n      <th>23256</th>\n      <td>1587034800000</td>\n      <td>6952.81</td>\n      <td>7049.00</td>\n      <td>6939.01</td>\n      <td>7047.83</td>\n      <td>2354.284481</td>\n      <td>1587038399999</td>\n      <td>1.645590e+07</td>\n      <td>19987</td>\n      <td>1222.918716</td>\n      <td>8.549023e+06</td>\n    </tr>\n  </tbody>\n</table>\n<p>23257 rows × 11 columns</p>\n</div>"
     },
     "metadata": {},
     "execution_count": 3
    }
   ],
   "source": [
    "candlesticks = load_candlesticks(\"BTCUSDT\", \"1h\", custom_data_path=\"../../../tmp\")\n",
    "\n",
    "candlesticks"
   ]
  },
  {
   "cell_type": "code",
   "execution_count": 4,
   "metadata": {},
   "outputs": [
    {
     "output_type": "execute_result",
     "data": {
      "text/plain": "         open     high      low    close      volume  quote asset volume  \\\n0     4261.48  4313.62  4261.32  4308.83   47.181009        2.023661e+05   \n1     4308.83  4328.69  4291.37  4315.32   23.234916        1.003048e+05   \n2     4330.29  4345.45  4309.37  4324.35    7.229691        3.128231e+04   \n3     4316.62  4349.99  4287.41  4349.99    4.443249        1.924106e+04   \n4     4333.32  4377.85  4333.32  4360.69    0.972807        4.239504e+03   \n...       ...      ...      ...      ...         ...                 ...   \n1995  7438.00  7485.01  7425.00  7460.00   97.914733        7.288022e+05   \n1996  7460.00  7489.99  7428.25  7442.38   52.839960        3.943658e+05   \n1997  7468.99  7468.99  7352.51  7414.81   86.595162        6.407901e+05   \n1998  7417.70  7770.02  7352.16  7499.87  361.347742        2.731759e+06   \n1999  7499.87  7513.93  6651.00  7070.00  463.870762        3.291089e+06   \n\n      number of trades  taker buy base asset volume  \\\n0                  171                    35.160503   \n1                  102                    21.448071   \n2                   36                     4.802861   \n3                   25                     2.602292   \n4                   28                     0.814655   \n...                ...                          ...   \n1995               735                    21.834075   \n1996               640                    22.464537   \n1997               816                    35.861318   \n1998              2552                   206.895858   \n1999              3197                   180.031175   \n\n      taker buy quote asset volume   volume_adi  ...  \\\n0                     1.509525e+05    38.538675  ...   \n1                     9.260828e+04    45.125637  ...   \n2                     2.079532e+04    43.899314  ...   \n3                     1.129135e+04    48.342563  ...   \n4                     3.552747e+03    48.565612  ...   \n...                            ...          ...  ...   \n1995                  1.627530e+05  3324.498668  ...   \n1996                  1.677127e+05  3295.844929  ...   \n1997                  2.656635e+05  3301.881611  ...   \n1998                  1.564692e+06  3196.000652  ...   \n1999                  1.283307e+06  3182.599451  ...   \n\n      trend-macd_signal-15_5_3  momentum_roc-2  momentum_roc-3  \\\n0                          NaN             NaN             NaN   \n1                          NaN             NaN             NaN   \n2                          NaN        0.360191             NaN   \n3                          NaN        0.803417        0.955248   \n4                          NaN        0.840358        1.051370   \n...                        ...             ...             ...   \n1995                 80.073913        0.810811        0.865333   \n1996                 79.751422        0.166622        0.572703   \n1997                 73.850030       -0.605764       -0.204441   \n1998                 74.995736        0.772468        0.534450   \n1999                 31.593752       -4.650288       -5.003507   \n\n      momentum_roc-5  momentum_roc-10  momentum_roc-15  momentum_roc-20  \\\n0                NaN              NaN              NaN              NaN   \n1                NaN              NaN              NaN              NaN   \n2                NaN              NaN              NaN              NaN   \n3                NaN              NaN              NaN              NaN   \n4                NaN              NaN              NaN              NaN   \n...              ...              ...              ...              ...   \n1995        1.842586         1.773533         5.605291         5.815603   \n1996        1.397171         1.147191         5.267044         5.419432   \n1997        0.254327         0.608278         1.921787         5.654175   \n1998        1.349595         2.695601         2.766241         6.486866   \n1999       -4.845222        -3.635281        -3.569563         0.369108   \n\n      momentum_roc-30  momentum_roc-50  momentum_roc-80  \n0                 NaN              NaN              NaN  \n1                 NaN              NaN              NaN  \n2                 NaN              NaN              NaN  \n3                 NaN              NaN              NaN  \n4                 NaN              NaN              NaN  \n...               ...              ...              ...  \n1995         4.030121         0.811083         0.134631  \n1996         4.138023         1.598712         0.590510  \n1997         3.979655         1.713048         0.328393  \n1998         4.738742         3.703524         1.119070  \n1999        -1.395250        -1.256983        -4.654145  \n\n[2000 rows x 99 columns]",
      "text/html": "<div>\n<style scoped>\n    .dataframe tbody tr th:only-of-type {\n        vertical-align: middle;\n    }\n\n    .dataframe tbody tr th {\n        vertical-align: top;\n    }\n\n    .dataframe thead th {\n        text-align: right;\n    }\n</style>\n<table border=\"1\" class=\"dataframe\">\n  <thead>\n    <tr style=\"text-align: right;\">\n      <th></th>\n      <th>open</th>\n      <th>high</th>\n      <th>low</th>\n      <th>close</th>\n      <th>volume</th>\n      <th>quote asset volume</th>\n      <th>number of trades</th>\n      <th>taker buy base asset volume</th>\n      <th>taker buy quote asset volume</th>\n      <th>volume_adi</th>\n      <th>...</th>\n      <th>trend-macd_signal-15_5_3</th>\n      <th>momentum_roc-2</th>\n      <th>momentum_roc-3</th>\n      <th>momentum_roc-5</th>\n      <th>momentum_roc-10</th>\n      <th>momentum_roc-15</th>\n      <th>momentum_roc-20</th>\n      <th>momentum_roc-30</th>\n      <th>momentum_roc-50</th>\n      <th>momentum_roc-80</th>\n    </tr>\n  </thead>\n  <tbody>\n    <tr>\n      <th>0</th>\n      <td>4261.48</td>\n      <td>4313.62</td>\n      <td>4261.32</td>\n      <td>4308.83</td>\n      <td>47.181009</td>\n      <td>2.023661e+05</td>\n      <td>171</td>\n      <td>35.160503</td>\n      <td>1.509525e+05</td>\n      <td>38.538675</td>\n      <td>...</td>\n      <td>NaN</td>\n      <td>NaN</td>\n      <td>NaN</td>\n      <td>NaN</td>\n      <td>NaN</td>\n      <td>NaN</td>\n      <td>NaN</td>\n      <td>NaN</td>\n      <td>NaN</td>\n      <td>NaN</td>\n    </tr>\n    <tr>\n      <th>1</th>\n      <td>4308.83</td>\n      <td>4328.69</td>\n      <td>4291.37</td>\n      <td>4315.32</td>\n      <td>23.234916</td>\n      <td>1.003048e+05</td>\n      <td>102</td>\n      <td>21.448071</td>\n      <td>9.260828e+04</td>\n      <td>45.125637</td>\n      <td>...</td>\n      <td>NaN</td>\n      <td>NaN</td>\n      <td>NaN</td>\n      <td>NaN</td>\n      <td>NaN</td>\n      <td>NaN</td>\n      <td>NaN</td>\n      <td>NaN</td>\n      <td>NaN</td>\n      <td>NaN</td>\n    </tr>\n    <tr>\n      <th>2</th>\n      <td>4330.29</td>\n      <td>4345.45</td>\n      <td>4309.37</td>\n      <td>4324.35</td>\n      <td>7.229691</td>\n      <td>3.128231e+04</td>\n      <td>36</td>\n      <td>4.802861</td>\n      <td>2.079532e+04</td>\n      <td>43.899314</td>\n      <td>...</td>\n      <td>NaN</td>\n      <td>0.360191</td>\n      <td>NaN</td>\n      <td>NaN</td>\n      <td>NaN</td>\n      <td>NaN</td>\n      <td>NaN</td>\n      <td>NaN</td>\n      <td>NaN</td>\n      <td>NaN</td>\n    </tr>\n    <tr>\n      <th>3</th>\n      <td>4316.62</td>\n      <td>4349.99</td>\n      <td>4287.41</td>\n      <td>4349.99</td>\n      <td>4.443249</td>\n      <td>1.924106e+04</td>\n      <td>25</td>\n      <td>2.602292</td>\n      <td>1.129135e+04</td>\n      <td>48.342563</td>\n      <td>...</td>\n      <td>NaN</td>\n      <td>0.803417</td>\n      <td>0.955248</td>\n      <td>NaN</td>\n      <td>NaN</td>\n      <td>NaN</td>\n      <td>NaN</td>\n      <td>NaN</td>\n      <td>NaN</td>\n      <td>NaN</td>\n    </tr>\n    <tr>\n      <th>4</th>\n      <td>4333.32</td>\n      <td>4377.85</td>\n      <td>4333.32</td>\n      <td>4360.69</td>\n      <td>0.972807</td>\n      <td>4.239504e+03</td>\n      <td>28</td>\n      <td>0.814655</td>\n      <td>3.552747e+03</td>\n      <td>48.565612</td>\n      <td>...</td>\n      <td>NaN</td>\n      <td>0.840358</td>\n      <td>1.051370</td>\n      <td>NaN</td>\n      <td>NaN</td>\n      <td>NaN</td>\n      <td>NaN</td>\n      <td>NaN</td>\n      <td>NaN</td>\n      <td>NaN</td>\n    </tr>\n    <tr>\n      <th>...</th>\n      <td>...</td>\n      <td>...</td>\n      <td>...</td>\n      <td>...</td>\n      <td>...</td>\n      <td>...</td>\n      <td>...</td>\n      <td>...</td>\n      <td>...</td>\n      <td>...</td>\n      <td>...</td>\n      <td>...</td>\n      <td>...</td>\n      <td>...</td>\n      <td>...</td>\n      <td>...</td>\n      <td>...</td>\n      <td>...</td>\n      <td>...</td>\n      <td>...</td>\n      <td>...</td>\n    </tr>\n    <tr>\n      <th>1995</th>\n      <td>7438.00</td>\n      <td>7485.01</td>\n      <td>7425.00</td>\n      <td>7460.00</td>\n      <td>97.914733</td>\n      <td>7.288022e+05</td>\n      <td>735</td>\n      <td>21.834075</td>\n      <td>1.627530e+05</td>\n      <td>3324.498668</td>\n      <td>...</td>\n      <td>80.073913</td>\n      <td>0.810811</td>\n      <td>0.865333</td>\n      <td>1.842586</td>\n      <td>1.773533</td>\n      <td>5.605291</td>\n      <td>5.815603</td>\n      <td>4.030121</td>\n      <td>0.811083</td>\n      <td>0.134631</td>\n    </tr>\n    <tr>\n      <th>1996</th>\n      <td>7460.00</td>\n      <td>7489.99</td>\n      <td>7428.25</td>\n      <td>7442.38</td>\n      <td>52.839960</td>\n      <td>3.943658e+05</td>\n      <td>640</td>\n      <td>22.464537</td>\n      <td>1.677127e+05</td>\n      <td>3295.844929</td>\n      <td>...</td>\n      <td>79.751422</td>\n      <td>0.166622</td>\n      <td>0.572703</td>\n      <td>1.397171</td>\n      <td>1.147191</td>\n      <td>5.267044</td>\n      <td>5.419432</td>\n      <td>4.138023</td>\n      <td>1.598712</td>\n      <td>0.590510</td>\n    </tr>\n    <tr>\n      <th>1997</th>\n      <td>7468.99</td>\n      <td>7468.99</td>\n      <td>7352.51</td>\n      <td>7414.81</td>\n      <td>86.595162</td>\n      <td>6.407901e+05</td>\n      <td>816</td>\n      <td>35.861318</td>\n      <td>2.656635e+05</td>\n      <td>3301.881611</td>\n      <td>...</td>\n      <td>73.850030</td>\n      <td>-0.605764</td>\n      <td>-0.204441</td>\n      <td>0.254327</td>\n      <td>0.608278</td>\n      <td>1.921787</td>\n      <td>5.654175</td>\n      <td>3.979655</td>\n      <td>1.713048</td>\n      <td>0.328393</td>\n    </tr>\n    <tr>\n      <th>1998</th>\n      <td>7417.70</td>\n      <td>7770.02</td>\n      <td>7352.16</td>\n      <td>7499.87</td>\n      <td>361.347742</td>\n      <td>2.731759e+06</td>\n      <td>2552</td>\n      <td>206.895858</td>\n      <td>1.564692e+06</td>\n      <td>3196.000652</td>\n      <td>...</td>\n      <td>74.995736</td>\n      <td>0.772468</td>\n      <td>0.534450</td>\n      <td>1.349595</td>\n      <td>2.695601</td>\n      <td>2.766241</td>\n      <td>6.486866</td>\n      <td>4.738742</td>\n      <td>3.703524</td>\n      <td>1.119070</td>\n    </tr>\n    <tr>\n      <th>1999</th>\n      <td>7499.87</td>\n      <td>7513.93</td>\n      <td>6651.00</td>\n      <td>7070.00</td>\n      <td>463.870762</td>\n      <td>3.291089e+06</td>\n      <td>3197</td>\n      <td>180.031175</td>\n      <td>1.283307e+06</td>\n      <td>3182.599451</td>\n      <td>...</td>\n      <td>31.593752</td>\n      <td>-4.650288</td>\n      <td>-5.003507</td>\n      <td>-4.845222</td>\n      <td>-3.635281</td>\n      <td>-3.569563</td>\n      <td>0.369108</td>\n      <td>-1.395250</td>\n      <td>-1.256983</td>\n      <td>-4.654145</td>\n    </tr>\n  </tbody>\n</table>\n<p>2000 rows × 99 columns</p>\n</div>"
     },
     "metadata": {},
     "execution_count": 4
    }
   ],
   "source": [
    "features = RegressionSklienModel.generate_features(candlesticks, pd.DataFrame(index=candlesticks.index))\n",
    "target = RegressionSklienModel.generate_target(candlesticks, features)\n",
    "\n",
    "features.head(2000)"
   ]
  },
  {
   "cell_type": "code",
   "execution_count": 5,
   "metadata": {},
   "outputs": [
    {
     "output_type": "execute_result",
     "data": {
      "text/plain": "count    23257.000000\nmean         0.149374\nstd          2.627953\nmin         -5.000000\n25%         -2.000000\n50%          0.000000\n75%          2.000000\nmax          5.000000\nName: target, dtype: float64"
     },
     "metadata": {},
     "execution_count": 5
    }
   ],
   "source": [
    "target.describe()"
   ]
  },
  {
   "cell_type": "code",
   "execution_count": 12,
   "metadata": {},
   "outputs": [],
   "source": [
    "(\n",
    "    training_set_features,\n",
    "    training_set_targets,\n",
    "    test_set_features,\n",
    "    test_set_targets,\n",
    ") = split_features_and_target_into_train_and_test_set(features, {0: target}, 20)"
   ]
  },
  {
   "cell_type": "code",
   "execution_count": 7,
   "metadata": {},
   "outputs": [],
   "source": [
    "# scatte = scatter_matrix(test_set_features.iloc[:, -5:], c=test_set_target.iloc[:], s=40, hist_kwds={\"bins\": 15}, figsize=(20,20))"
   ]
  },
  {
   "cell_type": "code",
   "execution_count": 14,
   "metadata": {},
   "outputs": [
    {
     "output_type": "execute_result",
     "data": {
      "text/plain": "-9.433460595245597"
     },
     "metadata": {},
     "execution_count": 14
    }
   ],
   "source": [
    "raw_model = xgb.XGBRegressor(objective=\"reg:squarederror\")\n",
    "\n",
    "param_dist = {'n_estimators': stats.randint(150, 1000),\n",
    "              'learning_rate': stats.uniform(0.01, 0.6),\n",
    "              'subsample': stats.uniform(0.3, 0.9),\n",
    "              'max_depth': [3, 4, 5, 6, 7, 8, 9, 10, 11, 12, 13, 14, 15, 25],\n",
    "              'colsample_bytree': stats.uniform(0.5, 0.9),\n",
    "              'min_child_weight': [1, 2, 3, 4, 5, 10]\n",
    "             }\n",
    "rmse = make_scorer(mean_squared_error, greater_is_better=False)\n",
    "\n",
    "r = RandomizedSearchCV(raw_model, param_distributions=param_dist,\n",
    "                       scoring=rmse,\n",
    "                       n_iter=3,\n",
    "                       n_jobs=2)\n",
    "r.fit(training_set_features, training_set_targets[0])\n",
    "\n",
    "r.score(test_set_features, test_set_targets[0])\n",
    ""
   ]
  },
  {
   "cell_type": "code",
   "execution_count": 15,
   "metadata": {},
   "outputs": [
    {
     "output_type": "execute_result",
     "data": {
      "text/plain": "{'colsample_bytree': 0.7093174849510205,\n 'learning_rate': 0.4729792056798079,\n 'max_depth': 13,\n 'min_child_weight': 2,\n 'n_estimators': 937,\n 'subsample': 0.9666213133434363}"
     },
     "metadata": {},
     "execution_count": 15
    }
   ],
   "source": [
    "r.best_params_\n",
    ""
   ]
  },
  {
   "cell_type": "code",
   "execution_count": null,
   "metadata": {},
   "outputs": [],
   "source": []
  }
 ]
}