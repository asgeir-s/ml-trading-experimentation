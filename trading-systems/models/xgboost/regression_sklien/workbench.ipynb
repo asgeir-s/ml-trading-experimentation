{
 "nbformat": 4,
 "nbformat_minor": 2,
 "metadata": {
  "language_info": {
   "name": "python",
   "codemirror_mode": {
    "name": "ipython",
    "version": 3
   },
   "version": "3.7.7-final"
  },
  "orig_nbformat": 2,
  "file_extension": ".py",
  "mimetype": "text/x-python",
  "name": "python",
  "npconvert_exporter": "python",
  "pygments_lexer": "ipython3",
  "version": 3,
  "kernelspec": {
   "name": "python3",
   "display_name": "Python 3"
  }
 },
 "cells": [
  {
   "cell_type": "code",
   "execution_count": 12,
   "metadata": {},
   "outputs": [],
   "source": [
    "import os, sys\n",
    "\n",
    "sys.path.insert(0, os.path.abspath(\"../../..\"))"
   ]
  },
  {
   "cell_type": "code",
   "execution_count": 13,
   "metadata": {},
   "outputs": [],
   "source": [
    "from models.xgboost.model_3.model import RegressionSklienModel\n",
    "import pandas as pd\n",
    "from pandas.plotting import scatter_matrix\n",
    "from lib.data_splitter import split_features_and_target_into_train_and_test_set\n",
    "from lib.data_util import load_candlesticks\n",
    "import xgboost as xgb\n",
    "from sklearn.metrics import mean_squared_error, make_scorer\n",
    "from scipy import stats\n",
    "from sklearn.model_selection import RandomizedSearchCV\n",
    ""
   ]
  },
  {
   "cell_type": "code",
   "execution_count": 14,
   "metadata": {},
   "outputs": [
    {
     "output_type": "execute_result",
     "data": {
      "text/plain": "           open time     open     high      low    close       volume  \\\n0      1502942400000  4261.48  4313.62  4261.32  4308.83    47.181009   \n1      1502946000000  4308.83  4328.69  4291.37  4315.32    23.234916   \n2      1502949600000  4330.29  4345.45  4309.37  4324.35     7.229691   \n3      1502953200000  4316.62  4349.99  4287.41  4349.99     4.443249   \n4      1502956800000  4333.32  4377.85  4333.32  4360.69     0.972807   \n...              ...      ...      ...      ...      ...          ...   \n23252  1587020400000  6688.63  6818.46  6686.39  6780.00  3399.164609   \n23253  1587024000000  6893.24  6923.52  6871.13  6888.30  1641.824781   \n23254  1587027600000  7045.30  7097.00  7017.00  7027.09  4302.835917   \n23255  1587031200000  7027.70  7061.80  7026.77  7040.00  1512.420788   \n23256  1587034800000  6952.81  7049.00  6939.01  7047.83  2354.284481   \n\n          close time  quote asset volume  number of trades  \\\n0      1502945999999        2.023661e+05               171   \n1      1502949599999        1.003048e+05               102   \n2      1502953199999        3.128231e+04                36   \n3      1502956799999        1.924106e+04                25   \n4      1502960399999        4.239504e+03                28   \n...              ...                 ...               ...   \n23252  1587023999999        2.300670e+07             22202   \n23253  1587027599999        1.132671e+07             12148   \n23254  1587031199999        3.038567e+07             31923   \n23255  1587034799999        1.066239e+07             12131   \n23256  1587038399999        1.645590e+07             19987   \n\n       taker buy base asset volume  taker buy quote asset volume  \n0                        35.160503                  1.509525e+05  \n1                        21.448071                  9.260828e+04  \n2                         4.802861                  2.079532e+04  \n3                         2.602292                  1.129135e+04  \n4                         0.814655                  3.552747e+03  \n...                            ...                           ...  \n23252                  1901.518707                  1.285952e+07  \n23253                   873.070968                  6.024127e+06  \n23254                  2361.179694                  1.667550e+07  \n23255                   938.969209                  6.619599e+06  \n23256                  1222.918716                  8.549023e+06  \n\n[23257 rows x 11 columns]",
      "text/html": "<div>\n<style scoped>\n    .dataframe tbody tr th:only-of-type {\n        vertical-align: middle;\n    }\n\n    .dataframe tbody tr th {\n        vertical-align: top;\n    }\n\n    .dataframe thead th {\n        text-align: right;\n    }\n</style>\n<table border=\"1\" class=\"dataframe\">\n  <thead>\n    <tr style=\"text-align: right;\">\n      <th></th>\n      <th>open time</th>\n      <th>open</th>\n      <th>high</th>\n      <th>low</th>\n      <th>close</th>\n      <th>volume</th>\n      <th>close time</th>\n      <th>quote asset volume</th>\n      <th>number of trades</th>\n      <th>taker buy base asset volume</th>\n      <th>taker buy quote asset volume</th>\n    </tr>\n  </thead>\n  <tbody>\n    <tr>\n      <th>0</th>\n      <td>1502942400000</td>\n      <td>4261.48</td>\n      <td>4313.62</td>\n      <td>4261.32</td>\n      <td>4308.83</td>\n      <td>47.181009</td>\n      <td>1502945999999</td>\n      <td>2.023661e+05</td>\n      <td>171</td>\n      <td>35.160503</td>\n      <td>1.509525e+05</td>\n    </tr>\n    <tr>\n      <th>1</th>\n      <td>1502946000000</td>\n      <td>4308.83</td>\n      <td>4328.69</td>\n      <td>4291.37</td>\n      <td>4315.32</td>\n      <td>23.234916</td>\n      <td>1502949599999</td>\n      <td>1.003048e+05</td>\n      <td>102</td>\n      <td>21.448071</td>\n      <td>9.260828e+04</td>\n    </tr>\n    <tr>\n      <th>2</th>\n      <td>1502949600000</td>\n      <td>4330.29</td>\n      <td>4345.45</td>\n      <td>4309.37</td>\n      <td>4324.35</td>\n      <td>7.229691</td>\n      <td>1502953199999</td>\n      <td>3.128231e+04</td>\n      <td>36</td>\n      <td>4.802861</td>\n      <td>2.079532e+04</td>\n    </tr>\n    <tr>\n      <th>3</th>\n      <td>1502953200000</td>\n      <td>4316.62</td>\n      <td>4349.99</td>\n      <td>4287.41</td>\n      <td>4349.99</td>\n      <td>4.443249</td>\n      <td>1502956799999</td>\n      <td>1.924106e+04</td>\n      <td>25</td>\n      <td>2.602292</td>\n      <td>1.129135e+04</td>\n    </tr>\n    <tr>\n      <th>4</th>\n      <td>1502956800000</td>\n      <td>4333.32</td>\n      <td>4377.85</td>\n      <td>4333.32</td>\n      <td>4360.69</td>\n      <td>0.972807</td>\n      <td>1502960399999</td>\n      <td>4.239504e+03</td>\n      <td>28</td>\n      <td>0.814655</td>\n      <td>3.552747e+03</td>\n    </tr>\n    <tr>\n      <th>...</th>\n      <td>...</td>\n      <td>...</td>\n      <td>...</td>\n      <td>...</td>\n      <td>...</td>\n      <td>...</td>\n      <td>...</td>\n      <td>...</td>\n      <td>...</td>\n      <td>...</td>\n      <td>...</td>\n    </tr>\n    <tr>\n      <th>23252</th>\n      <td>1587020400000</td>\n      <td>6688.63</td>\n      <td>6818.46</td>\n      <td>6686.39</td>\n      <td>6780.00</td>\n      <td>3399.164609</td>\n      <td>1587023999999</td>\n      <td>2.300670e+07</td>\n      <td>22202</td>\n      <td>1901.518707</td>\n      <td>1.285952e+07</td>\n    </tr>\n    <tr>\n      <th>23253</th>\n      <td>1587024000000</td>\n      <td>6893.24</td>\n      <td>6923.52</td>\n      <td>6871.13</td>\n      <td>6888.30</td>\n      <td>1641.824781</td>\n      <td>1587027599999</td>\n      <td>1.132671e+07</td>\n      <td>12148</td>\n      <td>873.070968</td>\n      <td>6.024127e+06</td>\n    </tr>\n    <tr>\n      <th>23254</th>\n      <td>1587027600000</td>\n      <td>7045.30</td>\n      <td>7097.00</td>\n      <td>7017.00</td>\n      <td>7027.09</td>\n      <td>4302.835917</td>\n      <td>1587031199999</td>\n      <td>3.038567e+07</td>\n      <td>31923</td>\n      <td>2361.179694</td>\n      <td>1.667550e+07</td>\n    </tr>\n    <tr>\n      <th>23255</th>\n      <td>1587031200000</td>\n      <td>7027.70</td>\n      <td>7061.80</td>\n      <td>7026.77</td>\n      <td>7040.00</td>\n      <td>1512.420788</td>\n      <td>1587034799999</td>\n      <td>1.066239e+07</td>\n      <td>12131</td>\n      <td>938.969209</td>\n      <td>6.619599e+06</td>\n    </tr>\n    <tr>\n      <th>23256</th>\n      <td>1587034800000</td>\n      <td>6952.81</td>\n      <td>7049.00</td>\n      <td>6939.01</td>\n      <td>7047.83</td>\n      <td>2354.284481</td>\n      <td>1587038399999</td>\n      <td>1.645590e+07</td>\n      <td>19987</td>\n      <td>1222.918716</td>\n      <td>8.549023e+06</td>\n    </tr>\n  </tbody>\n</table>\n<p>23257 rows × 11 columns</p>\n</div>"
     },
     "metadata": {},
     "execution_count": 14
    }
   ],
   "source": [
    "candlesticks = load_candlesticks(\"BTCUSDT\", \"1h\", custom_tmp_path=\"../../../tmp\")\n",
    "\n",
    "candlesticks"
   ]
  },
  {
   "cell_type": "code",
   "execution_count": 15,
   "metadata": {},
   "outputs": [
    {
     "output_type": "execute_result",
     "data": {
      "text/plain": "0        5.0\n1        5.0\n2        4.0\n3        3.0\n4        3.0\n        ... \n23252    4.0\n23253    3.0\n23254    2.0\n23255    1.0\n23256    0.0\nName: target, Length: 23257, dtype: float64"
     },
     "metadata": {},
     "execution_count": 15
    }
   ],
   "source": [
    "features = RegressionSklienModel.generate_features(candlesticks)\n",
    "target = RegressionSklienModel.generate_target(features)\n",
    "\n",
    "target"
   ]
  },
  {
   "cell_type": "code",
   "execution_count": 16,
   "metadata": {},
   "outputs": [
    {
     "output_type": "execute_result",
     "data": {
      "text/plain": "count    23257.000000\nmean         0.149374\nstd          2.627953\nmin         -5.000000\n25%         -2.000000\n50%          0.000000\n75%          2.000000\nmax          5.000000\nName: target, dtype: float64"
     },
     "metadata": {},
     "execution_count": 16
    }
   ],
   "source": [
    "target.describe()"
   ]
  },
  {
   "cell_type": "code",
   "execution_count": 17,
   "metadata": {},
   "outputs": [],
   "source": [
    "(\n",
    "    training_set_features,\n",
    "    training_set_target,\n",
    "    test_set_features,\n",
    "    test_set_target,\n",
    ") = split_features_and_target_into_train_and_test_set(features, target, 20)"
   ]
  },
  {
   "cell_type": "code",
   "execution_count": 18,
   "metadata": {},
   "outputs": [],
   "source": [
    "# scatte = scatter_matrix(test_set_features.iloc[:, -5:], c=test_set_target.iloc[:], s=40, hist_kwds={\"bins\": 15}, figsize=(20,20))"
   ]
  },
  {
   "cell_type": "code",
   "execution_count": 33,
   "metadata": {},
   "outputs": [
    {
     "output_type": "error",
     "ename": "XGBoostError",
     "evalue": "value 1.38482 for Parameter colsample_bytree exceed bound [0,1]\ncolsample_bytree: Subsample ratio of columns, resample on each tree construction.",
     "traceback": [
      "\u001b[0;31m---------------------------------------------------------------------------\u001b[0m",
      "\u001b[0;31mXGBoostError\u001b[0m                              Traceback (most recent call last)",
      "\u001b[0;32m<ipython-input-33-c44bf4afe303>\u001b[0m in \u001b[0;36m<module>\u001b[0;34m\u001b[0m\n\u001b[1;32m     14\u001b[0m                        \u001b[0mn_iter\u001b[0m\u001b[0;34m=\u001b[0m\u001b[0;36m3\u001b[0m\u001b[0;34m,\u001b[0m\u001b[0;34m\u001b[0m\u001b[0;34m\u001b[0m\u001b[0m\n\u001b[1;32m     15\u001b[0m                        n_jobs=2)\n\u001b[0;32m---> 16\u001b[0;31m \u001b[0mr\u001b[0m\u001b[0;34m.\u001b[0m\u001b[0mfit\u001b[0m\u001b[0;34m(\u001b[0m\u001b[0mtraining_set_features\u001b[0m\u001b[0;34m,\u001b[0m \u001b[0mtraining_set_target\u001b[0m\u001b[0;34m)\u001b[0m\u001b[0;34m\u001b[0m\u001b[0;34m\u001b[0m\u001b[0m\n\u001b[0m\u001b[1;32m     17\u001b[0m \u001b[0;34m\u001b[0m\u001b[0m\n\u001b[1;32m     18\u001b[0m \u001b[0mr\u001b[0m\u001b[0;34m.\u001b[0m\u001b[0mscore\u001b[0m\u001b[0;34m(\u001b[0m\u001b[0mtest_set_features\u001b[0m\u001b[0;34m,\u001b[0m \u001b[0mtest_set_target\u001b[0m\u001b[0;34m)\u001b[0m\u001b[0;34m\u001b[0m\u001b[0;34m\u001b[0m\u001b[0m\n",
      "\u001b[0;32m~/dev/cluda/tb2/tb2-local/trading-systems/conda-env/lib/python3.7/site-packages/sklearn/model_selection/_search.py\u001b[0m in \u001b[0;36mfit\u001b[0;34m(self, X, y, groups, **fit_params)\u001b[0m\n\u001b[1;32m    737\u001b[0m             \u001b[0mrefit_start_time\u001b[0m \u001b[0;34m=\u001b[0m \u001b[0mtime\u001b[0m\u001b[0;34m.\u001b[0m\u001b[0mtime\u001b[0m\u001b[0;34m(\u001b[0m\u001b[0;34m)\u001b[0m\u001b[0;34m\u001b[0m\u001b[0;34m\u001b[0m\u001b[0m\n\u001b[1;32m    738\u001b[0m             \u001b[0;32mif\u001b[0m \u001b[0my\u001b[0m \u001b[0;32mis\u001b[0m \u001b[0;32mnot\u001b[0m \u001b[0;32mNone\u001b[0m\u001b[0;34m:\u001b[0m\u001b[0;34m\u001b[0m\u001b[0;34m\u001b[0m\u001b[0m\n\u001b[0;32m--> 739\u001b[0;31m                 \u001b[0mself\u001b[0m\u001b[0;34m.\u001b[0m\u001b[0mbest_estimator_\u001b[0m\u001b[0;34m.\u001b[0m\u001b[0mfit\u001b[0m\u001b[0;34m(\u001b[0m\u001b[0mX\u001b[0m\u001b[0;34m,\u001b[0m \u001b[0my\u001b[0m\u001b[0;34m,\u001b[0m \u001b[0;34m**\u001b[0m\u001b[0mfit_params\u001b[0m\u001b[0;34m)\u001b[0m\u001b[0;34m\u001b[0m\u001b[0;34m\u001b[0m\u001b[0m\n\u001b[0m\u001b[1;32m    740\u001b[0m             \u001b[0;32melse\u001b[0m\u001b[0;34m:\u001b[0m\u001b[0;34m\u001b[0m\u001b[0;34m\u001b[0m\u001b[0m\n\u001b[1;32m    741\u001b[0m                 \u001b[0mself\u001b[0m\u001b[0;34m.\u001b[0m\u001b[0mbest_estimator_\u001b[0m\u001b[0;34m.\u001b[0m\u001b[0mfit\u001b[0m\u001b[0;34m(\u001b[0m\u001b[0mX\u001b[0m\u001b[0;34m,\u001b[0m \u001b[0;34m**\u001b[0m\u001b[0mfit_params\u001b[0m\u001b[0;34m)\u001b[0m\u001b[0;34m\u001b[0m\u001b[0;34m\u001b[0m\u001b[0m\n",
      "\u001b[0;32m~/dev/cluda/tb2/tb2-local/trading-systems/conda-env/lib/python3.7/site-packages/xgboost/sklearn.py\u001b[0m in \u001b[0;36mfit\u001b[0;34m(self, X, y, sample_weight, base_margin, eval_set, eval_metric, early_stopping_rounds, verbose, xgb_model, sample_weight_eval_set, callbacks)\u001b[0m\n\u001b[1;32m    547\u001b[0m                               \u001b[0mevals_result\u001b[0m\u001b[0;34m=\u001b[0m\u001b[0mevals_result\u001b[0m\u001b[0;34m,\u001b[0m \u001b[0mobj\u001b[0m\u001b[0;34m=\u001b[0m\u001b[0mobj\u001b[0m\u001b[0;34m,\u001b[0m \u001b[0mfeval\u001b[0m\u001b[0;34m=\u001b[0m\u001b[0mfeval\u001b[0m\u001b[0;34m,\u001b[0m\u001b[0;34m\u001b[0m\u001b[0;34m\u001b[0m\u001b[0m\n\u001b[1;32m    548\u001b[0m                               \u001b[0mverbose_eval\u001b[0m\u001b[0;34m=\u001b[0m\u001b[0mverbose\u001b[0m\u001b[0;34m,\u001b[0m \u001b[0mxgb_model\u001b[0m\u001b[0;34m=\u001b[0m\u001b[0mxgb_model\u001b[0m\u001b[0;34m,\u001b[0m\u001b[0;34m\u001b[0m\u001b[0;34m\u001b[0m\u001b[0m\n\u001b[0;32m--> 549\u001b[0;31m                               callbacks=callbacks)\n\u001b[0m\u001b[1;32m    550\u001b[0m \u001b[0;34m\u001b[0m\u001b[0m\n\u001b[1;32m    551\u001b[0m         \u001b[0;32mif\u001b[0m \u001b[0mevals_result\u001b[0m\u001b[0;34m:\u001b[0m\u001b[0;34m\u001b[0m\u001b[0;34m\u001b[0m\u001b[0m\n",
      "\u001b[0;32m~/dev/cluda/tb2/tb2-local/trading-systems/conda-env/lib/python3.7/site-packages/xgboost/training.py\u001b[0m in \u001b[0;36mtrain\u001b[0;34m(params, dtrain, num_boost_round, evals, obj, feval, maximize, early_stopping_rounds, evals_result, verbose_eval, xgb_model, callbacks)\u001b[0m\n\u001b[1;32m    207\u001b[0m                            \u001b[0mevals\u001b[0m\u001b[0;34m=\u001b[0m\u001b[0mevals\u001b[0m\u001b[0;34m,\u001b[0m\u001b[0;34m\u001b[0m\u001b[0;34m\u001b[0m\u001b[0m\n\u001b[1;32m    208\u001b[0m                            \u001b[0mobj\u001b[0m\u001b[0;34m=\u001b[0m\u001b[0mobj\u001b[0m\u001b[0;34m,\u001b[0m \u001b[0mfeval\u001b[0m\u001b[0;34m=\u001b[0m\u001b[0mfeval\u001b[0m\u001b[0;34m,\u001b[0m\u001b[0;34m\u001b[0m\u001b[0;34m\u001b[0m\u001b[0m\n\u001b[0;32m--> 209\u001b[0;31m                            xgb_model=xgb_model, callbacks=callbacks)\n\u001b[0m\u001b[1;32m    210\u001b[0m \u001b[0;34m\u001b[0m\u001b[0m\n\u001b[1;32m    211\u001b[0m \u001b[0;34m\u001b[0m\u001b[0m\n",
      "\u001b[0;32m~/dev/cluda/tb2/tb2-local/trading-systems/conda-env/lib/python3.7/site-packages/xgboost/training.py\u001b[0m in \u001b[0;36m_train_internal\u001b[0;34m(params, dtrain, num_boost_round, evals, obj, feval, xgb_model, callbacks)\u001b[0m\n\u001b[1;32m     72\u001b[0m         \u001b[0;31m# Skip the first update if it is a recovery step.\u001b[0m\u001b[0;34m\u001b[0m\u001b[0;34m\u001b[0m\u001b[0;34m\u001b[0m\u001b[0m\n\u001b[1;32m     73\u001b[0m         \u001b[0;32mif\u001b[0m \u001b[0mversion\u001b[0m \u001b[0;34m%\u001b[0m \u001b[0;36m2\u001b[0m \u001b[0;34m==\u001b[0m \u001b[0;36m0\u001b[0m\u001b[0;34m:\u001b[0m\u001b[0;34m\u001b[0m\u001b[0;34m\u001b[0m\u001b[0m\n\u001b[0;32m---> 74\u001b[0;31m             \u001b[0mbst\u001b[0m\u001b[0;34m.\u001b[0m\u001b[0mupdate\u001b[0m\u001b[0;34m(\u001b[0m\u001b[0mdtrain\u001b[0m\u001b[0;34m,\u001b[0m \u001b[0mi\u001b[0m\u001b[0;34m,\u001b[0m \u001b[0mobj\u001b[0m\u001b[0;34m)\u001b[0m\u001b[0;34m\u001b[0m\u001b[0;34m\u001b[0m\u001b[0m\n\u001b[0m\u001b[1;32m     75\u001b[0m             \u001b[0mbst\u001b[0m\u001b[0;34m.\u001b[0m\u001b[0msave_rabit_checkpoint\u001b[0m\u001b[0;34m(\u001b[0m\u001b[0;34m)\u001b[0m\u001b[0;34m\u001b[0m\u001b[0;34m\u001b[0m\u001b[0m\n\u001b[1;32m     76\u001b[0m             \u001b[0mversion\u001b[0m \u001b[0;34m+=\u001b[0m \u001b[0;36m1\u001b[0m\u001b[0;34m\u001b[0m\u001b[0;34m\u001b[0m\u001b[0m\n",
      "\u001b[0;32m~/dev/cluda/tb2/tb2-local/trading-systems/conda-env/lib/python3.7/site-packages/xgboost/core.py\u001b[0m in \u001b[0;36mupdate\u001b[0;34m(self, dtrain, iteration, fobj)\u001b[0m\n\u001b[1;32m   1247\u001b[0m             _check_call(_LIB.XGBoosterUpdateOneIter(self.handle,\n\u001b[1;32m   1248\u001b[0m                                                     \u001b[0mctypes\u001b[0m\u001b[0;34m.\u001b[0m\u001b[0mc_int\u001b[0m\u001b[0;34m(\u001b[0m\u001b[0miteration\u001b[0m\u001b[0;34m)\u001b[0m\u001b[0;34m,\u001b[0m\u001b[0;34m\u001b[0m\u001b[0;34m\u001b[0m\u001b[0m\n\u001b[0;32m-> 1249\u001b[0;31m                                                     dtrain.handle))\n\u001b[0m\u001b[1;32m   1250\u001b[0m         \u001b[0;32melse\u001b[0m\u001b[0;34m:\u001b[0m\u001b[0;34m\u001b[0m\u001b[0;34m\u001b[0m\u001b[0m\n\u001b[1;32m   1251\u001b[0m             \u001b[0mpred\u001b[0m \u001b[0;34m=\u001b[0m \u001b[0mself\u001b[0m\u001b[0;34m.\u001b[0m\u001b[0mpredict\u001b[0m\u001b[0;34m(\u001b[0m\u001b[0mdtrain\u001b[0m\u001b[0;34m,\u001b[0m \u001b[0mtraining\u001b[0m\u001b[0;34m=\u001b[0m\u001b[0;32mTrue\u001b[0m\u001b[0;34m)\u001b[0m\u001b[0;34m\u001b[0m\u001b[0;34m\u001b[0m\u001b[0m\n",
      "\u001b[0;32m~/dev/cluda/tb2/tb2-local/trading-systems/conda-env/lib/python3.7/site-packages/xgboost/core.py\u001b[0m in \u001b[0;36m_check_call\u001b[0;34m(ret)\u001b[0m\n\u001b[1;32m    187\u001b[0m     \"\"\"\n\u001b[1;32m    188\u001b[0m     \u001b[0;32mif\u001b[0m \u001b[0mret\u001b[0m \u001b[0;34m!=\u001b[0m \u001b[0;36m0\u001b[0m\u001b[0;34m:\u001b[0m\u001b[0;34m\u001b[0m\u001b[0;34m\u001b[0m\u001b[0m\n\u001b[0;32m--> 189\u001b[0;31m         \u001b[0;32mraise\u001b[0m \u001b[0mXGBoostError\u001b[0m\u001b[0;34m(\u001b[0m\u001b[0mpy_str\u001b[0m\u001b[0;34m(\u001b[0m\u001b[0m_LIB\u001b[0m\u001b[0;34m.\u001b[0m\u001b[0mXGBGetLastError\u001b[0m\u001b[0;34m(\u001b[0m\u001b[0;34m)\u001b[0m\u001b[0;34m)\u001b[0m\u001b[0;34m)\u001b[0m\u001b[0;34m\u001b[0m\u001b[0;34m\u001b[0m\u001b[0m\n\u001b[0m\u001b[1;32m    190\u001b[0m \u001b[0;34m\u001b[0m\u001b[0m\n\u001b[1;32m    191\u001b[0m \u001b[0;34m\u001b[0m\u001b[0m\n",
      "\u001b[0;31mXGBoostError\u001b[0m: value 1.38482 for Parameter colsample_bytree exceed bound [0,1]\ncolsample_bytree: Subsample ratio of columns, resample on each tree construction."
     ]
    }
   ],
   "source": [
    "raw_model = xgb.XGBRegressor(objective=\"reg:squarederror\")\n",
    "\n",
    "param_dist = {'n_estimators': stats.randint(150, 1000),\n",
    "              'learning_rate': stats.uniform(0.01, 0.6),\n",
    "              'subsample': stats.uniform(0.3, 0.9),\n",
    "              'max_depth': [3, 4, 5, 6, 7, 8, 9, 10, 11, 12, 13, 14, 15, 25],\n",
    "              'colsample_bytree': stats.uniform(0.5, 0.9),\n",
    "              'min_child_weight': [1, 2, 3, 4, 5, 10]\n",
    "             }\n",
    "rmse = make_scorer(mean_squared_error, greater_is_better=False)\n",
    "\n",
    "r = RandomizedSearchCV(raw_model, param_distributions=param_dist,\n",
    "                       scoring=rmse,\n",
    "                       n_iter=3,\n",
    "                       n_jobs=2)\n",
    "r.fit(training_set_features, training_set_target)\n",
    "\n",
    "r.score(test_set_features, test_set_target)\n",
    ""
   ]
  },
  {
   "cell_type": "code",
   "execution_count": 28,
   "metadata": {},
   "outputs": [
    {
     "output_type": "execute_result",
     "data": {
      "text/plain": "{'colsample_bytree': 0.716549113595231,\n 'learning_rate': 0.05488437390157618,\n 'max_depth': 3,\n 'min_child_weight': 2,\n 'n_estimators': 181,\n 'subsample': 0.33243402437274977}"
     },
     "metadata": {},
     "execution_count": 28
    }
   ],
   "source": [
    "r.best_params_\n",
    ""
   ]
  },
  {
   "cell_type": "code",
   "execution_count": 31,
   "metadata": {},
   "outputs": [
    {
     "output_type": "stream",
     "name": "stdout",
     "text": "RMSE: 2.692856\nkfold Accuracy: -10.37% (14.07%)\n"
    }
   ],
   "source": [
    "xg_boost = RegressionSklienModel(model=xgb.XGBRegressor(\n",
    "    objective=\"reg:squarederror\",\n",
    "    colsample_bytree= 0.716549113595231,\n",
    "    learning_rate= 0.05488437390157618,\n",
    "    max_depth= 3,\n",
    "    min_child_weight= 2,\n",
    "    n_estimators= 181,\n",
    "    subsample= 0.33243402437274977\n",
    "    ))\n",
    "xg_boost.train(training_set_features, training_set_target)\n",
    "xg_boost.evaluate(test_set_features, test_set_target)"
   ]
  },
  {
   "cell_type": "code",
   "execution_count": 21,
   "metadata": {},
   "outputs": [
    {
     "output_type": "error",
     "ename": "NameError",
     "evalue": "name 'xg_boost' is not defined",
     "traceback": [
      "\u001b[0;31m---------------------------------------------------------------------------\u001b[0m",
      "\u001b[0;31mNameError\u001b[0m                                 Traceback (most recent call last)",
      "\u001b[0;32m<ipython-input-21-10139b682890>\u001b[0m in \u001b[0;36m<module>\u001b[0;34m\u001b[0m\n\u001b[0;32m----> 1\u001b[0;31m \u001b[0mpredictions\u001b[0m \u001b[0;34m=\u001b[0m \u001b[0mxg_boost\u001b[0m\u001b[0;34m.\u001b[0m\u001b[0mpredict_dataframe\u001b[0m\u001b[0;34m(\u001b[0m\u001b[0mtest_set_features\u001b[0m\u001b[0;34m)\u001b[0m\u001b[0;34m\u001b[0m\u001b[0;34m\u001b[0m\u001b[0m\n\u001b[0m\u001b[1;32m      2\u001b[0m \u001b[0mtest_set_target\u001b[0m\u001b[0;34m\u001b[0m\u001b[0;34m\u001b[0m\u001b[0m\n\u001b[1;32m      3\u001b[0m \u001b[0mdf\u001b[0m \u001b[0;34m=\u001b[0m \u001b[0mpd\u001b[0m\u001b[0;34m.\u001b[0m\u001b[0mDataFrame\u001b[0m\u001b[0;34m(\u001b[0m\u001b[0;34m{\u001b[0m\u001b[0;34m\"target\"\u001b[0m\u001b[0;34m:\u001b[0m \u001b[0mtest_set_target\u001b[0m\u001b[0;34m,\u001b[0m \u001b[0;34m\"prediction\"\u001b[0m\u001b[0;34m:\u001b[0m \u001b[0mpredictions\u001b[0m\u001b[0;34m}\u001b[0m\u001b[0;34m)\u001b[0m\u001b[0;34m\u001b[0m\u001b[0;34m\u001b[0m\u001b[0m\n\u001b[1;32m      4\u001b[0m \u001b[0mdf\u001b[0m\u001b[0;34m.\u001b[0m\u001b[0mto_csv\u001b[0m\u001b[0;34m(\u001b[0m\u001b[0;34m\"./tmp/target_predictions.csv\"\u001b[0m\u001b[0;34m)\u001b[0m\u001b[0;34m\u001b[0m\u001b[0;34m\u001b[0m\u001b[0m\n",
      "\u001b[0;31mNameError\u001b[0m: name 'xg_boost' is not defined"
     ]
    }
   ],
   "source": [
    "predictions = xg_boost.predict_dataframe(test_set_features)\n",
    "test_set_target\n",
    "df = pd.DataFrame({\"target\": test_set_target, \"prediction\": predictions})\n",
    "df.to_csv(\"./tmp/target_predictions.csv\")"
   ]
  },
  {
   "cell_type": "code",
   "execution_count": null,
   "metadata": {},
   "outputs": [],
   "source": []
  }
 ]
}