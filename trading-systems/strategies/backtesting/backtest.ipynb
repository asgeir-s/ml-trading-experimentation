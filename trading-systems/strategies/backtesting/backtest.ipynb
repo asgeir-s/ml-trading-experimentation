{
 "nbformat": 4,
 "nbformat_minor": 2,
 "metadata": {
  "language_info": {
   "name": "python",
   "codemirror_mode": {
    "name": "ipython",
    "version": 3
   },
   "version": "3.7.7-final"
  },
  "orig_nbformat": 2,
  "file_extension": ".py",
  "mimetype": "text/x-python",
  "name": "python",
  "npconvert_exporter": "python",
  "pygments_lexer": "ipython3",
  "version": 3,
  "kernelspec": {
   "name": "python3",
   "display_name": "Python 3"
  }
 },
 "cells": [
  {
   "cell_type": "code",
   "execution_count": 1,
   "metadata": {},
   "outputs": [],
   "source": [
    "import os, sys\n",
    "\n",
    "sys.path.insert(0, os.path.abspath(\"../..\"))"
   ]
  },
  {
   "cell_type": "code",
   "execution_count": 2,
   "metadata": {},
   "outputs": [],
   "source": [
    "from lib.data_util import load_candlesticks\n",
    "from lib.backtest import Backtest, setup_file_path\n",
    "from lib.charting import chartTrades\n",
    "import pathlib\n",
    "import pandas as pd\n",
    "from binance.client import Client"
   ]
  },
  {
   "cell_type": "code",
   "execution_count": 3,
   "metadata": {},
   "outputs": [],
   "source": [
    "# from strategies import First as Strategy\n",
    "# from strategies import Second as Strategy\n",
    "from strategies import Third as Strategy\n",
    "# from strategies import UpDownDoubleSpiral as Strategy"
   ]
  },
  {
   "cell_type": "code",
   "execution_count": 4,
   "metadata": {},
   "outputs": [],
   "source": [
    "client = Client()"
   ]
  },
  {
   "cell_type": "code",
   "execution_count": 5,
   "metadata": {},
   "outputs": [],
   "source": [
    "strategy = Strategy()\n",
    "tmp_path = \"./tmp/\" + strategy.__class__.__name__ + \"/\"\n",
    "\n",
    "path_builder = setup_file_path(tmp_path)"
   ]
  },
  {
   "cell_type": "code",
   "execution_count": 6,
   "metadata": {},
   "outputs": [
    {
     "output_type": "stream",
     "name": "stdout",
     "text": "Closetime of newest candle is 1587038399999\nGeting new candlesticks from Binance.\n"
    }
   ],
   "source": [
    "candlesticks = load_candlesticks(\"BTCUSDT\", \"1h\", custom_data_path=\"../../tmp\", binance_client=client)\n",
    "\n",
    "trade_start_position = 6000\n",
    "trade_end_position = len(candlesticks)\n",
    "\n",
    "features = strategy.generate_features(candlesticks)\n",
    "targets = strategy._generate_targets(candlesticks, features)\n",
    "\n",
    "features.to_csv(path_builder(\"features\"))\n",
    "\n",
    "pd.DataFrame(targets).to_csv(path_builder(\"targets\"))\n",
    "path_builder = None"
   ]
  },
  {
   "cell_type": "code",
   "execution_count": 7,
   "metadata": {
    "tags": [
     "outputPrepend",
     "outputPrepend",
     "outputPrepend",
     "outputPrepend",
     "outputPrepend",
     "outputPrepend",
     "outputPrepend",
     "outputPrepend",
     "outputPrepend",
     "outputPrepend",
     "outputPrepend",
     "outputPrepend",
     "outputPrepend",
     "outputPrepend",
     "outputPrepend",
     "outputPrepend",
     "outputPrepend",
     "outputPrepend",
     "outputPrepend",
     "outputPrepend",
     "outputPrepend",
     "outputPrepend",
     "outputPrepend",
     "outputPrepend",
     "outputPrepend",
     "outputPrepend",
     "outputPrepend",
     "outputPrepend",
     "outputPrepend",
     "outputPrepend",
     "outputPrepend",
     "outputPrepend",
     "outputPrepend",
     "outputPrepend",
     "outputPrepend",
     "outputPrepend",
     "outputPrepend",
     "outputPrepend",
     "outputPrepend",
     "outputPrepend",
     "outputPrepend",
     "outputPrepend",
     "outputPrepend",
     "outputPrepend",
     "outputPrepend",
     "outputPrepend",
     "outputPrepend",
     "outputPrepend",
     "outputPrepend",
     "outputPrepend",
     "outputPrepend",
     "outputPrepend",
     "outputPrepend",
     "outputPrepend",
     "outputPrepend",
     "outputPrepend",
     "outputPrepend",
     "outputPrepend",
     "outputPrepend",
     "outputPrepend",
     "outputPrepend",
     "outputPrepend",
     "outputPrepend",
     "outputPrepend",
     "outputPrepend",
     "outputPrepend",
     "outputPrepend",
     "outputPrepend",
     "outputPrepend",
     "outputPrepend",
     "outputPrepend",
     "outputPrepend",
     "outputPrepend",
     "outputPrepend",
     "outputPrepend",
     "outputPrepend",
     "outputPrepend",
     "outputPrepend",
     "outputPrepend",
     "outputPrepend",
     "outputPrepend",
     "outputPrepend",
     "outputPrepend",
     "outputPrepend",
     "outputPrepend",
     "outputPrepend",
     "outputPrepend",
     "outputPrepend",
     "outputPrepend",
     "outputPrepend",
     "outputPrepend",
     "outputPrepend",
     "outputPrepend",
     "outputPrepend",
     "outputPrepend",
     "outputPrepend",
     "outputPrepend",
     "outputPrepend",
     "outputPrepend",
     "outputPrepend",
     "outputPrepend",
     "outputPrepend",
     "outputPrepend",
     "outputPrepend",
     "outputPrepend",
     "outputPrepend",
     "outputPrepend"
    ]
   },
   "outputs": [
    {
     "output_type": "stream",
     "name": "stdout",
     "text": "GBoost core.  Or some parameters are not used but slip through this\n  verification. Please open an issue if you find above cases.\n\n\nStrategy - End retraining.\nBacktest - 43.98% done. Position: 8200 of 18645, number of signals: 154\nBacktest - 44.52% done. Position: 8300 of 18645, number of signals: 156\nBacktest - 45.05% done. Position: 8400 of 18645, number of signals: 159\nBacktest - 45.59% done. Position: 8500 of 18645, number of signals: 160\nStrategy - Start retraining.\n[19:52:58] WARNING: /usr/local/miniconda/conda-bld/xgboost_1584539872846/work/src/learner.cc:328: \nParameters: { importance_type, missing, n_estimators } might not be used.\n\n  This may not be accurate due to some parameters are only used in language bindings but\n  passed down to XGBoost core.  Or some parameters are not used but slip through this\n  verification. Please open an issue if you find above cases.\n\n\nStrategy - End retraining.\nBacktest - 46.12% done. Position: 8600 of 18645, number of signals: 160\nBacktest - 46.66% done. Position: 8700 of 18645, number of signals: 162\nBacktest - 47.20% done. Position: 8800 of 18645, number of signals: 164\nBacktest - 47.73% done. Position: 8900 of 18645, number of signals: 164\nStrategy - Start retraining.\n[19:53:17] WARNING: /usr/local/miniconda/conda-bld/xgboost_1584539872846/work/src/learner.cc:328: \nParameters: { importance_type, missing, n_estimators } might not be used.\n\n  This may not be accurate due to some parameters are only used in language bindings but\n  passed down to XGBoost core.  Or some parameters are not used but slip through this\n  verification. Please open an issue if you find above cases.\n\n\nStrategy - End retraining.\nBacktest - 48.27% done. Position: 9000 of 18645, number of signals: 164\nBacktest - 48.81% done. Position: 9100 of 18645, number of signals: 166\nBacktest - 49.34% done. Position: 9200 of 18645, number of signals: 167\nBacktest - 49.88% done. Position: 9300 of 18645, number of signals: 169\nStrategy - Start retraining.\n[19:53:37] WARNING: /usr/local/miniconda/conda-bld/xgboost_1584539872846/work/src/learner.cc:328: \nParameters: { importance_type, missing, n_estimators } might not be used.\n\n  This may not be accurate due to some parameters are only used in language bindings but\n  passed down to XGBoost core.  Or some parameters are not used but slip through this\n  verification. Please open an issue if you find above cases.\n\n\nStrategy - End retraining.\nBacktest - 50.42% done. Position: 9400 of 18645, number of signals: 172\nBacktest - 50.95% done. Position: 9500 of 18645, number of signals: 176\nBacktest - 51.49% done. Position: 9600 of 18645, number of signals: 178\nBacktest - 52.02% done. Position: 9700 of 18645, number of signals: 180\nStrategy - Start retraining.\n[19:53:59] WARNING: /usr/local/miniconda/conda-bld/xgboost_1584539872846/work/src/learner.cc:328: \nParameters: { importance_type, missing, n_estimators } might not be used.\n\n  This may not be accurate due to some parameters are only used in language bindings but\n  passed down to XGBoost core.  Or some parameters are not used but slip through this\n  verification. Please open an issue if you find above cases.\n\n\nStrategy - End retraining.\nBacktest - 52.56% done. Position: 9800 of 18645, number of signals: 184\nBacktest - 53.10% done. Position: 9900 of 18645, number of signals: 185\nBacktest - 53.63% done. Position: 10000 of 18645, number of signals: 189\nBacktest - 54.17% done. Position: 10100 of 18645, number of signals: 191\nStrategy - Start retraining.\n[19:54:22] WARNING: /usr/local/miniconda/conda-bld/xgboost_1584539872846/work/src/learner.cc:328: \nParameters: { importance_type, missing, n_estimators } might not be used.\n\n  This may not be accurate due to some parameters are only used in language bindings but\n  passed down to XGBoost core.  Or some parameters are not used but slip through this\n  verification. Please open an issue if you find above cases.\n\n\nStrategy - End retraining.\nBacktest - 54.71% done. Position: 10200 of 18645, number of signals: 194\nBacktest - 55.24% done. Position: 10300 of 18645, number of signals: 195\nBacktest - 55.78% done. Position: 10400 of 18645, number of signals: 201\nBacktest - 56.32% done. Position: 10500 of 18645, number of signals: 204\nStrategy - Start retraining.\n[19:54:49] WARNING: /usr/local/miniconda/conda-bld/xgboost_1584539872846/work/src/learner.cc:328: \nParameters: { importance_type, missing, n_estimators } might not be used.\n\n  This may not be accurate due to some parameters are only used in language bindings but\n  passed down to XGBoost core.  Or some parameters are not used but slip through this\n  verification. Please open an issue if you find above cases.\n\n\nStrategy - End retraining.\nBacktest - 56.85% done. Position: 10600 of 18645, number of signals: 205\nBacktest - 57.39% done. Position: 10700 of 18645, number of signals: 206\nBacktest - 57.92% done. Position: 10800 of 18645, number of signals: 208\nBacktest - 58.46% done. Position: 10900 of 18645, number of signals: 210\nStrategy - Start retraining.\n[19:55:14] WARNING: /usr/local/miniconda/conda-bld/xgboost_1584539872846/work/src/learner.cc:328: \nParameters: { importance_type, missing, n_estimators } might not be used.\n\n  This may not be accurate due to some parameters are only used in language bindings but\n  passed down to XGBoost core.  Or some parameters are not used but slip through this\n  verification. Please open an issue if you find above cases.\n\n\nStrategy - End retraining.\nBacktest - 59.00% done. Position: 11000 of 18645, number of signals: 211\nBacktest - 59.53% done. Position: 11100 of 18645, number of signals: 213\nBacktest - 60.07% done. Position: 11200 of 18645, number of signals: 215\nBacktest - 60.61% done. Position: 11300 of 18645, number of signals: 216\nStrategy - Start retraining.\n[19:55:42] WARNING: /usr/local/miniconda/conda-bld/xgboost_1584539872846/work/src/learner.cc:328: \nParameters: { importance_type, missing, n_estimators } might not be used.\n\n  This may not be accurate due to some parameters are only used in language bindings but\n  passed down to XGBoost core.  Or some parameters are not used but slip through this\n  verification. Please open an issue if you find above cases.\n\n\nStrategy - End retraining.\nBacktest - 61.14% done. Position: 11400 of 18645, number of signals: 218\nBacktest - 61.68% done. Position: 11500 of 18645, number of signals: 221\nBacktest - 62.22% done. Position: 11600 of 18645, number of signals: 222\nBacktest - 62.75% done. Position: 11700 of 18645, number of signals: 224\nStrategy - Start retraining.\n[19:56:08] WARNING: /usr/local/miniconda/conda-bld/xgboost_1584539872846/work/src/learner.cc:328: \nParameters: { importance_type, missing, n_estimators } might not be used.\n\n  This may not be accurate due to some parameters are only used in language bindings but\n  passed down to XGBoost core.  Or some parameters are not used but slip through this\n  verification. Please open an issue if you find above cases.\n\n\nStrategy - End retraining.\nBacktest - 63.29% done. Position: 11800 of 18645, number of signals: 226\nBacktest - 63.82% done. Position: 11900 of 18645, number of signals: 227\nBacktest - 64.36% done. Position: 12000 of 18645, number of signals: 232\nBacktest - 64.90% done. Position: 12100 of 18645, number of signals: 233\nStrategy - Start retraining.\n[19:56:34] WARNING: /usr/local/miniconda/conda-bld/xgboost_1584539872846/work/src/learner.cc:328: \nParameters: { importance_type, missing, n_estimators } might not be used.\n\n  This may not be accurate due to some parameters are only used in language bindings but\n  passed down to XGBoost core.  Or some parameters are not used but slip through this\n  verification. Please open an issue if you find above cases.\n\n\nStrategy - End retraining.\nBacktest - 65.43% done. Position: 12200 of 18645, number of signals: 236\nBacktest - 65.97% done. Position: 12300 of 18645, number of signals: 238\nBacktest - 66.51% done. Position: 12400 of 18645, number of signals: 240\nBacktest - 67.04% done. Position: 12500 of 18645, number of signals: 241\nStrategy - Start retraining.\n[19:57:01] WARNING: /usr/local/miniconda/conda-bld/xgboost_1584539872846/work/src/learner.cc:328: \nParameters: { importance_type, missing, n_estimators } might not be used.\n\n  This may not be accurate due to some parameters are only used in language bindings but\n  passed down to XGBoost core.  Or some parameters are not used but slip through this\n  verification. Please open an issue if you find above cases.\n\n\nStrategy - End retraining.\nBacktest - 67.58% done. Position: 12600 of 18645, number of signals: 242\nBacktest - 68.11% done. Position: 12700 of 18645, number of signals: 242\nBacktest - 68.65% done. Position: 12800 of 18645, number of signals: 244\nBacktest - 69.19% done. Position: 12900 of 18645, number of signals: 246\nStrategy - Start retraining.\n[19:57:29] WARNING: /usr/local/miniconda/conda-bld/xgboost_1584539872846/work/src/learner.cc:328: \nParameters: { importance_type, missing, n_estimators } might not be used.\n\n  This may not be accurate due to some parameters are only used in language bindings but\n  passed down to XGBoost core.  Or some parameters are not used but slip through this\n  verification. Please open an issue if you find above cases.\n\n\nStrategy - End retraining.\nBacktest - 69.72% done. Position: 13000 of 18645, number of signals: 250\nBacktest - 70.26% done. Position: 13100 of 18645, number of signals: 254\nBacktest - 70.80% done. Position: 13200 of 18645, number of signals: 258\nBacktest - 71.33% done. Position: 13300 of 18645, number of signals: 260\nStrategy - Start retraining.\n[19:57:57] WARNING: /usr/local/miniconda/conda-bld/xgboost_1584539872846/work/src/learner.cc:328: \nParameters: { importance_type, missing, n_estimators } might not be used.\n\n  This may not be accurate due to some parameters are only used in language bindings but\n  passed down to XGBoost core.  Or some parameters are not used but slip through this\n  verification. Please open an issue if you find above cases.\n\n\nStrategy - End retraining.\nBacktest - 71.87% done. Position: 13400 of 18645, number of signals: 260\nBacktest - 72.41% done. Position: 13500 of 18645, number of signals: 260\nBacktest - 72.94% done. Position: 13600 of 18645, number of signals: 262\nBacktest - 73.48% done. Position: 13700 of 18645, number of signals: 264\nStrategy - Start retraining.\n[19:58:26] WARNING: /usr/local/miniconda/conda-bld/xgboost_1584539872846/work/src/learner.cc:328: \nParameters: { importance_type, missing, n_estimators } might not be used.\n\n  This may not be accurate due to some parameters are only used in language bindings but\n  passed down to XGBoost core.  Or some parameters are not used but slip through this\n  verification. Please open an issue if you find above cases.\n\n\nStrategy - End retraining.\nBacktest - 74.01% done. Position: 13800 of 18645, number of signals: 269\nBacktest - 74.55% done. Position: 13900 of 18645, number of signals: 270\nBacktest - 75.09% done. Position: 14000 of 18645, number of signals: 272\nBacktest - 75.62% done. Position: 14100 of 18645, number of signals: 273\nStrategy - Start retraining.\n[19:58:56] WARNING: /usr/local/miniconda/conda-bld/xgboost_1584539872846/work/src/learner.cc:328: \nParameters: { importance_type, missing, n_estimators } might not be used.\n\n  This may not be accurate due to some parameters are only used in language bindings but\n  passed down to XGBoost core.  Or some parameters are not used but slip through this\n  verification. Please open an issue if you find above cases.\n\n\nStrategy - End retraining.\nBacktest - 76.16% done. Position: 14200 of 18645, number of signals: 274\nBacktest - 76.70% done. Position: 14300 of 18645, number of signals: 275\nBacktest - 77.23% done. Position: 14400 of 18645, number of signals: 278\nBacktest - 77.77% done. Position: 14500 of 18645, number of signals: 278\nStrategy - Start retraining.\n[19:59:26] WARNING: /usr/local/miniconda/conda-bld/xgboost_1584539872846/work/src/learner.cc:328: \nParameters: { importance_type, missing, n_estimators } might not be used.\n\n  This may not be accurate due to some parameters are only used in language bindings but\n  passed down to XGBoost core.  Or some parameters are not used but slip through this\n  verification. Please open an issue if you find above cases.\n\n\nStrategy - End retraining.\nBacktest - 78.31% done. Position: 14600 of 18645, number of signals: 280\nBacktest - 78.84% done. Position: 14700 of 18645, number of signals: 280\nBacktest - 79.38% done. Position: 14800 of 18645, number of signals: 284\nBacktest - 79.91% done. Position: 14900 of 18645, number of signals: 287\nStrategy - Start retraining.\n[19:59:57] WARNING: /usr/local/miniconda/conda-bld/xgboost_1584539872846/work/src/learner.cc:328: \nParameters: { importance_type, missing, n_estimators } might not be used.\n\n  This may not be accurate due to some parameters are only used in language bindings but\n  passed down to XGBoost core.  Or some parameters are not used but slip through this\n  verification. Please open an issue if you find above cases.\n\n\nStrategy - End retraining.\nBacktest - 80.45% done. Position: 15000 of 18645, number of signals: 288\nBacktest - 80.99% done. Position: 15100 of 18645, number of signals: 290\nBacktest - 81.52% done. Position: 15200 of 18645, number of signals: 296\nBacktest - 82.06% done. Position: 15300 of 18645, number of signals: 296\nStrategy - Start retraining.\n[20:00:28] WARNING: /usr/local/miniconda/conda-bld/xgboost_1584539872846/work/src/learner.cc:328: \nParameters: { importance_type, missing, n_estimators } might not be used.\n\n  This may not be accurate due to some parameters are only used in language bindings but\n  passed down to XGBoost core.  Or some parameters are not used but slip through this\n  verification. Please open an issue if you find above cases.\n\n\nStrategy - End retraining.\nBacktest - 82.60% done. Position: 15400 of 18645, number of signals: 298\nBacktest - 83.13% done. Position: 15500 of 18645, number of signals: 300\nBacktest - 83.67% done. Position: 15600 of 18645, number of signals: 302\nBacktest - 84.20% done. Position: 15700 of 18645, number of signals: 302\nStrategy - Start retraining.\n[20:01:00] WARNING: /usr/local/miniconda/conda-bld/xgboost_1584539872846/work/src/learner.cc:328: \nParameters: { importance_type, missing, n_estimators } might not be used.\n\n  This may not be accurate due to some parameters are only used in language bindings but\n  passed down to XGBoost core.  Or some parameters are not used but slip through this\n  verification. Please open an issue if you find above cases.\n\n\nStrategy - End retraining.\nBacktest - 84.74% done. Position: 15800 of 18645, number of signals: 302\nBacktest - 85.28% done. Position: 15900 of 18645, number of signals: 303\nBacktest - 85.81% done. Position: 16000 of 18645, number of signals: 307\nBacktest - 86.35% done. Position: 16100 of 18645, number of signals: 308\nStrategy - Start retraining.\n[20:01:32] WARNING: /usr/local/miniconda/conda-bld/xgboost_1584539872846/work/src/learner.cc:328: \nParameters: { importance_type, missing, n_estimators } might not be used.\n\n  This may not be accurate due to some parameters are only used in language bindings but\n  passed down to XGBoost core.  Or some parameters are not used but slip through this\n  verification. Please open an issue if you find above cases.\n\n\nStrategy - End retraining.\nBacktest - 86.89% done. Position: 16200 of 18645, number of signals: 310\nBacktest - 87.42% done. Position: 16300 of 18645, number of signals: 310\nBacktest - 87.96% done. Position: 16400 of 18645, number of signals: 311\nBacktest - 88.50% done. Position: 16500 of 18645, number of signals: 312\nStrategy - Start retraining.\n[20:02:06] WARNING: /usr/local/miniconda/conda-bld/xgboost_1584539872846/work/src/learner.cc:328: \nParameters: { importance_type, missing, n_estimators } might not be used.\n\n  This may not be accurate due to some parameters are only used in language bindings but\n  passed down to XGBoost core.  Or some parameters are not used but slip through this\n  verification. Please open an issue if you find above cases.\n\n\nStrategy - End retraining.\nBacktest - 89.03% done. Position: 16600 of 18645, number of signals: 313\nBacktest - 89.57% done. Position: 16700 of 18645, number of signals: 316\nBacktest - 90.10% done. Position: 16800 of 18645, number of signals: 316\nBacktest - 90.64% done. Position: 16900 of 18645, number of signals: 318\nStrategy - Start retraining.\n[20:02:39] WARNING: /usr/local/miniconda/conda-bld/xgboost_1584539872846/work/src/learner.cc:328: \nParameters: { importance_type, missing, n_estimators } might not be used.\n\n  This may not be accurate due to some parameters are only used in language bindings but\n  passed down to XGBoost core.  Or some parameters are not used but slip through this\n  verification. Please open an issue if you find above cases.\n\n\nStrategy - End retraining.\nBacktest - 91.18% done. Position: 17000 of 18645, number of signals: 319\nBacktest - 91.71% done. Position: 17100 of 18645, number of signals: 322\nBacktest - 92.25% done. Position: 17200 of 18645, number of signals: 323\nBacktest - 92.79% done. Position: 17300 of 18645, number of signals: 326\nStrategy - Start retraining.\n[20:03:14] WARNING: /usr/local/miniconda/conda-bld/xgboost_1584539872846/work/src/learner.cc:328: \nParameters: { importance_type, missing, n_estimators } might not be used.\n\n  This may not be accurate due to some parameters are only used in language bindings but\n  passed down to XGBoost core.  Or some parameters are not used but slip through this\n  verification. Please open an issue if you find above cases.\n\n\nStrategy - End retraining.\nBacktest - 93.32% done. Position: 17400 of 18645, number of signals: 328\nBacktest - 93.86% done. Position: 17500 of 18645, number of signals: 328\nBacktest - 94.40% done. Position: 17600 of 18645, number of signals: 332\nBacktest - 94.93% done. Position: 17700 of 18645, number of signals: 334\nStrategy - Start retraining.\n[20:03:49] WARNING: /usr/local/miniconda/conda-bld/xgboost_1584539872846/work/src/learner.cc:328: \nParameters: { importance_type, missing, n_estimators } might not be used.\n\n  This may not be accurate due to some parameters are only used in language bindings but\n  passed down to XGBoost core.  Or some parameters are not used but slip through this\n  verification. Please open an issue if you find above cases.\n\n\nStrategy - End retraining.\nBacktest - 95.47% done. Position: 17800 of 18645, number of signals: 338\nBacktest - 96.00% done. Position: 17900 of 18645, number of signals: 340\nBacktest - 96.54% done. Position: 18000 of 18645, number of signals: 343\nBacktest - 97.08% done. Position: 18100 of 18645, number of signals: 346\nStrategy - Start retraining.\n[20:04:26] WARNING: /usr/local/miniconda/conda-bld/xgboost_1584539872846/work/src/learner.cc:328: \nParameters: { importance_type, missing, n_estimators } might not be used.\n\n  This may not be accurate due to some parameters are only used in language bindings but\n  passed down to XGBoost core.  Or some parameters are not used but slip through this\n  verification. Please open an issue if you find above cases.\n\n\nStrategy - End retraining.\nBacktest - 97.61% done. Position: 18200 of 18645, number of signals: 348\nBacktest - 98.15% done. Position: 18300 of 18645, number of signals: 350\nBacktest - 98.69% done. Position: 18400 of 18645, number of signals: 352\nBacktest - 99.22% done. Position: 18500 of 18645, number of signals: 355\nStrategy - Start retraining.\n[20:05:03] WARNING: /usr/local/miniconda/conda-bld/xgboost_1584539872846/work/src/learner.cc:328: \nParameters: { importance_type, missing, n_estimators } might not be used.\n\n  This may not be accurate due to some parameters are only used in language bindings but\n  passed down to XGBoost core.  Or some parameters are not used but slip through this\n  verification. Please open an issue if you find above cases.\n\n\nStrategy - End retraining.\nBacktest - 99.76% done. Position: 18600 of 18645, number of signals: 357\n"
    }
   ],
   "source": [
    "path_builder = setup_file_path(tmp_path)\n",
    "\n",
    "signals = Backtest.run(\n",
    "    strategy=strategy,\n",
    "    features=features,\n",
    "    candlesticks=candlesticks,\n",
    "    start_position=trade_start_position,\n",
    "    end_position=trade_end_position,\n",
    "    signals_csv_path=path_builder(\"signals\")\n",
    ")\n",
    "# signals = Backtest._runWithTarget(\n",
    "#     strategy=strategy,\n",
    "#     features=features,\n",
    "#     targets=targets,\n",
    "#     candlesticks=candlesticks,\n",
    "#     start_position=trade_start_position,\n",
    "#     end_position=trade_end_position,\n",
    "#     signals_csv_path=strategy_tmp_path + \"signals.csv\",\n",
    "# )\n",
    "\n",
    "path_builder = None"
   ]
  },
  {
   "cell_type": "code",
   "execution_count": 8,
   "metadata": {},
   "outputs": [
    {
     "output_type": "stream",
     "name": "stdout",
     "text": "Starts with 7870.15$ at 2018-03-15T04:00:00.000000000\nEnds with 10664.602615024043$ (number of trades: 358) at 2020-05-02T17:59:59.999000000\nEarned 2794.4526150240436$ (35.51%)\nPercentage price change in period: 14.13%\n"
    }
   ],
   "source": [
    "path_builder = setup_file_path(tmp_path)\n",
    "\n",
    "trades = Backtest.evaluate(\n",
    "   signals, candlesticks, trade_start_position, trade_end_position, 0.001\n",
    ")\n",
    "trades.to_csv(path_builder(\"trades\"))\n",
    "\n",
    "chartTrades(\n",
    "    trades,\n",
    "    candlesticks,\n",
    "    trade_start_position,\n",
    "    trade_end_position,\n",
    "    path_builder(\"chart\", extension=\"html\"),\n",
    ")\n",
    "path_builder = None"
   ]
  },
  {
   "cell_type": "code",
   "execution_count": 9,
   "metadata": {},
   "outputs": [
    {
     "output_type": "execute_result",
     "data": {
      "text/plain": "              open time          close time time in position  open price  \\\n0   2018-03-16 15:00:00 2018-03-17 02:00:00  0 days 11:00:00     8418.50   \n1   2018-03-19 04:00:00 2018-03-22 10:00:00  3 days 06:00:00     8157.01   \n2   2018-04-02 08:00:00 2018-04-04 10:00:00  2 days 02:00:00     7065.01   \n3   2018-04-06 05:00:00 2018-04-06 06:00:00  0 days 01:00:00     6798.80   \n4   2018-04-07 03:00:00 2018-04-08 22:00:00  1 days 19:00:00     6823.00   \n..                  ...                 ...              ...         ...   \n174 2020-04-17 07:00:00 2020-04-17 18:00:00  0 days 11:00:00     7057.63   \n175 2020-04-18 10:00:00 2020-04-19 20:00:00  1 days 10:00:00     7089.10   \n176 2020-04-24 00:00:00 2020-04-24 21:00:00  0 days 21:00:00     7483.96   \n177 2020-04-26 08:00:00 2020-04-27 18:00:00  1 days 10:00:00     7546.67   \n178 2020-04-29 03:00:00 2020-05-01 00:00:00  1 days 21:00:00     7782.83   \n\n     close price  change   change %   open money   close money  \\\n0        8138.81 -279.69  -3.322326  7870.150000   7593.468226   \n1        8785.31  628.30   7.702577  7593.468226   8162.012442   \n2        7085.12   20.11   0.284642  8162.012442   8168.882669   \n3        6753.99  -44.81  -0.659087  8168.882669   8098.820664   \n4        6993.99  170.99   2.506082  8098.820664   8285.188515   \n..           ...     ...        ...          ...           ...   \n174      7042.50  -15.13  -0.214378  9489.660338   9450.387438   \n175      7134.25   45.15   0.636893  9450.387438   9491.564676   \n176      7525.29   41.33   0.552248  9491.564676   9524.903209   \n177      7659.63  112.96   1.496819  9524.903209   9648.148502   \n178      8620.00  837.17  10.756627  9648.148502  10664.602615   \n\n                                   open reason  \\\n0    Sklien and up down classifier indicate up   \n1    Sklien and up down classifier indicate up   \n2    Sklien and up down classifier indicate up   \n3    Sklien and up down classifier indicate up   \n4    Sklien and up down classifier indicate up   \n..                                         ...   \n174  Sklien and up down classifier indicate up   \n175  Sklien and up down classifier indicate up   \n176  Sklien and up down classifier indicate up   \n177  Sklien and up down classifier indicate up   \n178  Sklien and up down classifier indicate up   \n\n                                    close reason  \n0    sklien and up down classifier indicate down  \n1    sklien and up down classifier indicate down  \n2    sklien and up down classifier indicate down  \n3    sklien and up down classifier indicate down  \n4    sklien and up down classifier indicate down  \n..                                           ...  \n174  sklien and up down classifier indicate down  \n175  sklien and up down classifier indicate down  \n176  sklien and up down classifier indicate down  \n177  sklien and up down classifier indicate down  \n178  sklien and up down classifier indicate down  \n\n[179 rows x 11 columns]",
      "text/html": "<div>\n<style scoped>\n    .dataframe tbody tr th:only-of-type {\n        vertical-align: middle;\n    }\n\n    .dataframe tbody tr th {\n        vertical-align: top;\n    }\n\n    .dataframe thead th {\n        text-align: right;\n    }\n</style>\n<table border=\"1\" class=\"dataframe\">\n  <thead>\n    <tr style=\"text-align: right;\">\n      <th></th>\n      <th>open time</th>\n      <th>close time</th>\n      <th>time in position</th>\n      <th>open price</th>\n      <th>close price</th>\n      <th>change</th>\n      <th>change %</th>\n      <th>open money</th>\n      <th>close money</th>\n      <th>open reason</th>\n      <th>close reason</th>\n    </tr>\n  </thead>\n  <tbody>\n    <tr>\n      <th>0</th>\n      <td>2018-03-16 15:00:00</td>\n      <td>2018-03-17 02:00:00</td>\n      <td>0 days 11:00:00</td>\n      <td>8418.50</td>\n      <td>8138.81</td>\n      <td>-279.69</td>\n      <td>-3.322326</td>\n      <td>7870.150000</td>\n      <td>7593.468226</td>\n      <td>Sklien and up down classifier indicate up</td>\n      <td>sklien and up down classifier indicate down</td>\n    </tr>\n    <tr>\n      <th>1</th>\n      <td>2018-03-19 04:00:00</td>\n      <td>2018-03-22 10:00:00</td>\n      <td>3 days 06:00:00</td>\n      <td>8157.01</td>\n      <td>8785.31</td>\n      <td>628.30</td>\n      <td>7.702577</td>\n      <td>7593.468226</td>\n      <td>8162.012442</td>\n      <td>Sklien and up down classifier indicate up</td>\n      <td>sklien and up down classifier indicate down</td>\n    </tr>\n    <tr>\n      <th>2</th>\n      <td>2018-04-02 08:00:00</td>\n      <td>2018-04-04 10:00:00</td>\n      <td>2 days 02:00:00</td>\n      <td>7065.01</td>\n      <td>7085.12</td>\n      <td>20.11</td>\n      <td>0.284642</td>\n      <td>8162.012442</td>\n      <td>8168.882669</td>\n      <td>Sklien and up down classifier indicate up</td>\n      <td>sklien and up down classifier indicate down</td>\n    </tr>\n    <tr>\n      <th>3</th>\n      <td>2018-04-06 05:00:00</td>\n      <td>2018-04-06 06:00:00</td>\n      <td>0 days 01:00:00</td>\n      <td>6798.80</td>\n      <td>6753.99</td>\n      <td>-44.81</td>\n      <td>-0.659087</td>\n      <td>8168.882669</td>\n      <td>8098.820664</td>\n      <td>Sklien and up down classifier indicate up</td>\n      <td>sklien and up down classifier indicate down</td>\n    </tr>\n    <tr>\n      <th>4</th>\n      <td>2018-04-07 03:00:00</td>\n      <td>2018-04-08 22:00:00</td>\n      <td>1 days 19:00:00</td>\n      <td>6823.00</td>\n      <td>6993.99</td>\n      <td>170.99</td>\n      <td>2.506082</td>\n      <td>8098.820664</td>\n      <td>8285.188515</td>\n      <td>Sklien and up down classifier indicate up</td>\n      <td>sklien and up down classifier indicate down</td>\n    </tr>\n    <tr>\n      <th>...</th>\n      <td>...</td>\n      <td>...</td>\n      <td>...</td>\n      <td>...</td>\n      <td>...</td>\n      <td>...</td>\n      <td>...</td>\n      <td>...</td>\n      <td>...</td>\n      <td>...</td>\n      <td>...</td>\n    </tr>\n    <tr>\n      <th>174</th>\n      <td>2020-04-17 07:00:00</td>\n      <td>2020-04-17 18:00:00</td>\n      <td>0 days 11:00:00</td>\n      <td>7057.63</td>\n      <td>7042.50</td>\n      <td>-15.13</td>\n      <td>-0.214378</td>\n      <td>9489.660338</td>\n      <td>9450.387438</td>\n      <td>Sklien and up down classifier indicate up</td>\n      <td>sklien and up down classifier indicate down</td>\n    </tr>\n    <tr>\n      <th>175</th>\n      <td>2020-04-18 10:00:00</td>\n      <td>2020-04-19 20:00:00</td>\n      <td>1 days 10:00:00</td>\n      <td>7089.10</td>\n      <td>7134.25</td>\n      <td>45.15</td>\n      <td>0.636893</td>\n      <td>9450.387438</td>\n      <td>9491.564676</td>\n      <td>Sklien and up down classifier indicate up</td>\n      <td>sklien and up down classifier indicate down</td>\n    </tr>\n    <tr>\n      <th>176</th>\n      <td>2020-04-24 00:00:00</td>\n      <td>2020-04-24 21:00:00</td>\n      <td>0 days 21:00:00</td>\n      <td>7483.96</td>\n      <td>7525.29</td>\n      <td>41.33</td>\n      <td>0.552248</td>\n      <td>9491.564676</td>\n      <td>9524.903209</td>\n      <td>Sklien and up down classifier indicate up</td>\n      <td>sklien and up down classifier indicate down</td>\n    </tr>\n    <tr>\n      <th>177</th>\n      <td>2020-04-26 08:00:00</td>\n      <td>2020-04-27 18:00:00</td>\n      <td>1 days 10:00:00</td>\n      <td>7546.67</td>\n      <td>7659.63</td>\n      <td>112.96</td>\n      <td>1.496819</td>\n      <td>9524.903209</td>\n      <td>9648.148502</td>\n      <td>Sklien and up down classifier indicate up</td>\n      <td>sklien and up down classifier indicate down</td>\n    </tr>\n    <tr>\n      <th>178</th>\n      <td>2020-04-29 03:00:00</td>\n      <td>2020-05-01 00:00:00</td>\n      <td>1 days 21:00:00</td>\n      <td>7782.83</td>\n      <td>8620.00</td>\n      <td>837.17</td>\n      <td>10.756627</td>\n      <td>9648.148502</td>\n      <td>10664.602615</td>\n      <td>Sklien and up down classifier indicate up</td>\n      <td>sklien and up down classifier indicate down</td>\n    </tr>\n  </tbody>\n</table>\n<p>179 rows × 11 columns</p>\n</div>"
     },
     "metadata": {},
     "execution_count": 9
    }
   ],
   "source": [
    "trades"
   ]
  },
  {
   "cell_type": "code",
   "execution_count": 10,
   "metadata": {},
   "outputs": [
    {
     "output_type": "execute_result",
     "data": {
      "text/plain": "             time in position    open price   close price       change  \\\ncount                     179    179.000000    179.000000   179.000000   \nmean   1 days 00:13:04.357491   7233.487207   7263.502991    30.015784   \nstd    0 days 22:40:23.221701   2053.718342   2078.617137   316.168565   \nmin           0 days 01:00:00   3265.960000   3405.660000  -699.165310   \n25%           0 days 07:00:00   6334.125000   6311.460000   -91.975000   \n50%           0 days 18:00:00   7155.400000   7197.320000   -29.440000   \n75%           1 days 08:00:00   8494.015000   8669.260000    23.920000   \nmax           4 days 10:00:00  11899.880000  12368.300000  1570.840000   \n\n         change %    open money   close money  \ncount  179.000000    179.000000    179.000000  \nmean     0.462018   8811.654022   8827.265490  \nstd      4.446364   1894.516991   1898.225083  \nmin     -5.973474   6155.300972   6155.300972  \n25%     -1.311299   7002.360666   7002.360666  \n50%     -0.439270   8098.820664   8162.012442  \n75%      0.393124  10492.962714  10512.324581  \nmax     21.778467  12555.677658  12555.677658  ",
      "text/html": "<div>\n<style scoped>\n    .dataframe tbody tr th:only-of-type {\n        vertical-align: middle;\n    }\n\n    .dataframe tbody tr th {\n        vertical-align: top;\n    }\n\n    .dataframe thead th {\n        text-align: right;\n    }\n</style>\n<table border=\"1\" class=\"dataframe\">\n  <thead>\n    <tr style=\"text-align: right;\">\n      <th></th>\n      <th>time in position</th>\n      <th>open price</th>\n      <th>close price</th>\n      <th>change</th>\n      <th>change %</th>\n      <th>open money</th>\n      <th>close money</th>\n    </tr>\n  </thead>\n  <tbody>\n    <tr>\n      <th>count</th>\n      <td>179</td>\n      <td>179.000000</td>\n      <td>179.000000</td>\n      <td>179.000000</td>\n      <td>179.000000</td>\n      <td>179.000000</td>\n      <td>179.000000</td>\n    </tr>\n    <tr>\n      <th>mean</th>\n      <td>1 days 00:13:04.357491</td>\n      <td>7233.487207</td>\n      <td>7263.502991</td>\n      <td>30.015784</td>\n      <td>0.462018</td>\n      <td>8811.654022</td>\n      <td>8827.265490</td>\n    </tr>\n    <tr>\n      <th>std</th>\n      <td>0 days 22:40:23.221701</td>\n      <td>2053.718342</td>\n      <td>2078.617137</td>\n      <td>316.168565</td>\n      <td>4.446364</td>\n      <td>1894.516991</td>\n      <td>1898.225083</td>\n    </tr>\n    <tr>\n      <th>min</th>\n      <td>0 days 01:00:00</td>\n      <td>3265.960000</td>\n      <td>3405.660000</td>\n      <td>-699.165310</td>\n      <td>-5.973474</td>\n      <td>6155.300972</td>\n      <td>6155.300972</td>\n    </tr>\n    <tr>\n      <th>25%</th>\n      <td>0 days 07:00:00</td>\n      <td>6334.125000</td>\n      <td>6311.460000</td>\n      <td>-91.975000</td>\n      <td>-1.311299</td>\n      <td>7002.360666</td>\n      <td>7002.360666</td>\n    </tr>\n    <tr>\n      <th>50%</th>\n      <td>0 days 18:00:00</td>\n      <td>7155.400000</td>\n      <td>7197.320000</td>\n      <td>-29.440000</td>\n      <td>-0.439270</td>\n      <td>8098.820664</td>\n      <td>8162.012442</td>\n    </tr>\n    <tr>\n      <th>75%</th>\n      <td>1 days 08:00:00</td>\n      <td>8494.015000</td>\n      <td>8669.260000</td>\n      <td>23.920000</td>\n      <td>0.393124</td>\n      <td>10492.962714</td>\n      <td>10512.324581</td>\n    </tr>\n    <tr>\n      <th>max</th>\n      <td>4 days 10:00:00</td>\n      <td>11899.880000</td>\n      <td>12368.300000</td>\n      <td>1570.840000</td>\n      <td>21.778467</td>\n      <td>12555.677658</td>\n      <td>12555.677658</td>\n    </tr>\n  </tbody>\n</table>\n</div>"
     },
     "metadata": {},
     "execution_count": 10
    }
   ],
   "source": [
    "trades.describe()"
   ]
  },
  {
   "cell_type": "code",
   "execution_count": null,
   "metadata": {},
   "outputs": [],
   "source": []
  }
 ]
}