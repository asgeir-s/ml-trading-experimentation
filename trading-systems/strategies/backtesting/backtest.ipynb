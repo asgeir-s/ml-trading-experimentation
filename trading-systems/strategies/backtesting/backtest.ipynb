{
 "nbformat": 4,
 "nbformat_minor": 2,
 "metadata": {
  "language_info": {
   "name": "python",
   "codemirror_mode": {
    "name": "ipython",
    "version": 3
   },
   "version": "3.7.7-final"
  },
  "orig_nbformat": 2,
  "file_extension": ".py",
  "mimetype": "text/x-python",
  "name": "python",
  "npconvert_exporter": "python",
  "pygments_lexer": "ipython3",
  "version": 3,
  "kernelspec": {
   "name": "python3",
   "display_name": "Python 3"
  }
 },
 "cells": [
  {
   "cell_type": "code",
   "execution_count": 1,
   "metadata": {},
   "outputs": [],
   "source": [
    "import os, sys\n",
    "\n",
    "sys.path.insert(0, os.path.abspath(\"../..\"))"
   ]
  },
  {
   "cell_type": "code",
   "execution_count": 2,
   "metadata": {},
   "outputs": [],
   "source": [
    "from lib.data_util import load_candlesticks\n",
    "from lib.backtest import Backtest, setup_file_path\n",
    "from lib.charting import chartTrades\n",
    "import pathlib\n",
    "import pandas as pd\n",
    ""
   ]
  },
  {
   "cell_type": "code",
   "execution_count": 3,
   "metadata": {},
   "outputs": [],
   "source": [
    "# from strategies import First as Strategy\n",
    "# from strategies import Second as Strategy\n",
    "from strategies import Third as Strategy"
   ]
  },
  {
   "cell_type": "code",
   "execution_count": 4,
   "metadata": {},
   "outputs": [],
   "source": [
    "strategy = Strategy()\n",
    "tmp_path = \"./tmp/\" + strategy.__class__.__name__ + \"/\"\n",
    "\n",
    "path_builder = setup_file_path(tmp_path)"
   ]
  },
  {
   "cell_type": "code",
   "execution_count": 5,
   "metadata": {},
   "outputs": [
    {
     "output_type": "stream",
     "name": "stdout",
     "text": "Closetime of newest candle is 1587038399999\nOnly using data on file. Will not download new data from Binance.\n"
    }
   ],
   "source": [
    "candlesticks = load_candlesticks(\"BTCUSDT\", \"1h\", custom_data_path=\"../../tmp\")\n",
    "\n",
    "trade_start_position = 19000\n",
    "trade_end_position = len(candlesticks)\n",
    "\n",
    "features = strategy.generate_features(candlesticks)\n",
    "targets = strategy._generate_targets(candlesticks, features)\n",
    "\n",
    "features.to_csv(path_builder(\"features\"))\n",
    "\n",
    "pd.DataFrame(targets).to_csv(path_builder(\"targets\"))\n",
    "path_builder = None"
   ]
  },
  {
   "cell_type": "code",
   "execution_count": 6,
   "metadata": {
    "tags": [
     "outputPrepend",
     "outputPrepend",
     "outputPrepend",
     "outputPrepend",
     "outputPrepend",
     "outputPrepend",
     "outputPrepend",
     "outputPrepend",
     "outputPrepend"
    ]
   },
   "outputs": [
    {
     "output_type": "stream",
     "name": "stdout",
     "text": "Signals will be written continuasly to: ./tmp/First/2020-04-20-11:32:01-signals.csv\nStrategy - Start retraining.\nStrategy - End retraining.\nBacktest - 0.00% done. Position: 0 of 4257, number of signals: 0\nStrategy - Start retraining.\nStrategy - End retraining.\nBacktest - 2.35% done. Position: 100 of 4257, number of signals: 0\nStrategy - Start retraining.\nStrategy - End retraining.\nBacktest - 4.70% done. Position: 200 of 4257, number of signals: 0\nStrategy - Start retraining.\nStrategy - End retraining.\nBacktest - 7.05% done. Position: 300 of 4257, number of signals: 0\nStrategy - Start retraining.\nStrategy - End retraining.\nBacktest - 9.40% done. Position: 400 of 4257, number of signals: 0\nStrategy - Start retraining.\nStrategy - End retraining.\nBacktest - 11.75% done. Position: 500 of 4257, number of signals: 0\nStrategy - Start retraining.\nStrategy - End retraining.\nBacktest - 14.09% done. Position: 600 of 4257, number of signals: 0\nStrategy - Start retraining.\nStrategy - End retraining.\nBacktest - 16.44% done. Position: 700 of 4257, number of signals: 0\nStrategy - Start retraining.\nStrategy - End retraining.\nBacktest - 18.79% done. Position: 800 of 4257, number of signals: 0\nStrategy - Start retraining.\nStrategy - End retraining.\nBacktest - 21.14% done. Position: 900 of 4257, number of signals: 0\nStrategy - Start retraining.\nStrategy - End retraining.\nBacktest - 23.49% done. Position: 1000 of 4257, number of signals: 0\nStrategy - Start retraining.\nStrategy - End retraining.\nBacktest - 25.84% done. Position: 1100 of 4257, number of signals: 0\nStrategy - Start retraining.\nStrategy - End retraining.\nBacktest - 28.19% done. Position: 1200 of 4257, number of signals: 0\nStrategy - Start retraining.\nStrategy - End retraining.\nBacktest - 30.54% done. Position: 1300 of 4257, number of signals: 0\nStrategy - Start retraining.\nStrategy - End retraining.\nBacktest - 32.89% done. Position: 1400 of 4257, number of signals: 0\nStrategy - Start retraining.\nStrategy - End retraining.\nBacktest - 35.24% done. Position: 1500 of 4257, number of signals: 0\nStrategy - Start retraining.\nStrategy - End retraining.\nBacktest - 37.59% done. Position: 1600 of 4257, number of signals: 0\nStrategy - Start retraining.\nStrategy - End retraining.\nBacktest - 39.93% done. Position: 1700 of 4257, number of signals: 0\nStrategy - Start retraining.\nStrategy - End retraining.\nBacktest - 42.28% done. Position: 1800 of 4257, number of signals: 0\nStrategy - Start retraining.\nStrategy - End retraining.\nBacktest - 44.63% done. Position: 1900 of 4257, number of signals: 0\nStrategy - Start retraining.\nStrategy - End retraining.\nBacktest - 46.98% done. Position: 2000 of 4257, number of signals: 0\nStrategy - Start retraining.\nStrategy - End retraining.\nBacktest - 49.33% done. Position: 2100 of 4257, number of signals: 0\nStrategy - Start retraining.\nStrategy - End retraining.\nBacktest - 51.68% done. Position: 2200 of 4257, number of signals: 0\nStrategy - Start retraining.\nStrategy - End retraining.\nBacktest - 54.03% done. Position: 2300 of 4257, number of signals: 0\nStrategy - Start retraining.\nStrategy - End retraining.\nBacktest - 56.38% done. Position: 2400 of 4257, number of signals: 0\nStrategy - Start retraining.\nStrategy - End retraining.\nBacktest - 58.73% done. Position: 2500 of 4257, number of signals: 0\nStrategy - Start retraining.\nStrategy - End retraining.\nBacktest - 61.08% done. Position: 2600 of 4257, number of signals: 0\nStrategy - Start retraining.\nStrategy - End retraining.\nBacktest - 63.42% done. Position: 2700 of 4257, number of signals: 0\nStrategy - Start retraining.\nStrategy - End retraining.\nBacktest - 65.77% done. Position: 2800 of 4257, number of signals: 0\nStrategy - Start retraining.\nStrategy - End retraining.\nBacktest - 68.12% done. Position: 2900 of 4257, number of signals: 0\nStrategy - Start retraining.\nStrategy - End retraining.\nBacktest - 70.47% done. Position: 3000 of 4257, number of signals: 0\nStrategy - Start retraining.\nStrategy - End retraining.\nBacktest - 72.82% done. Position: 3100 of 4257, number of signals: 0\nStrategy - Start retraining.\nStrategy - End retraining.\nBacktest - 75.17% done. Position: 3200 of 4257, number of signals: 0\nStrategy - Start retraining.\nStrategy - End retraining.\nBacktest - 77.52% done. Position: 3300 of 4257, number of signals: 0\nStrategy - Start retraining.\nStrategy - End retraining.\nBacktest - 79.87% done. Position: 3400 of 4257, number of signals: 0\n{'transactTime': numpy.datetime64('2020-03-12T11:00:00.000000000'), 'signal': <TradingSignal.BUY: 1>, 'price': 6014.9, 'reason': 'The boos model predicts up'}\n{'transactTime': numpy.datetime64('2020-03-12T15:00:00.000000000'), 'signal': <TradingSignal.SELL: 0>, 'price': 6090.48, 'reason': 'the boost model predicts down'}\n{'transactTime': numpy.datetime64('2020-03-13T01:00:00.000000000'), 'signal': <TradingSignal.BUY: 1>, 'price': 4656.71, 'reason': 'The boos model predicts up'}\n{'transactTime': numpy.datetime64('2020-03-13T03:00:00.000000000'), 'signal': <TradingSignal.SELL: 0>, 'price': 4848.7, 'reason': 'the boost model predicts down'}\n{'transactTime': numpy.datetime64('2020-03-13T16:00:00.000000000'), 'signal': <TradingSignal.BUY: 1>, 'price': 5207.63, 'reason': 'The boos model predicts up'}\n{'transactTime': numpy.datetime64('2020-03-13T17:00:00.000000000'), 'signal': <TradingSignal.SELL: 0>, 'price': 5196.77, 'reason': 'the boost model predicts down'}\n{'transactTime': numpy.datetime64('2020-03-14T01:00:00.000000000'), 'signal': <TradingSignal.BUY: 1>, 'price': 5452.1, 'reason': 'The boos model predicts up'}\n{'transactTime': numpy.datetime64('2020-03-14T14:00:00.000000000'), 'signal': <TradingSignal.SELL: 0>, 'price': 5300.84, 'reason': 'the boost model predicts down'}\n{'transactTime': numpy.datetime64('2020-03-14T15:00:00.000000000'), 'signal': <TradingSignal.BUY: 1>, 'price': 5369.56, 'reason': 'The boos model predicts up'}\n{'transactTime': numpy.datetime64('2020-03-14T20:00:00.000000000'), 'signal': <TradingSignal.SELL: 0>, 'price': 5386.84, 'reason': 'the boost model predicts down'}\nStrategy - Start retraining.\nStrategy - End retraining.\nBacktest - 82.22% done. Position: 3500 of 4257, number of signals: 10\nStrategy - Start retraining.\nStrategy - End retraining.\nBacktest - 84.57% done. Position: 3600 of 4257, number of signals: 10\nStrategy - Start retraining.\nStrategy - End retraining.\nBacktest - 86.92% done. Position: 3700 of 4257, number of signals: 10\nStrategy - Start retraining.\nStrategy - End retraining.\nBacktest - 89.26% done. Position: 3800 of 4257, number of signals: 10\nStrategy - Start retraining.\nStrategy - End retraining.\nBacktest - 91.61% done. Position: 3900 of 4257, number of signals: 10\nStrategy - Start retraining.\nStrategy - End retraining.\nBacktest - 93.96% done. Position: 4000 of 4257, number of signals: 10\nStrategy - Start retraining.\nStrategy - End retraining.\nBacktest - 96.31% done. Position: 4100 of 4257, number of signals: 10\nStrategy - Start retraining.\nStrategy - End retraining.\nBacktest - 98.66% done. Position: 4200 of 4257, number of signals: 10\n"
    }
   ],
   "source": [
    "path_builder = setup_file_path(tmp_path)\n",
    "\n",
    "signals = Backtest.run(\n",
    "    strategy=strategy,\n",
    "    features=features,\n",
    "    candlesticks=candlesticks,\n",
    "    start_position=trade_start_position,\n",
    "    end_position=trade_end_position,\n",
    "    signals_csv_path=path_builder(\"signals\")\n",
    ")\n",
    "# signals = Backtest._runWithTarget(\n",
    "#     strategy=strategy,\n",
    "#     features=features,\n",
    "#     targets=targets,\n",
    "#     candlesticks=candlesticks,\n",
    "#     start_position=trade_start_position,\n",
    "#     end_position=trade_end_position,\n",
    "#     signals_csv_path=strategy_tmp_path + \"signals.csv\",\n",
    "# )\n",
    "path_builder = None"
   ]
  },
  {
   "cell_type": "code",
   "execution_count": 11,
   "metadata": {},
   "outputs": [
    {
     "output_type": "stream",
     "name": "stdout",
     "text": "Starts with 8191.24$ at 2019-10-21T16:00:00.000000000\nEnds with 8405.983198705955$ (number of trades: 10) at 2020-04-16T11:59:59.999000000\nEarned 214.74319870595536$ (2.62%)\nPercentage price change in period: -13.96%\n"
    }
   ],
   "source": [
    "path_builder = setup_file_path(tmp_path)\n",
    "\n",
    "trades = Backtest.evaluate(\n",
    "   signals, candlesticks, trade_start_position, trade_end_position, 0.000\n",
    ")\n",
    "#trades.to_csv(strategy_tmp_path + \"trades.csv\")\n",
    "\n",
    "chartTrades(\n",
    "    trades,\n",
    "    candlesticks,\n",
    "    trade_start_position,\n",
    "    trade_end_position,\n",
    "    path_builder(\"chart\", extension=\"html\"),\n",
    ")\n",
    "path_builder = None"
   ]
  },
  {
   "cell_type": "code",
   "execution_count": 12,
   "metadata": {},
   "outputs": [
    {
     "output_type": "execute_result",
     "data": {
      "text/plain": "            open time          close time time in position  open price  \\\n0 2020-03-12 11:00:00 2020-03-12 15:00:00         04:00:00     6014.90   \n1 2020-03-13 01:00:00 2020-03-13 03:00:00         02:00:00     4656.71   \n2 2020-03-13 16:00:00 2020-03-13 17:00:00         01:00:00     5207.63   \n3 2020-03-14 01:00:00 2020-03-14 14:00:00         13:00:00     5452.10   \n4 2020-03-14 15:00:00 2020-03-14 20:00:00         05:00:00     5369.56   \n\n   close price  change  change %   open money  close money  \\\n0      6090.48   75.58  1.256546  8191.240000  8294.166719   \n1      4848.70  191.99  4.122868  8294.166719  8636.124253   \n2      5196.77  -10.86 -0.208540  8636.124253  8618.114465   \n3      5300.84 -151.26 -2.774344  8618.114465  8379.018338   \n4      5386.84   17.28  0.321814  8379.018338  8405.983199   \n\n                  open reason                   close reason  \n0  The boos model predicts up  the boost model predicts down  \n1  The boos model predicts up  the boost model predicts down  \n2  The boos model predicts up  the boost model predicts down  \n3  The boos model predicts up  the boost model predicts down  \n4  The boos model predicts up  the boost model predicts down  ",
      "text/html": "<div>\n<style scoped>\n    .dataframe tbody tr th:only-of-type {\n        vertical-align: middle;\n    }\n\n    .dataframe tbody tr th {\n        vertical-align: top;\n    }\n\n    .dataframe thead th {\n        text-align: right;\n    }\n</style>\n<table border=\"1\" class=\"dataframe\">\n  <thead>\n    <tr style=\"text-align: right;\">\n      <th></th>\n      <th>open time</th>\n      <th>close time</th>\n      <th>time in position</th>\n      <th>open price</th>\n      <th>close price</th>\n      <th>change</th>\n      <th>change %</th>\n      <th>open money</th>\n      <th>close money</th>\n      <th>open reason</th>\n      <th>close reason</th>\n    </tr>\n  </thead>\n  <tbody>\n    <tr>\n      <th>0</th>\n      <td>2020-03-12 11:00:00</td>\n      <td>2020-03-12 15:00:00</td>\n      <td>04:00:00</td>\n      <td>6014.90</td>\n      <td>6090.48</td>\n      <td>75.58</td>\n      <td>1.256546</td>\n      <td>8191.240000</td>\n      <td>8294.166719</td>\n      <td>The boos model predicts up</td>\n      <td>the boost model predicts down</td>\n    </tr>\n    <tr>\n      <th>1</th>\n      <td>2020-03-13 01:00:00</td>\n      <td>2020-03-13 03:00:00</td>\n      <td>02:00:00</td>\n      <td>4656.71</td>\n      <td>4848.70</td>\n      <td>191.99</td>\n      <td>4.122868</td>\n      <td>8294.166719</td>\n      <td>8636.124253</td>\n      <td>The boos model predicts up</td>\n      <td>the boost model predicts down</td>\n    </tr>\n    <tr>\n      <th>2</th>\n      <td>2020-03-13 16:00:00</td>\n      <td>2020-03-13 17:00:00</td>\n      <td>01:00:00</td>\n      <td>5207.63</td>\n      <td>5196.77</td>\n      <td>-10.86</td>\n      <td>-0.208540</td>\n      <td>8636.124253</td>\n      <td>8618.114465</td>\n      <td>The boos model predicts up</td>\n      <td>the boost model predicts down</td>\n    </tr>\n    <tr>\n      <th>3</th>\n      <td>2020-03-14 01:00:00</td>\n      <td>2020-03-14 14:00:00</td>\n      <td>13:00:00</td>\n      <td>5452.10</td>\n      <td>5300.84</td>\n      <td>-151.26</td>\n      <td>-2.774344</td>\n      <td>8618.114465</td>\n      <td>8379.018338</td>\n      <td>The boos model predicts up</td>\n      <td>the boost model predicts down</td>\n    </tr>\n    <tr>\n      <th>4</th>\n      <td>2020-03-14 15:00:00</td>\n      <td>2020-03-14 20:00:00</td>\n      <td>05:00:00</td>\n      <td>5369.56</td>\n      <td>5386.84</td>\n      <td>17.28</td>\n      <td>0.321814</td>\n      <td>8379.018338</td>\n      <td>8405.983199</td>\n      <td>The boos model predicts up</td>\n      <td>the boost model predicts down</td>\n    </tr>\n  </tbody>\n</table>\n</div>"
     },
     "metadata": {},
     "execution_count": 12
    }
   ],
   "source": [
    "trades"
   ]
  },
  {
   "cell_type": "code",
   "execution_count": 13,
   "metadata": {},
   "outputs": [
    {
     "output_type": "execute_result",
     "data": {
      "text/plain": "             time in position   open price  close price      change  change %  \\\ncount                       5     5.000000     5.000000    5.000000  5.000000   \nmean          0 days 05:00:00  5340.180000  5364.726000   24.546000  0.543669   \nstd    0 days 04:44:36.299364   488.194913   454.362567  125.355586  2.497154   \nmin           0 days 01:00:00  4656.710000  4848.700000 -151.260000 -2.774344   \n25%           0 days 02:00:00  5207.630000  5196.770000  -10.860000 -0.208540   \n50%           0 days 04:00:00  5369.560000  5300.840000   17.280000  0.321814   \n75%           0 days 05:00:00  5452.100000  5386.840000   75.580000  1.256546   \nmax           0 days 13:00:00  6014.900000  6090.480000  191.990000  4.122868   \n\n        open money  close money  \ncount     5.000000     5.000000  \nmean   8423.732755  8466.681395  \nstd     197.315747   152.293510  \nmin    8191.240000  8294.166719  \n25%    8294.166719  8379.018338  \n50%    8379.018338  8405.983199  \n75%    8618.114465  8618.114465  \nmax    8636.124253  8636.124253  ",
      "text/html": "<div>\n<style scoped>\n    .dataframe tbody tr th:only-of-type {\n        vertical-align: middle;\n    }\n\n    .dataframe tbody tr th {\n        vertical-align: top;\n    }\n\n    .dataframe thead th {\n        text-align: right;\n    }\n</style>\n<table border=\"1\" class=\"dataframe\">\n  <thead>\n    <tr style=\"text-align: right;\">\n      <th></th>\n      <th>time in position</th>\n      <th>open price</th>\n      <th>close price</th>\n      <th>change</th>\n      <th>change %</th>\n      <th>open money</th>\n      <th>close money</th>\n    </tr>\n  </thead>\n  <tbody>\n    <tr>\n      <th>count</th>\n      <td>5</td>\n      <td>5.000000</td>\n      <td>5.000000</td>\n      <td>5.000000</td>\n      <td>5.000000</td>\n      <td>5.000000</td>\n      <td>5.000000</td>\n    </tr>\n    <tr>\n      <th>mean</th>\n      <td>0 days 05:00:00</td>\n      <td>5340.180000</td>\n      <td>5364.726000</td>\n      <td>24.546000</td>\n      <td>0.543669</td>\n      <td>8423.732755</td>\n      <td>8466.681395</td>\n    </tr>\n    <tr>\n      <th>std</th>\n      <td>0 days 04:44:36.299364</td>\n      <td>488.194913</td>\n      <td>454.362567</td>\n      <td>125.355586</td>\n      <td>2.497154</td>\n      <td>197.315747</td>\n      <td>152.293510</td>\n    </tr>\n    <tr>\n      <th>min</th>\n      <td>0 days 01:00:00</td>\n      <td>4656.710000</td>\n      <td>4848.700000</td>\n      <td>-151.260000</td>\n      <td>-2.774344</td>\n      <td>8191.240000</td>\n      <td>8294.166719</td>\n    </tr>\n    <tr>\n      <th>25%</th>\n      <td>0 days 02:00:00</td>\n      <td>5207.630000</td>\n      <td>5196.770000</td>\n      <td>-10.860000</td>\n      <td>-0.208540</td>\n      <td>8294.166719</td>\n      <td>8379.018338</td>\n    </tr>\n    <tr>\n      <th>50%</th>\n      <td>0 days 04:00:00</td>\n      <td>5369.560000</td>\n      <td>5300.840000</td>\n      <td>17.280000</td>\n      <td>0.321814</td>\n      <td>8379.018338</td>\n      <td>8405.983199</td>\n    </tr>\n    <tr>\n      <th>75%</th>\n      <td>0 days 05:00:00</td>\n      <td>5452.100000</td>\n      <td>5386.840000</td>\n      <td>75.580000</td>\n      <td>1.256546</td>\n      <td>8618.114465</td>\n      <td>8618.114465</td>\n    </tr>\n    <tr>\n      <th>max</th>\n      <td>0 days 13:00:00</td>\n      <td>6014.900000</td>\n      <td>6090.480000</td>\n      <td>191.990000</td>\n      <td>4.122868</td>\n      <td>8636.124253</td>\n      <td>8636.124253</td>\n    </tr>\n  </tbody>\n</table>\n</div>"
     },
     "metadata": {},
     "execution_count": 13
    }
   ],
   "source": [
    "trades.describe()"
   ]
  },
  {
   "cell_type": "code",
   "execution_count": null,
   "metadata": {},
   "outputs": [],
   "source": []
  }
 ]
}