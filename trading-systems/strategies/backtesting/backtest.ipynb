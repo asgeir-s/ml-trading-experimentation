{
 "nbformat": 4,
 "nbformat_minor": 2,
 "metadata": {
  "language_info": {
   "name": "python",
   "codemirror_mode": {
    "name": "ipython",
    "version": 3
   },
   "version": "3.7.7-final"
  },
  "orig_nbformat": 2,
  "file_extension": ".py",
  "mimetype": "text/x-python",
  "name": "python",
  "npconvert_exporter": "python",
  "pygments_lexer": "ipython3",
  "version": 3,
  "kernelspec": {
   "name": "python3",
   "display_name": "Python 3"
  }
 },
 "cells": [
  {
   "cell_type": "code",
   "execution_count": 1,
   "metadata": {},
   "outputs": [],
   "source": [
    "import os, sys\n",
    "\n",
    "sys.path.insert(0, os.path.abspath(\"../..\"))"
   ]
  },
  {
   "cell_type": "code",
   "execution_count": 2,
   "metadata": {},
   "outputs": [],
   "source": [
    "from lib.data_util import load_candlesticks\n",
    "from lib.backtest import Backtest, setup_file_path\n",
    "from lib.charting import chartTrades\n",
    "import pathlib\n",
    "import pandas as pd\n",
    ""
   ]
  },
  {
   "cell_type": "code",
   "execution_count": 3,
   "metadata": {},
   "outputs": [],
   "source": [
    "# from strategies import First as Strategy\n",
    "# from strategies import Second as Strategy\n",
    "from strategies import Third as Strategy\n",
    "# from strategies import UpDownDoubleSpiral as Strategy"
   ]
  },
  {
   "cell_type": "code",
   "execution_count": 4,
   "metadata": {},
   "outputs": [],
   "source": [
    "strategy = Strategy()\n",
    "tmp_path = \"./tmp/\" + strategy.__class__.__name__ + \"/\"\n",
    "\n",
    "path_builder = setup_file_path(tmp_path)"
   ]
  },
  {
   "cell_type": "code",
   "execution_count": 5,
   "metadata": {},
   "outputs": [
    {
     "output_type": "stream",
     "name": "stdout",
     "text": "Closetime of newest candle is 1587038399999\nOnly using data on file. Will not download new data from Binance.\n"
    }
   ],
   "source": [
    "candlesticks = load_candlesticks(\"BTCUSDT\", \"1h\", custom_data_path=\"../../tmp\")\n",
    "\n",
    "trade_start_position = 10000\n",
    "trade_end_position = len(candlesticks)\n",
    "\n",
    "features = strategy.generate_features(candlesticks)\n",
    "targets = strategy._generate_targets(candlesticks, features)\n",
    "\n",
    "features.to_csv(path_builder(\"features\"))\n",
    "\n",
    "pd.DataFrame(targets).to_csv(path_builder(\"targets\"))\n",
    "path_builder = None"
   ]
  },
  {
   "cell_type": "code",
   "execution_count": 6,
   "metadata": {
    "tags": [
     "outputPrepend",
     "outputPrepend",
     "outputPrepend",
     "outputPrepend",
     "outputPrepend",
     "outputPrepend",
     "outputPrepend",
     "outputPrepend",
     "outputPrepend",
     "outputPrepend",
     "outputPrepend",
     "outputPrepend",
     "outputPrepend",
     "outputPrepend",
     "outputPrepend",
     "outputPrepend",
     "outputPrepend",
     "outputPrepend",
     "outputPrepend",
     "outputPrepend",
     "outputPrepend",
     "outputPrepend",
     "outputPrepend",
     "outputPrepend",
     "outputPrepend",
     "outputPrepend",
     "outputPrepend",
     "outputPrepend",
     "outputPrepend",
     "outputPrepend",
     "outputPrepend",
     "outputPrepend",
     "outputPrepend",
     "outputPrepend",
     "outputPrepend",
     "outputPrepend",
     "outputPrepend",
     "outputPrepend",
     "outputPrepend"
    ]
   },
   "outputs": [
    {
     "output_type": "stream",
     "name": "stdout",
     "text": "ome parameters are only used in language bindings but\n  passed down to XGBoost core.  Or some parameters are not used but slip through this\n  verification. Please open an issue if you find above cases.\n\n\nStrategy - End retraining.\nBacktest - 21.12% done. Position: 2800 of 13257, number of signals: 62\nBacktest - 21.88% done. Position: 2900 of 13257, number of signals: 65\nBacktest - 22.63% done. Position: 3000 of 13257, number of signals: 66\nBacktest - 23.38% done. Position: 3100 of 13257, number of signals: 68\nStrategy - Start retraining.\n[19:57:59] WARNING: /usr/local/miniconda/conda-bld/xgboost_1584539872846/work/src/learner.cc:328: \nParameters: { importance_type, missing, n_estimators } might not be used.\n\n  This may not be accurate due to some parameters are only used in language bindings but\n  passed down to XGBoost core.  Or some parameters are not used but slip through this\n  verification. Please open an issue if you find above cases.\n\n\nStrategy - End retraining.\nBacktest - 24.14% done. Position: 3200 of 13257, number of signals: 70\nBacktest - 24.89% done. Position: 3300 of 13257, number of signals: 74\nBacktest - 25.65% done. Position: 3400 of 13257, number of signals: 77\nBacktest - 26.40% done. Position: 3500 of 13257, number of signals: 78\nStrategy - Start retraining.\n[19:58:19] WARNING: /usr/local/miniconda/conda-bld/xgboost_1584539872846/work/src/learner.cc:328: \nParameters: { importance_type, missing, n_estimators } might not be used.\n\n  This may not be accurate due to some parameters are only used in language bindings but\n  passed down to XGBoost core.  Or some parameters are not used but slip through this\n  verification. Please open an issue if you find above cases.\n\n\nStrategy - End retraining.\nBacktest - 27.16% done. Position: 3600 of 13257, number of signals: 78\nBacktest - 27.91% done. Position: 3700 of 13257, number of signals: 82\nBacktest - 28.66% done. Position: 3800 of 13257, number of signals: 84\nBacktest - 29.42% done. Position: 3900 of 13257, number of signals: 84\nStrategy - Start retraining.\n[19:58:43] WARNING: /usr/local/miniconda/conda-bld/xgboost_1584539872846/work/src/learner.cc:328: \nParameters: { importance_type, missing, n_estimators } might not be used.\n\n  This may not be accurate due to some parameters are only used in language bindings but\n  passed down to XGBoost core.  Or some parameters are not used but slip through this\n  verification. Please open an issue if you find above cases.\n\n\nStrategy - End retraining.\nBacktest - 30.17% done. Position: 4000 of 13257, number of signals: 84\nBacktest - 30.93% done. Position: 4100 of 13257, number of signals: 88\nBacktest - 31.68% done. Position: 4200 of 13257, number of signals: 89\nBacktest - 32.44% done. Position: 4300 of 13257, number of signals: 91\nStrategy - Start retraining.\n[19:59:05] WARNING: /usr/local/miniconda/conda-bld/xgboost_1584539872846/work/src/learner.cc:328: \nParameters: { importance_type, missing, n_estimators } might not be used.\n\n  This may not be accurate due to some parameters are only used in language bindings but\n  passed down to XGBoost core.  Or some parameters are not used but slip through this\n  verification. Please open an issue if you find above cases.\n\n\nStrategy - End retraining.\nBacktest - 33.19% done. Position: 4400 of 13257, number of signals: 94\nBacktest - 33.94% done. Position: 4500 of 13257, number of signals: 98\nBacktest - 34.70% done. Position: 4600 of 13257, number of signals: 101\nBacktest - 35.45% done. Position: 4700 of 13257, number of signals: 104\nStrategy - Start retraining.\n[19:59:27] WARNING: /usr/local/miniconda/conda-bld/xgboost_1584539872846/work/src/learner.cc:328: \nParameters: { importance_type, missing, n_estimators } might not be used.\n\n  This may not be accurate due to some parameters are only used in language bindings but\n  passed down to XGBoost core.  Or some parameters are not used but slip through this\n  verification. Please open an issue if you find above cases.\n\n\nStrategy - End retraining.\nBacktest - 36.21% done. Position: 4800 of 13257, number of signals: 110\nBacktest - 36.96% done. Position: 4900 of 13257, number of signals: 111\nBacktest - 37.72% done. Position: 5000 of 13257, number of signals: 117\nBacktest - 38.47% done. Position: 5100 of 13257, number of signals: 119\nStrategy - Start retraining.\n[19:59:51] WARNING: /usr/local/miniconda/conda-bld/xgboost_1584539872846/work/src/learner.cc:328: \nParameters: { importance_type, missing, n_estimators } might not be used.\n\n  This may not be accurate due to some parameters are only used in language bindings but\n  passed down to XGBoost core.  Or some parameters are not used but slip through this\n  verification. Please open an issue if you find above cases.\n\n\nStrategy - End retraining.\nBacktest - 39.22% done. Position: 5200 of 13257, number of signals: 122\nBacktest - 39.98% done. Position: 5300 of 13257, number of signals: 123\nBacktest - 40.73% done. Position: 5400 of 13257, number of signals: 129\nBacktest - 41.49% done. Position: 5500 of 13257, number of signals: 132\nStrategy - Start retraining.\n[20:00:14] WARNING: /usr/local/miniconda/conda-bld/xgboost_1584539872846/work/src/learner.cc:328: \nParameters: { importance_type, missing, n_estimators } might not be used.\n\n  This may not be accurate due to some parameters are only used in language bindings but\n  passed down to XGBoost core.  Or some parameters are not used but slip through this\n  verification. Please open an issue if you find above cases.\n\n\nStrategy - End retraining.\nBacktest - 42.24% done. Position: 5600 of 13257, number of signals: 137\nBacktest - 43.00% done. Position: 5700 of 13257, number of signals: 138\nBacktest - 43.75% done. Position: 5800 of 13257, number of signals: 140\nBacktest - 44.50% done. Position: 5900 of 13257, number of signals: 143\nStrategy - Start retraining.\n[20:00:38] WARNING: /usr/local/miniconda/conda-bld/xgboost_1584539872846/work/src/learner.cc:328: \nParameters: { importance_type, missing, n_estimators } might not be used.\n\n  This may not be accurate due to some parameters are only used in language bindings but\n  passed down to XGBoost core.  Or some parameters are not used but slip through this\n  verification. Please open an issue if you find above cases.\n\n\nStrategy - End retraining.\nBacktest - 45.26% done. Position: 6000 of 13257, number of signals: 143\nBacktest - 46.01% done. Position: 6100 of 13257, number of signals: 145\nBacktest - 46.77% done. Position: 6200 of 13257, number of signals: 147\nBacktest - 47.52% done. Position: 6300 of 13257, number of signals: 150\nStrategy - Start retraining.\n[20:01:03] WARNING: /usr/local/miniconda/conda-bld/xgboost_1584539872846/work/src/learner.cc:328: \nParameters: { importance_type, missing, n_estimators } might not be used.\n\n  This may not be accurate due to some parameters are only used in language bindings but\n  passed down to XGBoost core.  Or some parameters are not used but slip through this\n  verification. Please open an issue if you find above cases.\n\n\nStrategy - End retraining.\nBacktest - 48.28% done. Position: 6400 of 13257, number of signals: 152\nBacktest - 49.03% done. Position: 6500 of 13257, number of signals: 155\nBacktest - 49.79% done. Position: 6600 of 13257, number of signals: 157\nBacktest - 50.54% done. Position: 6700 of 13257, number of signals: 160\nStrategy - Start retraining.\n[20:01:29] WARNING: /usr/local/miniconda/conda-bld/xgboost_1584539872846/work/src/learner.cc:328: \nParameters: { importance_type, missing, n_estimators } might not be used.\n\n  This may not be accurate due to some parameters are only used in language bindings but\n  passed down to XGBoost core.  Or some parameters are not used but slip through this\n  verification. Please open an issue if you find above cases.\n\n\nStrategy - End retraining.\nBacktest - 51.29% done. Position: 6800 of 13257, number of signals: 164\nBacktest - 52.05% done. Position: 6900 of 13257, number of signals: 165\nBacktest - 52.80% done. Position: 7000 of 13257, number of signals: 170\nBacktest - 53.56% done. Position: 7100 of 13257, number of signals: 171\nStrategy - Start retraining.\n[20:01:55] WARNING: /usr/local/miniconda/conda-bld/xgboost_1584539872846/work/src/learner.cc:328: \nParameters: { importance_type, missing, n_estimators } might not be used.\n\n  This may not be accurate due to some parameters are only used in language bindings but\n  passed down to XGBoost core.  Or some parameters are not used but slip through this\n  verification. Please open an issue if you find above cases.\n\n\nStrategy - End retraining.\nBacktest - 54.31% done. Position: 7200 of 13257, number of signals: 174\nBacktest - 55.07% done. Position: 7300 of 13257, number of signals: 180\nBacktest - 55.82% done. Position: 7400 of 13257, number of signals: 182\nBacktest - 56.57% done. Position: 7500 of 13257, number of signals: 183\nStrategy - Start retraining.\n[20:02:22] WARNING: /usr/local/miniconda/conda-bld/xgboost_1584539872846/work/src/learner.cc:328: \nParameters: { importance_type, missing, n_estimators } might not be used.\n\n  This may not be accurate due to some parameters are only used in language bindings but\n  passed down to XGBoost core.  Or some parameters are not used but slip through this\n  verification. Please open an issue if you find above cases.\n\n\nStrategy - End retraining.\nBacktest - 57.33% done. Position: 7600 of 13257, number of signals: 185\nBacktest - 58.08% done. Position: 7700 of 13257, number of signals: 186\nBacktest - 58.84% done. Position: 7800 of 13257, number of signals: 190\nBacktest - 59.59% done. Position: 7900 of 13257, number of signals: 192\nStrategy - Start retraining.\n[20:02:49] WARNING: /usr/local/miniconda/conda-bld/xgboost_1584539872846/work/src/learner.cc:328: \nParameters: { importance_type, missing, n_estimators } might not be used.\n\n  This may not be accurate due to some parameters are only used in language bindings but\n  passed down to XGBoost core.  Or some parameters are not used but slip through this\n  verification. Please open an issue if you find above cases.\n\n\nStrategy - End retraining.\nBacktest - 60.35% done. Position: 8000 of 13257, number of signals: 196\nBacktest - 61.10% done. Position: 8100 of 13257, number of signals: 198\nBacktest - 61.85% done. Position: 8200 of 13257, number of signals: 202\nBacktest - 62.61% done. Position: 8300 of 13257, number of signals: 204\nStrategy - Start retraining.\n[20:03:17] WARNING: /usr/local/miniconda/conda-bld/xgboost_1584539872846/work/src/learner.cc:328: \nParameters: { importance_type, missing, n_estimators } might not be used.\n\n  This may not be accurate due to some parameters are only used in language bindings but\n  passed down to XGBoost core.  Or some parameters are not used but slip through this\n  verification. Please open an issue if you find above cases.\n\n\nStrategy - End retraining.\nBacktest - 63.36% done. Position: 8400 of 13257, number of signals: 204\nBacktest - 64.12% done. Position: 8500 of 13257, number of signals: 206\nBacktest - 64.87% done. Position: 8600 of 13257, number of signals: 208\nBacktest - 65.63% done. Position: 8700 of 13257, number of signals: 210\nStrategy - Start retraining.\n[20:03:46] WARNING: /usr/local/miniconda/conda-bld/xgboost_1584539872846/work/src/learner.cc:328: \nParameters: { importance_type, missing, n_estimators } might not be used.\n\n  This may not be accurate due to some parameters are only used in language bindings but\n  passed down to XGBoost core.  Or some parameters are not used but slip through this\n  verification. Please open an issue if you find above cases.\n\n\nStrategy - End retraining.\nBacktest - 66.38% done. Position: 8800 of 13257, number of signals: 217\nBacktest - 67.13% done. Position: 8900 of 13257, number of signals: 218\nBacktest - 67.89% done. Position: 9000 of 13257, number of signals: 220\nBacktest - 68.64% done. Position: 9100 of 13257, number of signals: 221\nStrategy - Start retraining.\n[20:04:15] WARNING: /usr/local/miniconda/conda-bld/xgboost_1584539872846/work/src/learner.cc:328: \nParameters: { importance_type, missing, n_estimators } might not be used.\n\n  This may not be accurate due to some parameters are only used in language bindings but\n  passed down to XGBoost core.  Or some parameters are not used but slip through this\n  verification. Please open an issue if you find above cases.\n\n\nStrategy - End retraining.\nBacktest - 69.40% done. Position: 9200 of 13257, number of signals: 222\nBacktest - 70.15% done. Position: 9300 of 13257, number of signals: 225\nBacktest - 70.91% done. Position: 9400 of 13257, number of signals: 228\nBacktest - 71.66% done. Position: 9500 of 13257, number of signals: 230\nStrategy - Start retraining.\n[20:04:46] WARNING: /usr/local/miniconda/conda-bld/xgboost_1584539872846/work/src/learner.cc:328: \nParameters: { importance_type, missing, n_estimators } might not be used.\n\n  This may not be accurate due to some parameters are only used in language bindings but\n  passed down to XGBoost core.  Or some parameters are not used but slip through this\n  verification. Please open an issue if you find above cases.\n\n\nStrategy - End retraining.\nBacktest - 72.41% done. Position: 9600 of 13257, number of signals: 232\nBacktest - 73.17% done. Position: 9700 of 13257, number of signals: 232\nBacktest - 73.92% done. Position: 9800 of 13257, number of signals: 236\nBacktest - 74.68% done. Position: 9900 of 13257, number of signals: 239\nStrategy - Start retraining.\n[20:05:17] WARNING: /usr/local/miniconda/conda-bld/xgboost_1584539872846/work/src/learner.cc:328: \nParameters: { importance_type, missing, n_estimators } might not be used.\n\n  This may not be accurate due to some parameters are only used in language bindings but\n  passed down to XGBoost core.  Or some parameters are not used but slip through this\n  verification. Please open an issue if you find above cases.\n\n\nStrategy - End retraining.\nBacktest - 75.43% done. Position: 10000 of 13257, number of signals: 242\nBacktest - 76.19% done. Position: 10100 of 13257, number of signals: 246\nBacktest - 76.94% done. Position: 10200 of 13257, number of signals: 252\nBacktest - 77.69% done. Position: 10300 of 13257, number of signals: 252\nStrategy - Start retraining.\n[20:05:48] WARNING: /usr/local/miniconda/conda-bld/xgboost_1584539872846/work/src/learner.cc:328: \nParameters: { importance_type, missing, n_estimators } might not be used.\n\n  This may not be accurate due to some parameters are only used in language bindings but\n  passed down to XGBoost core.  Or some parameters are not used but slip through this\n  verification. Please open an issue if you find above cases.\n\n\nStrategy - End retraining.\nBacktest - 78.45% done. Position: 10400 of 13257, number of signals: 255\nBacktest - 79.20% done. Position: 10500 of 13257, number of signals: 258\nBacktest - 79.96% done. Position: 10600 of 13257, number of signals: 260\nBacktest - 80.71% done. Position: 10700 of 13257, number of signals: 262\nStrategy - Start retraining.\n[20:06:20] WARNING: /usr/local/miniconda/conda-bld/xgboost_1584539872846/work/src/learner.cc:328: \nParameters: { importance_type, missing, n_estimators } might not be used.\n\n  This may not be accurate due to some parameters are only used in language bindings but\n  passed down to XGBoost core.  Or some parameters are not used but slip through this\n  verification. Please open an issue if you find above cases.\n\n\nStrategy - End retraining.\nBacktest - 81.47% done. Position: 10800 of 13257, number of signals: 262\nBacktest - 82.22% done. Position: 10900 of 13257, number of signals: 263\nBacktest - 82.98% done. Position: 11000 of 13257, number of signals: 267\nBacktest - 83.73% done. Position: 11100 of 13257, number of signals: 268\nStrategy - Start retraining.\n[20:06:52] WARNING: /usr/local/miniconda/conda-bld/xgboost_1584539872846/work/src/learner.cc:328: \nParameters: { importance_type, missing, n_estimators } might not be used.\n\n  This may not be accurate due to some parameters are only used in language bindings but\n  passed down to XGBoost core.  Or some parameters are not used but slip through this\n  verification. Please open an issue if you find above cases.\n\n\nStrategy - End retraining.\nBacktest - 84.48% done. Position: 11200 of 13257, number of signals: 272\nBacktest - 85.24% done. Position: 11300 of 13257, number of signals: 274\nBacktest - 85.99% done. Position: 11400 of 13257, number of signals: 275\nBacktest - 86.75% done. Position: 11500 of 13257, number of signals: 280\nStrategy - Start retraining.\n[20:07:25] WARNING: /usr/local/miniconda/conda-bld/xgboost_1584539872846/work/src/learner.cc:328: \nParameters: { importance_type, missing, n_estimators } might not be used.\n\n  This may not be accurate due to some parameters are only used in language bindings but\n  passed down to XGBoost core.  Or some parameters are not used but slip through this\n  verification. Please open an issue if you find above cases.\n\n\nStrategy - End retraining.\nBacktest - 87.50% done. Position: 11600 of 13257, number of signals: 281\nBacktest - 88.26% done. Position: 11700 of 13257, number of signals: 284\nBacktest - 89.01% done. Position: 11800 of 13257, number of signals: 286\nBacktest - 89.76% done. Position: 11900 of 13257, number of signals: 288\nStrategy - Start retraining.\n[20:07:58] WARNING: /usr/local/miniconda/conda-bld/xgboost_1584539872846/work/src/learner.cc:328: \nParameters: { importance_type, missing, n_estimators } might not be used.\n\n  This may not be accurate due to some parameters are only used in language bindings but\n  passed down to XGBoost core.  Or some parameters are not used but slip through this\n  verification. Please open an issue if you find above cases.\n\n\nStrategy - End retraining.\nBacktest - 90.52% done. Position: 12000 of 13257, number of signals: 289\nBacktest - 91.27% done. Position: 12100 of 13257, number of signals: 291\nBacktest - 92.03% done. Position: 12200 of 13257, number of signals: 293\nBacktest - 92.78% done. Position: 12300 of 13257, number of signals: 296\nStrategy - Start retraining.\n[20:08:33] WARNING: /usr/local/miniconda/conda-bld/xgboost_1584539872846/work/src/learner.cc:328: \nParameters: { importance_type, missing, n_estimators } might not be used.\n\n  This may not be accurate due to some parameters are only used in language bindings but\n  passed down to XGBoost core.  Or some parameters are not used but slip through this\n  verification. Please open an issue if you find above cases.\n\n\nStrategy - End retraining.\nBacktest - 93.54% done. Position: 12400 of 13257, number of signals: 298\nBacktest - 94.29% done. Position: 12500 of 13257, number of signals: 298\nBacktest - 95.04% done. Position: 12600 of 13257, number of signals: 303\nBacktest - 95.80% done. Position: 12700 of 13257, number of signals: 307\nStrategy - Start retraining.\n[20:09:08] WARNING: /usr/local/miniconda/conda-bld/xgboost_1584539872846/work/src/learner.cc:328: \nParameters: { importance_type, missing, n_estimators } might not be used.\n\n  This may not be accurate due to some parameters are only used in language bindings but\n  passed down to XGBoost core.  Or some parameters are not used but slip through this\n  verification. Please open an issue if you find above cases.\n\n\nStrategy - End retraining.\nBacktest - 96.55% done. Position: 12800 of 13257, number of signals: 312\nBacktest - 97.31% done. Position: 12900 of 13257, number of signals: 314\nBacktest - 98.06% done. Position: 13000 of 13257, number of signals: 317\nBacktest - 98.82% done. Position: 13100 of 13257, number of signals: 320\nStrategy - Start retraining.\n[20:09:44] WARNING: /usr/local/miniconda/conda-bld/xgboost_1584539872846/work/src/learner.cc:328: \nParameters: { importance_type, missing, n_estimators } might not be used.\n\n  This may not be accurate due to some parameters are only used in language bindings but\n  passed down to XGBoost core.  Or some parameters are not used but slip through this\n  verification. Please open an issue if you find above cases.\n\n\nStrategy - End retraining.\nBacktest - 99.57% done. Position: 13200 of 13257, number of signals: 322\n"
    }
   ],
   "source": [
    "path_builder = setup_file_path(tmp_path)\n",
    "\n",
    "signals = Backtest.run(\n",
    "    strategy=strategy,\n",
    "    features=features,\n",
    "    candlesticks=candlesticks,\n",
    "    start_position=trade_start_position,\n",
    "    end_position=trade_end_position,\n",
    "    signals_csv_path=path_builder(\"signals\")\n",
    ")\n",
    "# signals = Backtest._runWithTarget(\n",
    "#     strategy=strategy,\n",
    "#     features=features,\n",
    "#     targets=targets,\n",
    "#     candlesticks=candlesticks,\n",
    "#     start_position=trade_start_position,\n",
    "#     end_position=trade_end_position,\n",
    "#     signals_csv_path=strategy_tmp_path + \"signals.csv\",\n",
    "# )\n",
    "\n",
    "path_builder = None"
   ]
  },
  {
   "cell_type": "code",
   "execution_count": 7,
   "metadata": {},
   "outputs": [
    {
     "output_type": "stream",
     "name": "stdout",
     "text": "Starts with 6554.99$ at 2018-10-10T06:00:00.000000000\nEnds with 9775.973155822587$ (number of trades: 322) at 2020-04-16T11:59:59.999000000\nEarned 3220.983155822587$ (49.14%)\nPercentage price change in period: 7.52%\n"
    }
   ],
   "source": [
    "path_builder = setup_file_path(tmp_path)\n",
    "\n",
    "trades = Backtest.evaluate(\n",
    "   signals, candlesticks, trade_start_position, trade_end_position, 0.000\n",
    ")\n",
    "trades.to_csv(path_builder(\"trades\"))\n",
    "\n",
    "chartTrades(\n",
    "    trades,\n",
    "    candlesticks,\n",
    "    trade_start_position,\n",
    "    trade_end_position,\n",
    "    path_builder(\"chart\", extension=\"html\"),\n",
    ")\n",
    "path_builder = None"
   ]
  },
  {
   "cell_type": "code",
   "execution_count": 8,
   "metadata": {},
   "outputs": [
    {
     "output_type": "execute_result",
     "data": {
      "text/plain": "              open time              close time       time in position  \\\n0   2018-10-13 16:00:00 2018-10-13 19:00:00.000        0 days 03:00:00   \n1   2018-10-14 10:00:00 2018-10-16 16:00:00.000        2 days 06:00:00   \n2   2018-10-21 04:00:00 2018-10-22 11:00:00.000        1 days 07:00:00   \n3   2018-10-31 04:00:00 2018-10-31 07:00:00.000        0 days 03:00:00   \n4   2018-11-01 20:00:00 2018-11-03 07:00:00.000        1 days 11:00:00   \n..                  ...                     ...                    ...   \n156 2020-03-30 14:00:00 2020-04-01 01:00:00.000        1 days 11:00:00   \n157 2020-04-02 01:00:00 2020-04-03 21:00:00.000        1 days 20:00:00   \n158 2020-04-05 18:00:00 2020-04-06 00:00:00.000        0 days 06:00:00   \n159 2020-04-06 05:00:00 2020-04-08 00:00:00.000        1 days 19:00:00   \n160 2020-04-12 23:00:00 2020-04-13 00:59:59.999 0 days 01:59:59.999000   \n\n     open price  close price     change  change %    open money   close money  \\\n0       6329.26   6306.93000  -22.33000 -0.352806   6554.990000   6531.863611   \n1       6363.96   6719.76000  355.80000  5.590859   6531.863611   6897.050865   \n2       6616.63   6587.61000  -29.02000 -0.438592   6897.050865   6866.800962   \n3       6338.99   6331.99000   -7.00000 -0.110428   6866.800962   6859.218112   \n4       6379.68   6411.95000   32.27000  0.505825   6859.218112   6893.913735   \n..          ...          ...        ...       ...           ...           ...   \n156     6302.64   6305.50000    2.86000  0.045378   9941.893472   9946.404886   \n157     6617.24   6694.25000   77.01000  1.163778   9946.404886  10062.158983   \n158     6797.64   6772.78000  -24.86000 -0.365715  10062.158983  10025.360142   \n159     6941.76   7197.32000  255.56000  3.681487  10025.360142  10394.442484   \n160     7028.46   6610.26663 -418.19337 -5.950000  10394.442484   9775.973156   \n\n                                   open reason  \\\n0    Sklien and up down classifier indicate up   \n1    Sklien and up down classifier indicate up   \n2    Sklien and up down classifier indicate up   \n3    Sklien and up down classifier indicate up   \n4    Sklien and up down classifier indicate up   \n..                                         ...   \n156  Sklien and up down classifier indicate up   \n157  Sklien and up down classifier indicate up   \n158  Sklien and up down classifier indicate up   \n159  Sklien and up down classifier indicate up   \n160  Sklien and up down classifier indicate up   \n\n                                          close reason  \n0          sklien and up down classifier indicate down  \n1          sklien and up down classifier indicate down  \n2          sklien and up down classifier indicate down  \n3          sklien and up down classifier indicate down  \n4          sklien and up down classifier indicate down  \n..                                                 ...  \n156        sklien and up down classifier indicate down  \n157        sklien and up down classifier indicate down  \n158        sklien and up down classifier indicate down  \n159        sklien and up down classifier indicate down  \n160  Stop loss: price (6610.266629999999) is below ...  \n\n[161 rows x 11 columns]",
      "text/html": "<div>\n<style scoped>\n    .dataframe tbody tr th:only-of-type {\n        vertical-align: middle;\n    }\n\n    .dataframe tbody tr th {\n        vertical-align: top;\n    }\n\n    .dataframe thead th {\n        text-align: right;\n    }\n</style>\n<table border=\"1\" class=\"dataframe\">\n  <thead>\n    <tr style=\"text-align: right;\">\n      <th></th>\n      <th>open time</th>\n      <th>close time</th>\n      <th>time in position</th>\n      <th>open price</th>\n      <th>close price</th>\n      <th>change</th>\n      <th>change %</th>\n      <th>open money</th>\n      <th>close money</th>\n      <th>open reason</th>\n      <th>close reason</th>\n    </tr>\n  </thead>\n  <tbody>\n    <tr>\n      <th>0</th>\n      <td>2018-10-13 16:00:00</td>\n      <td>2018-10-13 19:00:00.000</td>\n      <td>0 days 03:00:00</td>\n      <td>6329.26</td>\n      <td>6306.93000</td>\n      <td>-22.33000</td>\n      <td>-0.352806</td>\n      <td>6554.990000</td>\n      <td>6531.863611</td>\n      <td>Sklien and up down classifier indicate up</td>\n      <td>sklien and up down classifier indicate down</td>\n    </tr>\n    <tr>\n      <th>1</th>\n      <td>2018-10-14 10:00:00</td>\n      <td>2018-10-16 16:00:00.000</td>\n      <td>2 days 06:00:00</td>\n      <td>6363.96</td>\n      <td>6719.76000</td>\n      <td>355.80000</td>\n      <td>5.590859</td>\n      <td>6531.863611</td>\n      <td>6897.050865</td>\n      <td>Sklien and up down classifier indicate up</td>\n      <td>sklien and up down classifier indicate down</td>\n    </tr>\n    <tr>\n      <th>2</th>\n      <td>2018-10-21 04:00:00</td>\n      <td>2018-10-22 11:00:00.000</td>\n      <td>1 days 07:00:00</td>\n      <td>6616.63</td>\n      <td>6587.61000</td>\n      <td>-29.02000</td>\n      <td>-0.438592</td>\n      <td>6897.050865</td>\n      <td>6866.800962</td>\n      <td>Sklien and up down classifier indicate up</td>\n      <td>sklien and up down classifier indicate down</td>\n    </tr>\n    <tr>\n      <th>3</th>\n      <td>2018-10-31 04:00:00</td>\n      <td>2018-10-31 07:00:00.000</td>\n      <td>0 days 03:00:00</td>\n      <td>6338.99</td>\n      <td>6331.99000</td>\n      <td>-7.00000</td>\n      <td>-0.110428</td>\n      <td>6866.800962</td>\n      <td>6859.218112</td>\n      <td>Sklien and up down classifier indicate up</td>\n      <td>sklien and up down classifier indicate down</td>\n    </tr>\n    <tr>\n      <th>4</th>\n      <td>2018-11-01 20:00:00</td>\n      <td>2018-11-03 07:00:00.000</td>\n      <td>1 days 11:00:00</td>\n      <td>6379.68</td>\n      <td>6411.95000</td>\n      <td>32.27000</td>\n      <td>0.505825</td>\n      <td>6859.218112</td>\n      <td>6893.913735</td>\n      <td>Sklien and up down classifier indicate up</td>\n      <td>sklien and up down classifier indicate down</td>\n    </tr>\n    <tr>\n      <th>...</th>\n      <td>...</td>\n      <td>...</td>\n      <td>...</td>\n      <td>...</td>\n      <td>...</td>\n      <td>...</td>\n      <td>...</td>\n      <td>...</td>\n      <td>...</td>\n      <td>...</td>\n      <td>...</td>\n    </tr>\n    <tr>\n      <th>156</th>\n      <td>2020-03-30 14:00:00</td>\n      <td>2020-04-01 01:00:00.000</td>\n      <td>1 days 11:00:00</td>\n      <td>6302.64</td>\n      <td>6305.50000</td>\n      <td>2.86000</td>\n      <td>0.045378</td>\n      <td>9941.893472</td>\n      <td>9946.404886</td>\n      <td>Sklien and up down classifier indicate up</td>\n      <td>sklien and up down classifier indicate down</td>\n    </tr>\n    <tr>\n      <th>157</th>\n      <td>2020-04-02 01:00:00</td>\n      <td>2020-04-03 21:00:00.000</td>\n      <td>1 days 20:00:00</td>\n      <td>6617.24</td>\n      <td>6694.25000</td>\n      <td>77.01000</td>\n      <td>1.163778</td>\n      <td>9946.404886</td>\n      <td>10062.158983</td>\n      <td>Sklien and up down classifier indicate up</td>\n      <td>sklien and up down classifier indicate down</td>\n    </tr>\n    <tr>\n      <th>158</th>\n      <td>2020-04-05 18:00:00</td>\n      <td>2020-04-06 00:00:00.000</td>\n      <td>0 days 06:00:00</td>\n      <td>6797.64</td>\n      <td>6772.78000</td>\n      <td>-24.86000</td>\n      <td>-0.365715</td>\n      <td>10062.158983</td>\n      <td>10025.360142</td>\n      <td>Sklien and up down classifier indicate up</td>\n      <td>sklien and up down classifier indicate down</td>\n    </tr>\n    <tr>\n      <th>159</th>\n      <td>2020-04-06 05:00:00</td>\n      <td>2020-04-08 00:00:00.000</td>\n      <td>1 days 19:00:00</td>\n      <td>6941.76</td>\n      <td>7197.32000</td>\n      <td>255.56000</td>\n      <td>3.681487</td>\n      <td>10025.360142</td>\n      <td>10394.442484</td>\n      <td>Sklien and up down classifier indicate up</td>\n      <td>sklien and up down classifier indicate down</td>\n    </tr>\n    <tr>\n      <th>160</th>\n      <td>2020-04-12 23:00:00</td>\n      <td>2020-04-13 00:59:59.999</td>\n      <td>0 days 01:59:59.999000</td>\n      <td>7028.46</td>\n      <td>6610.26663</td>\n      <td>-418.19337</td>\n      <td>-5.950000</td>\n      <td>10394.442484</td>\n      <td>9775.973156</td>\n      <td>Sklien and up down classifier indicate up</td>\n      <td>Stop loss: price (6610.266629999999) is below ...</td>\n    </tr>\n  </tbody>\n</table>\n<p>161 rows × 11 columns</p>\n</div>"
     },
     "metadata": {},
     "execution_count": 8
    }
   ],
   "source": [
    "trades"
   ]
  },
  {
   "cell_type": "code",
   "execution_count": 9,
   "metadata": {},
   "outputs": [
    {
     "output_type": "execute_result",
     "data": {
      "text/plain": "             time in position    open price   close price       change  \\\ncount                     161    161.000000    161.000000   161.000000   \nmean   1 days 00:43:58.509242   7211.647329   7230.134241    18.486912   \nstd    1 days 00:38:20.703296   2453.227926   2464.552796   340.677719   \nmin    0 days 00:59:59.999000   3265.960000   3405.660000  -703.785000   \n25%           0 days 08:00:00   5243.600000   5230.960000   -94.740000   \n50%           0 days 18:00:00   7335.910000   7387.890000   -32.590000   \n75%           1 days 10:00:00   9080.080000   9142.230000     5.350000   \nmax           6 days 01:00:00  11978.390000  12368.300000  1570.840000   \n\n         change %    open money   close money  \ncount  161.000000    161.000000    161.000000  \nmean     0.350618  10636.731199  10656.737306  \nstd      4.687820   2910.070022   2892.854407  \nmin     -5.973474   6231.365274   6231.365274  \n25%     -1.461622   7448.115321   7486.586190  \n50%     -0.521832  10638.541483  10638.541483  \n75%      0.123147  13260.152140  13260.152140  \nmax     20.728952  15493.720541  15493.720541  ",
      "text/html": "<div>\n<style scoped>\n    .dataframe tbody tr th:only-of-type {\n        vertical-align: middle;\n    }\n\n    .dataframe tbody tr th {\n        vertical-align: top;\n    }\n\n    .dataframe thead th {\n        text-align: right;\n    }\n</style>\n<table border=\"1\" class=\"dataframe\">\n  <thead>\n    <tr style=\"text-align: right;\">\n      <th></th>\n      <th>time in position</th>\n      <th>open price</th>\n      <th>close price</th>\n      <th>change</th>\n      <th>change %</th>\n      <th>open money</th>\n      <th>close money</th>\n    </tr>\n  </thead>\n  <tbody>\n    <tr>\n      <th>count</th>\n      <td>161</td>\n      <td>161.000000</td>\n      <td>161.000000</td>\n      <td>161.000000</td>\n      <td>161.000000</td>\n      <td>161.000000</td>\n      <td>161.000000</td>\n    </tr>\n    <tr>\n      <th>mean</th>\n      <td>1 days 00:43:58.509242</td>\n      <td>7211.647329</td>\n      <td>7230.134241</td>\n      <td>18.486912</td>\n      <td>0.350618</td>\n      <td>10636.731199</td>\n      <td>10656.737306</td>\n    </tr>\n    <tr>\n      <th>std</th>\n      <td>1 days 00:38:20.703296</td>\n      <td>2453.227926</td>\n      <td>2464.552796</td>\n      <td>340.677719</td>\n      <td>4.687820</td>\n      <td>2910.070022</td>\n      <td>2892.854407</td>\n    </tr>\n    <tr>\n      <th>min</th>\n      <td>0 days 00:59:59.999000</td>\n      <td>3265.960000</td>\n      <td>3405.660000</td>\n      <td>-703.785000</td>\n      <td>-5.973474</td>\n      <td>6231.365274</td>\n      <td>6231.365274</td>\n    </tr>\n    <tr>\n      <th>25%</th>\n      <td>0 days 08:00:00</td>\n      <td>5243.600000</td>\n      <td>5230.960000</td>\n      <td>-94.740000</td>\n      <td>-1.461622</td>\n      <td>7448.115321</td>\n      <td>7486.586190</td>\n    </tr>\n    <tr>\n      <th>50%</th>\n      <td>0 days 18:00:00</td>\n      <td>7335.910000</td>\n      <td>7387.890000</td>\n      <td>-32.590000</td>\n      <td>-0.521832</td>\n      <td>10638.541483</td>\n      <td>10638.541483</td>\n    </tr>\n    <tr>\n      <th>75%</th>\n      <td>1 days 10:00:00</td>\n      <td>9080.080000</td>\n      <td>9142.230000</td>\n      <td>5.350000</td>\n      <td>0.123147</td>\n      <td>13260.152140</td>\n      <td>13260.152140</td>\n    </tr>\n    <tr>\n      <th>max</th>\n      <td>6 days 01:00:00</td>\n      <td>11978.390000</td>\n      <td>12368.300000</td>\n      <td>1570.840000</td>\n      <td>20.728952</td>\n      <td>15493.720541</td>\n      <td>15493.720541</td>\n    </tr>\n  </tbody>\n</table>\n</div>"
     },
     "metadata": {},
     "execution_count": 9
    }
   ],
   "source": [
    "trades.describe()"
   ]
  },
  {
   "cell_type": "code",
   "execution_count": null,
   "metadata": {},
   "outputs": [],
   "source": []
  }
 ]
}