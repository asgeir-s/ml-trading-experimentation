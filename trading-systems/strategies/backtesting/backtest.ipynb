{
 "nbformat": 4,
 "nbformat_minor": 2,
 "metadata": {
  "language_info": {
   "name": "python",
   "codemirror_mode": {
    "name": "ipython",
    "version": 3
   },
   "version": "3.7.7-final"
  },
  "orig_nbformat": 2,
  "file_extension": ".py",
  "mimetype": "text/x-python",
  "name": "python",
  "npconvert_exporter": "python",
  "pygments_lexer": "ipython3",
  "version": 3,
  "kernelspec": {
   "name": "python3",
   "display_name": "Python 3"
  }
 },
 "cells": [
  {
   "cell_type": "code",
   "execution_count": 1,
   "metadata": {},
   "outputs": [],
   "source": [
    "import os, sys\n",
    "\n",
    "sys.path.insert(0, os.path.abspath(\"../..\"))"
   ]
  },
  {
   "cell_type": "code",
   "execution_count": 2,
   "metadata": {},
   "outputs": [],
   "source": [
    "from lib.data_util import load_candlesticks\n",
    "from lib.backtest import Backtest, setup_file_path\n",
    "from lib.charting import chartTrades\n",
    "import pathlib\n",
    "import pandas as pd\n",
    ""
   ]
  },
  {
   "cell_type": "code",
   "execution_count": 3,
   "metadata": {},
   "outputs": [],
   "source": [
    "# from strategies import First as Strategy\n",
    "# from strategies import Second as Strategy\n",
    "from strategies import Third as Strategy\n",
    "# from strategies import UpDownDoubleSpiral as Strategy"
   ]
  },
  {
   "cell_type": "code",
   "execution_count": 4,
   "metadata": {},
   "outputs": [],
   "source": [
    "strategy = Strategy()\n",
    "tmp_path = \"./tmp/\" + strategy.__class__.__name__ + \"/\"\n",
    "\n",
    "path_builder = setup_file_path(tmp_path)"
   ]
  },
  {
   "cell_type": "code",
   "execution_count": 5,
   "metadata": {},
   "outputs": [
    {
     "output_type": "stream",
     "name": "stdout",
     "text": "Closetime of newest candle is 1587038399999\nOnly using data on file. Will not download new data from Binance.\n"
    }
   ],
   "source": [
    "candlesticks = load_candlesticks(\"BTCUSDT\", \"1h\", custom_data_path=\"../../tmp\")\n",
    "\n",
    "trade_start_position = 10000\n",
    "trade_end_position = len(candlesticks)\n",
    "\n",
    "features = strategy.generate_features(candlesticks)\n",
    "targets = strategy._generate_targets(candlesticks, features)\n",
    "\n",
    "features.to_csv(path_builder(\"features\"))\n",
    "\n",
    "pd.DataFrame(targets).to_csv(path_builder(\"targets\"))\n",
    "path_builder = None"
   ]
  },
  {
   "cell_type": "code",
   "execution_count": 6,
   "metadata": {
    "tags": [
     "outputPrepend",
     "outputPrepend",
     "outputPrepend",
     "outputPrepend",
     "outputPrepend",
     "outputPrepend",
     "outputPrepend",
     "outputPrepend",
     "outputPrepend",
     "outputPrepend",
     "outputPrepend",
     "outputPrepend",
     "outputPrepend",
     "outputPrepend",
     "outputPrepend",
     "outputPrepend",
     "outputPrepend",
     "outputPrepend",
     "outputPrepend",
     "outputPrepend",
     "outputPrepend",
     "outputPrepend",
     "outputPrepend",
     "outputPrepend",
     "outputPrepend",
     "outputPrepend",
     "outputPrepend",
     "outputPrepend",
     "outputPrepend",
     "outputPrepend",
     "outputPrepend",
     "outputPrepend",
     "outputPrepend",
     "outputPrepend",
     "outputPrepend",
     "outputPrepend",
     "outputPrepend",
     "outputPrepend",
     "outputPrepend"
    ]
   },
   "outputs": [
    {
     "output_type": "stream",
     "name": "stdout",
     "text": "ue to some parameters are only used in language bindings but\n  passed down to XGBoost core.  Or some parameters are not used but slip through this\n  verification. Please open an issue if you find above cases.\n\n\nStrategy - End retraining.\nBacktest - 21.12% done. Position: 2800 of 13257, number of signals: 50\nBacktest - 21.88% done. Position: 2900 of 13257, number of signals: 53\nBacktest - 22.63% done. Position: 3000 of 13257, number of signals: 54\nBacktest - 23.38% done. Position: 3100 of 13257, number of signals: 55\nStrategy - Start retraining.\n[15:18:26] WARNING: /usr/local/miniconda/conda-bld/xgboost_1584539872846/work/src/learner.cc:328: \nParameters: { importance_type, missing, n_estimators } might not be used.\n\n  This may not be accurate due to some parameters are only used in language bindings but\n  passed down to XGBoost core.  Or some parameters are not used but slip through this\n  verification. Please open an issue if you find above cases.\n\n\nStrategy - End retraining.\nBacktest - 24.14% done. Position: 3200 of 13257, number of signals: 57\nBacktest - 24.89% done. Position: 3300 of 13257, number of signals: 60\nBacktest - 25.65% done. Position: 3400 of 13257, number of signals: 63\nBacktest - 26.40% done. Position: 3500 of 13257, number of signals: 64\nStrategy - Start retraining.\n[15:18:48] WARNING: /usr/local/miniconda/conda-bld/xgboost_1584539872846/work/src/learner.cc:328: \nParameters: { importance_type, missing, n_estimators } might not be used.\n\n  This may not be accurate due to some parameters are only used in language bindings but\n  passed down to XGBoost core.  Or some parameters are not used but slip through this\n  verification. Please open an issue if you find above cases.\n\n\nStrategy - End retraining.\nBacktest - 27.16% done. Position: 3600 of 13257, number of signals: 64\nBacktest - 27.91% done. Position: 3700 of 13257, number of signals: 66\nBacktest - 28.66% done. Position: 3800 of 13257, number of signals: 67\nBacktest - 29.42% done. Position: 3900 of 13257, number of signals: 68\nStrategy - Start retraining.\n[15:19:10] WARNING: /usr/local/miniconda/conda-bld/xgboost_1584539872846/work/src/learner.cc:328: \nParameters: { importance_type, missing, n_estimators } might not be used.\n\n  This may not be accurate due to some parameters are only used in language bindings but\n  passed down to XGBoost core.  Or some parameters are not used but slip through this\n  verification. Please open an issue if you find above cases.\n\n\nStrategy - End retraining.\nBacktest - 30.17% done. Position: 4000 of 13257, number of signals: 68\nBacktest - 30.93% done. Position: 4100 of 13257, number of signals: 71\nBacktest - 31.68% done. Position: 4200 of 13257, number of signals: 71\nBacktest - 32.44% done. Position: 4300 of 13257, number of signals: 73\nStrategy - Start retraining.\n[15:19:32] WARNING: /usr/local/miniconda/conda-bld/xgboost_1584539872846/work/src/learner.cc:328: \nParameters: { importance_type, missing, n_estimators } might not be used.\n\n  This may not be accurate due to some parameters are only used in language bindings but\n  passed down to XGBoost core.  Or some parameters are not used but slip through this\n  verification. Please open an issue if you find above cases.\n\n\nStrategy - End retraining.\nBacktest - 33.19% done. Position: 4400 of 13257, number of signals: 76\nBacktest - 33.94% done. Position: 4500 of 13257, number of signals: 78\nBacktest - 34.70% done. Position: 4600 of 13257, number of signals: 81\nBacktest - 35.45% done. Position: 4700 of 13257, number of signals: 84\nStrategy - Start retraining.\n[15:19:55] WARNING: /usr/local/miniconda/conda-bld/xgboost_1584539872846/work/src/learner.cc:328: \nParameters: { importance_type, missing, n_estimators } might not be used.\n\n  This may not be accurate due to some parameters are only used in language bindings but\n  passed down to XGBoost core.  Or some parameters are not used but slip through this\n  verification. Please open an issue if you find above cases.\n\n\nStrategy - End retraining.\nBacktest - 36.21% done. Position: 4800 of 13257, number of signals: 87\nBacktest - 36.96% done. Position: 4900 of 13257, number of signals: 89\nBacktest - 37.72% done. Position: 5000 of 13257, number of signals: 95\nBacktest - 38.47% done. Position: 5100 of 13257, number of signals: 97\nStrategy - Start retraining.\n[15:20:19] WARNING: /usr/local/miniconda/conda-bld/xgboost_1584539872846/work/src/learner.cc:328: \nParameters: { importance_type, missing, n_estimators } might not be used.\n\n  This may not be accurate due to some parameters are only used in language bindings but\n  passed down to XGBoost core.  Or some parameters are not used but slip through this\n  verification. Please open an issue if you find above cases.\n\n\nStrategy - End retraining.\nBacktest - 39.22% done. Position: 5200 of 13257, number of signals: 99\nBacktest - 39.98% done. Position: 5300 of 13257, number of signals: 101\nBacktest - 40.73% done. Position: 5400 of 13257, number of signals: 105\nBacktest - 41.49% done. Position: 5500 of 13257, number of signals: 107\nStrategy - Start retraining.\n[15:20:43] WARNING: /usr/local/miniconda/conda-bld/xgboost_1584539872846/work/src/learner.cc:328: \nParameters: { importance_type, missing, n_estimators } might not be used.\n\n  This may not be accurate due to some parameters are only used in language bindings but\n  passed down to XGBoost core.  Or some parameters are not used but slip through this\n  verification. Please open an issue if you find above cases.\n\n\nStrategy - End retraining.\nBacktest - 42.24% done. Position: 5600 of 13257, number of signals: 113\nBacktest - 43.00% done. Position: 5700 of 13257, number of signals: 114\nBacktest - 43.75% done. Position: 5800 of 13257, number of signals: 116\nBacktest - 44.50% done. Position: 5900 of 13257, number of signals: 119\nStrategy - Start retraining.\n[15:21:08] WARNING: /usr/local/miniconda/conda-bld/xgboost_1584539872846/work/src/learner.cc:328: \nParameters: { importance_type, missing, n_estimators } might not be used.\n\n  This may not be accurate due to some parameters are only used in language bindings but\n  passed down to XGBoost core.  Or some parameters are not used but slip through this\n  verification. Please open an issue if you find above cases.\n\n\nStrategy - End retraining.\nBacktest - 45.26% done. Position: 6000 of 13257, number of signals: 119\nBacktest - 46.01% done. Position: 6100 of 13257, number of signals: 121\nBacktest - 46.77% done. Position: 6200 of 13257, number of signals: 123\nBacktest - 47.52% done. Position: 6300 of 13257, number of signals: 126\nStrategy - Start retraining.\n[15:21:35] WARNING: /usr/local/miniconda/conda-bld/xgboost_1584539872846/work/src/learner.cc:328: \nParameters: { importance_type, missing, n_estimators } might not be used.\n\n  This may not be accurate due to some parameters are only used in language bindings but\n  passed down to XGBoost core.  Or some parameters are not used but slip through this\n  verification. Please open an issue if you find above cases.\n\n\nStrategy - End retraining.\nBacktest - 48.28% done. Position: 6400 of 13257, number of signals: 127\nBacktest - 49.03% done. Position: 6500 of 13257, number of signals: 131\nBacktest - 49.79% done. Position: 6600 of 13257, number of signals: 133\nBacktest - 50.54% done. Position: 6700 of 13257, number of signals: 136\nStrategy - Start retraining.\n[15:22:02] WARNING: /usr/local/miniconda/conda-bld/xgboost_1584539872846/work/src/learner.cc:328: \nParameters: { importance_type, missing, n_estimators } might not be used.\n\n  This may not be accurate due to some parameters are only used in language bindings but\n  passed down to XGBoost core.  Or some parameters are not used but slip through this\n  verification. Please open an issue if you find above cases.\n\n\nStrategy - End retraining.\nBacktest - 51.29% done. Position: 6800 of 13257, number of signals: 139\nBacktest - 52.05% done. Position: 6900 of 13257, number of signals: 141\nBacktest - 52.80% done. Position: 7000 of 13257, number of signals: 145\nBacktest - 53.56% done. Position: 7100 of 13257, number of signals: 145\nStrategy - Start retraining.\n[15:22:29] WARNING: /usr/local/miniconda/conda-bld/xgboost_1584539872846/work/src/learner.cc:328: \nParameters: { importance_type, missing, n_estimators } might not be used.\n\n  This may not be accurate due to some parameters are only used in language bindings but\n  passed down to XGBoost core.  Or some parameters are not used but slip through this\n  verification. Please open an issue if you find above cases.\n\n\nStrategy - End retraining.\nBacktest - 54.31% done. Position: 7200 of 13257, number of signals: 146\nBacktest - 55.07% done. Position: 7300 of 13257, number of signals: 152\nBacktest - 55.82% done. Position: 7400 of 13257, number of signals: 154\nBacktest - 56.57% done. Position: 7500 of 13257, number of signals: 155\nStrategy - Start retraining.\n[15:22:56] WARNING: /usr/local/miniconda/conda-bld/xgboost_1584539872846/work/src/learner.cc:328: \nParameters: { importance_type, missing, n_estimators } might not be used.\n\n  This may not be accurate due to some parameters are only used in language bindings but\n  passed down to XGBoost core.  Or some parameters are not used but slip through this\n  verification. Please open an issue if you find above cases.\n\n\nStrategy - End retraining.\nBacktest - 57.33% done. Position: 7600 of 13257, number of signals: 157\nBacktest - 58.08% done. Position: 7700 of 13257, number of signals: 158\nBacktest - 58.84% done. Position: 7800 of 13257, number of signals: 160\nBacktest - 59.59% done. Position: 7900 of 13257, number of signals: 162\nStrategy - Start retraining.\n[15:23:25] WARNING: /usr/local/miniconda/conda-bld/xgboost_1584539872846/work/src/learner.cc:328: \nParameters: { importance_type, missing, n_estimators } might not be used.\n\n  This may not be accurate due to some parameters are only used in language bindings but\n  passed down to XGBoost core.  Or some parameters are not used but slip through this\n  verification. Please open an issue if you find above cases.\n\n\nStrategy - End retraining.\nBacktest - 60.35% done. Position: 8000 of 13257, number of signals: 166\nBacktest - 61.10% done. Position: 8100 of 13257, number of signals: 168\nBacktest - 61.85% done. Position: 8200 of 13257, number of signals: 172\nBacktest - 62.61% done. Position: 8300 of 13257, number of signals: 174\nStrategy - Start retraining.\n[15:23:53] WARNING: /usr/local/miniconda/conda-bld/xgboost_1584539872846/work/src/learner.cc:328: \nParameters: { importance_type, missing, n_estimators } might not be used.\n\n  This may not be accurate due to some parameters are only used in language bindings but\n  passed down to XGBoost core.  Or some parameters are not used but slip through this\n  verification. Please open an issue if you find above cases.\n\n\nStrategy - End retraining.\nBacktest - 63.36% done. Position: 8400 of 13257, number of signals: 174\nBacktest - 64.12% done. Position: 8500 of 13257, number of signals: 176\nBacktest - 64.87% done. Position: 8600 of 13257, number of signals: 178\nBacktest - 65.63% done. Position: 8700 of 13257, number of signals: 180\nStrategy - Start retraining.\n[15:24:24] WARNING: /usr/local/miniconda/conda-bld/xgboost_1584539872846/work/src/learner.cc:328: \nParameters: { importance_type, missing, n_estimators } might not be used.\n\n  This may not be accurate due to some parameters are only used in language bindings but\n  passed down to XGBoost core.  Or some parameters are not used but slip through this\n  verification. Please open an issue if you find above cases.\n\n\nStrategy - End retraining.\nBacktest - 66.38% done. Position: 8800 of 13257, number of signals: 183\nBacktest - 67.13% done. Position: 8900 of 13257, number of signals: 184\nBacktest - 67.89% done. Position: 9000 of 13257, number of signals: 186\nBacktest - 68.64% done. Position: 9100 of 13257, number of signals: 187\nStrategy - Start retraining.\n[15:24:56] WARNING: /usr/local/miniconda/conda-bld/xgboost_1584539872846/work/src/learner.cc:328: \nParameters: { importance_type, missing, n_estimators } might not be used.\n\n  This may not be accurate due to some parameters are only used in language bindings but\n  passed down to XGBoost core.  Or some parameters are not used but slip through this\n  verification. Please open an issue if you find above cases.\n\n\nStrategy - End retraining.\nBacktest - 69.40% done. Position: 9200 of 13257, number of signals: 187\nBacktest - 70.15% done. Position: 9300 of 13257, number of signals: 191\nBacktest - 70.91% done. Position: 9400 of 13257, number of signals: 194\nBacktest - 71.66% done. Position: 9500 of 13257, number of signals: 196\nStrategy - Start retraining.\n[15:25:27] WARNING: /usr/local/miniconda/conda-bld/xgboost_1584539872846/work/src/learner.cc:328: \nParameters: { importance_type, missing, n_estimators } might not be used.\n\n  This may not be accurate due to some parameters are only used in language bindings but\n  passed down to XGBoost core.  Or some parameters are not used but slip through this\n  verification. Please open an issue if you find above cases.\n\n\nStrategy - End retraining.\nBacktest - 72.41% done. Position: 9600 of 13257, number of signals: 198\nBacktest - 73.17% done. Position: 9700 of 13257, number of signals: 198\nBacktest - 73.92% done. Position: 9800 of 13257, number of signals: 202\nBacktest - 74.68% done. Position: 9900 of 13257, number of signals: 205\nStrategy - Start retraining.\n[15:25:59] WARNING: /usr/local/miniconda/conda-bld/xgboost_1584539872846/work/src/learner.cc:328: \nParameters: { importance_type, missing, n_estimators } might not be used.\n\n  This may not be accurate due to some parameters are only used in language bindings but\n  passed down to XGBoost core.  Or some parameters are not used but slip through this\n  verification. Please open an issue if you find above cases.\n\n\nStrategy - End retraining.\nBacktest - 75.43% done. Position: 10000 of 13257, number of signals: 206\nBacktest - 76.19% done. Position: 10100 of 13257, number of signals: 208\nBacktest - 76.94% done. Position: 10200 of 13257, number of signals: 214\nBacktest - 77.69% done. Position: 10300 of 13257, number of signals: 214\nStrategy - Start retraining.\n[15:26:31] WARNING: /usr/local/miniconda/conda-bld/xgboost_1584539872846/work/src/learner.cc:328: \nParameters: { importance_type, missing, n_estimators } might not be used.\n\n  This may not be accurate due to some parameters are only used in language bindings but\n  passed down to XGBoost core.  Or some parameters are not used but slip through this\n  verification. Please open an issue if you find above cases.\n\n\nStrategy - End retraining.\nBacktest - 78.45% done. Position: 10400 of 13257, number of signals: 217\nBacktest - 79.20% done. Position: 10500 of 13257, number of signals: 218\nBacktest - 79.96% done. Position: 10600 of 13257, number of signals: 219\nBacktest - 80.71% done. Position: 10700 of 13257, number of signals: 222\nStrategy - Start retraining.\n[15:27:04] WARNING: /usr/local/miniconda/conda-bld/xgboost_1584539872846/work/src/learner.cc:328: \nParameters: { importance_type, missing, n_estimators } might not be used.\n\n  This may not be accurate due to some parameters are only used in language bindings but\n  passed down to XGBoost core.  Or some parameters are not used but slip through this\n  verification. Please open an issue if you find above cases.\n\n\nStrategy - End retraining.\nBacktest - 81.47% done. Position: 10800 of 13257, number of signals: 222\nBacktest - 82.22% done. Position: 10900 of 13257, number of signals: 223\nBacktest - 82.98% done. Position: 11000 of 13257, number of signals: 227\nBacktest - 83.73% done. Position: 11100 of 13257, number of signals: 228\nStrategy - Start retraining.\n[15:27:38] WARNING: /usr/local/miniconda/conda-bld/xgboost_1584539872846/work/src/learner.cc:328: \nParameters: { importance_type, missing, n_estimators } might not be used.\n\n  This may not be accurate due to some parameters are only used in language bindings but\n  passed down to XGBoost core.  Or some parameters are not used but slip through this\n  verification. Please open an issue if you find above cases.\n\n\nStrategy - End retraining.\nBacktest - 84.48% done. Position: 11200 of 13257, number of signals: 232\nBacktest - 85.24% done. Position: 11300 of 13257, number of signals: 234\nBacktest - 85.99% done. Position: 11400 of 13257, number of signals: 235\nBacktest - 86.75% done. Position: 11500 of 13257, number of signals: 239\nStrategy - Start retraining.\n[15:28:13] WARNING: /usr/local/miniconda/conda-bld/xgboost_1584539872846/work/src/learner.cc:328: \nParameters: { importance_type, missing, n_estimators } might not be used.\n\n  This may not be accurate due to some parameters are only used in language bindings but\n  passed down to XGBoost core.  Or some parameters are not used but slip through this\n  verification. Please open an issue if you find above cases.\n\n\nStrategy - End retraining.\nBacktest - 87.50% done. Position: 11600 of 13257, number of signals: 241\nBacktest - 88.26% done. Position: 11700 of 13257, number of signals: 244\nBacktest - 89.01% done. Position: 11800 of 13257, number of signals: 246\nBacktest - 89.76% done. Position: 11900 of 13257, number of signals: 247\nStrategy - Start retraining.\n[15:28:48] WARNING: /usr/local/miniconda/conda-bld/xgboost_1584539872846/work/src/learner.cc:328: \nParameters: { importance_type, missing, n_estimators } might not be used.\n\n  This may not be accurate due to some parameters are only used in language bindings but\n  passed down to XGBoost core.  Or some parameters are not used but slip through this\n  verification. Please open an issue if you find above cases.\n\n\nStrategy - End retraining.\nBacktest - 90.52% done. Position: 12000 of 13257, number of signals: 249\nBacktest - 91.27% done. Position: 12100 of 13257, number of signals: 251\nBacktest - 92.03% done. Position: 12200 of 13257, number of signals: 253\nBacktest - 92.78% done. Position: 12300 of 13257, number of signals: 255\nStrategy - Start retraining.\n[15:29:24] WARNING: /usr/local/miniconda/conda-bld/xgboost_1584539872846/work/src/learner.cc:328: \nParameters: { importance_type, missing, n_estimators } might not be used.\n\n  This may not be accurate due to some parameters are only used in language bindings but\n  passed down to XGBoost core.  Or some parameters are not used but slip through this\n  verification. Please open an issue if you find above cases.\n\n\nStrategy - End retraining.\nBacktest - 93.54% done. Position: 12400 of 13257, number of signals: 258\nBacktest - 94.29% done. Position: 12500 of 13257, number of signals: 258\nBacktest - 95.04% done. Position: 12600 of 13257, number of signals: 261\nBacktest - 95.80% done. Position: 12700 of 13257, number of signals: 265\nStrategy - Start retraining.\n[15:30:00] WARNING: /usr/local/miniconda/conda-bld/xgboost_1584539872846/work/src/learner.cc:328: \nParameters: { importance_type, missing, n_estimators } might not be used.\n\n  This may not be accurate due to some parameters are only used in language bindings but\n  passed down to XGBoost core.  Or some parameters are not used but slip through this\n  verification. Please open an issue if you find above cases.\n\n\nStrategy - End retraining.\nBacktest - 96.55% done. Position: 12800 of 13257, number of signals: 270\nBacktest - 97.31% done. Position: 12900 of 13257, number of signals: 272\nBacktest - 98.06% done. Position: 13000 of 13257, number of signals: 275\nBacktest - 98.82% done. Position: 13100 of 13257, number of signals: 278\nStrategy - Start retraining.\n[15:30:37] WARNING: /usr/local/miniconda/conda-bld/xgboost_1584539872846/work/src/learner.cc:328: \nParameters: { importance_type, missing, n_estimators } might not be used.\n\n  This may not be accurate due to some parameters are only used in language bindings but\n  passed down to XGBoost core.  Or some parameters are not used but slip through this\n  verification. Please open an issue if you find above cases.\n\n\nStrategy - End retraining.\nBacktest - 99.57% done. Position: 13200 of 13257, number of signals: 280\n"
    }
   ],
   "source": [
    "path_builder = setup_file_path(tmp_path)\n",
    "\n",
    "signals = Backtest.run(\n",
    "    strategy=strategy,\n",
    "    features=features,\n",
    "    candlesticks=candlesticks,\n",
    "    start_position=trade_start_position,\n",
    "    end_position=trade_end_position,\n",
    "    signals_csv_path=path_builder(\"signals\")\n",
    ")\n",
    "# signals = Backtest._runWithTarget(\n",
    "#     strategy=strategy,\n",
    "#     features=features,\n",
    "#     targets=targets,\n",
    "#     candlesticks=candlesticks,\n",
    "#     start_position=trade_start_position,\n",
    "#     end_position=trade_end_position,\n",
    "#     signals_csv_path=strategy_tmp_path + \"signals.csv\",\n",
    "# )\n",
    "\n",
    "path_builder = None"
   ]
  },
  {
   "cell_type": "code",
   "execution_count": 7,
   "metadata": {},
   "outputs": [
    {
     "output_type": "stream",
     "name": "stdout",
     "text": "Starts with 6554.99$ at 2018-10-10T06:00:00.000000000\nEnds with 8776.132570848291$ (number of trades: 280) at 2020-04-16T11:59:59.999000000\nEarned 2221.142570848291$ (33.88%)\nPercentage price change in period: 7.52%\n"
    }
   ],
   "source": [
    "path_builder = setup_file_path(tmp_path)\n",
    "\n",
    "trades = Backtest.evaluate(\n",
    "   signals, candlesticks, trade_start_position, trade_end_position, 0.000\n",
    ")\n",
    "trades.to_csv(path_builder(\"trades\"))\n",
    "\n",
    "chartTrades(\n",
    "    trades,\n",
    "    candlesticks,\n",
    "    trade_start_position,\n",
    "    trade_end_position,\n",
    "    path_builder(\"chart\", extension=\"html\"),\n",
    ")\n",
    "path_builder = None"
   ]
  },
  {
   "cell_type": "code",
   "execution_count": 8,
   "metadata": {},
   "outputs": [
    {
     "output_type": "execute_result",
     "data": {
      "text/plain": "              open time          close time time in position  open price  \\\n0   2018-10-13 16:00:00 2018-10-19 01:00:00  5 days 09:00:00     6329.26   \n1   2018-10-21 04:00:00 2018-10-22 12:00:00  1 days 08:00:00     6616.63   \n2   2018-10-31 04:00:00 2018-10-31 11:00:00  0 days 07:00:00     6338.99   \n3   2018-11-01 20:00:00 2018-11-08 17:00:00  6 days 21:00:00     6379.68   \n4   2018-11-10 19:00:00 2018-11-13 15:00:00  2 days 20:00:00     6450.04   \n..                  ...                 ...              ...         ...   \n135 2020-03-30 14:00:00 2020-04-01 01:00:00  1 days 11:00:00     6302.64   \n136 2020-04-02 01:00:00 2020-04-03 22:00:00  1 days 21:00:00     6617.24   \n137 2020-04-05 18:00:00 2020-04-06 00:00:00  0 days 06:00:00     6797.64   \n138 2020-04-06 05:00:00 2020-04-08 02:00:00  1 days 21:00:00     6941.76   \n139 2020-04-12 23:00:00 2020-04-13 03:00:00  0 days 04:00:00     7028.46   \n\n     close price  change  change %   open money  close money  \\\n0        6633.57  304.31  4.807987  6554.990000  6870.153069   \n1        6594.50  -22.13 -0.334460  6870.153069  6847.175135   \n2        6339.20    0.21  0.003313  6847.175135  6847.401970   \n3        6501.28  121.60  1.906052  6847.401970  6977.916993   \n4        6448.99   -1.05 -0.016279  6977.916993  6976.781060   \n..           ...     ...       ...          ...          ...   \n135      6305.50    2.86  0.045378  8776.013580  8779.995943   \n136      6727.51  110.27  1.666405  8779.995943  8926.306210   \n137      6772.78  -24.86 -0.365715  8926.306210  8893.661355   \n138      7162.45  220.69  3.179165  8893.661355  9176.405519   \n139      6721.88 -306.58 -4.361980  9176.405519  8776.132571   \n\n                                   open reason  \\\n0    Sklien and up down classifier indicate up   \n1    Sklien and up down classifier indicate up   \n2    Sklien and up down classifier indicate up   \n3    Sklien and up down classifier indicate up   \n4    Sklien and up down classifier indicate up   \n..                                         ...   \n135  Sklien and up down classifier indicate up   \n136  Sklien and up down classifier indicate up   \n137  Sklien and up down classifier indicate up   \n138  Sklien and up down classifier indicate up   \n139  Sklien and up down classifier indicate up   \n\n                                    close reason  \n0    sklien and up down classifier indicate down  \n1    sklien and up down classifier indicate down  \n2    sklien and up down classifier indicate down  \n3    sklien and up down classifier indicate down  \n4    sklien and up down classifier indicate down  \n..                                           ...  \n135  sklien and up down classifier indicate down  \n136  sklien and up down classifier indicate down  \n137  sklien and up down classifier indicate down  \n138  sklien and up down classifier indicate down  \n139  sklien and up down classifier indicate down  \n\n[140 rows x 11 columns]",
      "text/html": "<div>\n<style scoped>\n    .dataframe tbody tr th:only-of-type {\n        vertical-align: middle;\n    }\n\n    .dataframe tbody tr th {\n        vertical-align: top;\n    }\n\n    .dataframe thead th {\n        text-align: right;\n    }\n</style>\n<table border=\"1\" class=\"dataframe\">\n  <thead>\n    <tr style=\"text-align: right;\">\n      <th></th>\n      <th>open time</th>\n      <th>close time</th>\n      <th>time in position</th>\n      <th>open price</th>\n      <th>close price</th>\n      <th>change</th>\n      <th>change %</th>\n      <th>open money</th>\n      <th>close money</th>\n      <th>open reason</th>\n      <th>close reason</th>\n    </tr>\n  </thead>\n  <tbody>\n    <tr>\n      <th>0</th>\n      <td>2018-10-13 16:00:00</td>\n      <td>2018-10-19 01:00:00</td>\n      <td>5 days 09:00:00</td>\n      <td>6329.26</td>\n      <td>6633.57</td>\n      <td>304.31</td>\n      <td>4.807987</td>\n      <td>6554.990000</td>\n      <td>6870.153069</td>\n      <td>Sklien and up down classifier indicate up</td>\n      <td>sklien and up down classifier indicate down</td>\n    </tr>\n    <tr>\n      <th>1</th>\n      <td>2018-10-21 04:00:00</td>\n      <td>2018-10-22 12:00:00</td>\n      <td>1 days 08:00:00</td>\n      <td>6616.63</td>\n      <td>6594.50</td>\n      <td>-22.13</td>\n      <td>-0.334460</td>\n      <td>6870.153069</td>\n      <td>6847.175135</td>\n      <td>Sklien and up down classifier indicate up</td>\n      <td>sklien and up down classifier indicate down</td>\n    </tr>\n    <tr>\n      <th>2</th>\n      <td>2018-10-31 04:00:00</td>\n      <td>2018-10-31 11:00:00</td>\n      <td>0 days 07:00:00</td>\n      <td>6338.99</td>\n      <td>6339.20</td>\n      <td>0.21</td>\n      <td>0.003313</td>\n      <td>6847.175135</td>\n      <td>6847.401970</td>\n      <td>Sklien and up down classifier indicate up</td>\n      <td>sklien and up down classifier indicate down</td>\n    </tr>\n    <tr>\n      <th>3</th>\n      <td>2018-11-01 20:00:00</td>\n      <td>2018-11-08 17:00:00</td>\n      <td>6 days 21:00:00</td>\n      <td>6379.68</td>\n      <td>6501.28</td>\n      <td>121.60</td>\n      <td>1.906052</td>\n      <td>6847.401970</td>\n      <td>6977.916993</td>\n      <td>Sklien and up down classifier indicate up</td>\n      <td>sklien and up down classifier indicate down</td>\n    </tr>\n    <tr>\n      <th>4</th>\n      <td>2018-11-10 19:00:00</td>\n      <td>2018-11-13 15:00:00</td>\n      <td>2 days 20:00:00</td>\n      <td>6450.04</td>\n      <td>6448.99</td>\n      <td>-1.05</td>\n      <td>-0.016279</td>\n      <td>6977.916993</td>\n      <td>6976.781060</td>\n      <td>Sklien and up down classifier indicate up</td>\n      <td>sklien and up down classifier indicate down</td>\n    </tr>\n    <tr>\n      <th>...</th>\n      <td>...</td>\n      <td>...</td>\n      <td>...</td>\n      <td>...</td>\n      <td>...</td>\n      <td>...</td>\n      <td>...</td>\n      <td>...</td>\n      <td>...</td>\n      <td>...</td>\n      <td>...</td>\n    </tr>\n    <tr>\n      <th>135</th>\n      <td>2020-03-30 14:00:00</td>\n      <td>2020-04-01 01:00:00</td>\n      <td>1 days 11:00:00</td>\n      <td>6302.64</td>\n      <td>6305.50</td>\n      <td>2.86</td>\n      <td>0.045378</td>\n      <td>8776.013580</td>\n      <td>8779.995943</td>\n      <td>Sklien and up down classifier indicate up</td>\n      <td>sklien and up down classifier indicate down</td>\n    </tr>\n    <tr>\n      <th>136</th>\n      <td>2020-04-02 01:00:00</td>\n      <td>2020-04-03 22:00:00</td>\n      <td>1 days 21:00:00</td>\n      <td>6617.24</td>\n      <td>6727.51</td>\n      <td>110.27</td>\n      <td>1.666405</td>\n      <td>8779.995943</td>\n      <td>8926.306210</td>\n      <td>Sklien and up down classifier indicate up</td>\n      <td>sklien and up down classifier indicate down</td>\n    </tr>\n    <tr>\n      <th>137</th>\n      <td>2020-04-05 18:00:00</td>\n      <td>2020-04-06 00:00:00</td>\n      <td>0 days 06:00:00</td>\n      <td>6797.64</td>\n      <td>6772.78</td>\n      <td>-24.86</td>\n      <td>-0.365715</td>\n      <td>8926.306210</td>\n      <td>8893.661355</td>\n      <td>Sklien and up down classifier indicate up</td>\n      <td>sklien and up down classifier indicate down</td>\n    </tr>\n    <tr>\n      <th>138</th>\n      <td>2020-04-06 05:00:00</td>\n      <td>2020-04-08 02:00:00</td>\n      <td>1 days 21:00:00</td>\n      <td>6941.76</td>\n      <td>7162.45</td>\n      <td>220.69</td>\n      <td>3.179165</td>\n      <td>8893.661355</td>\n      <td>9176.405519</td>\n      <td>Sklien and up down classifier indicate up</td>\n      <td>sklien and up down classifier indicate down</td>\n    </tr>\n    <tr>\n      <th>139</th>\n      <td>2020-04-12 23:00:00</td>\n      <td>2020-04-13 03:00:00</td>\n      <td>0 days 04:00:00</td>\n      <td>7028.46</td>\n      <td>6721.88</td>\n      <td>-306.58</td>\n      <td>-4.361980</td>\n      <td>9176.405519</td>\n      <td>8776.132571</td>\n      <td>Sklien and up down classifier indicate up</td>\n      <td>sklien and up down classifier indicate down</td>\n    </tr>\n  </tbody>\n</table>\n<p>140 rows × 11 columns</p>\n</div>"
     },
     "metadata": {},
     "execution_count": 8
    }
   ],
   "source": [
    "trades"
   ]
  },
  {
   "cell_type": "code",
   "execution_count": 9,
   "metadata": {},
   "outputs": [
    {
     "output_type": "execute_result",
     "data": {
      "text/plain": "             time in position    open price   close price       change  \\\ncount                     140    140.000000    140.000000   140.000000   \nmean   1 days 16:14:08.571428   7321.519929   7335.929071    14.409143   \nstd    1 days 13:41:07.748766   2474.808035   2472.728545   408.760226   \nmin           0 days 01:00:00   3265.960000   3230.860000 -1184.220000   \n25%           0 days 12:45:00   5309.680000   5293.130000  -127.087500   \n50%           1 days 06:00:00   7469.015000   7492.930000   -39.055000   \n75%           2 days 03:30:00   9216.952500   9302.912500    38.842500   \nmax           9 days 07:00:00  11978.390000  11998.620000  1910.040000   \n\n         change %    open money   close money  \ncount  140.000000    140.000000    140.000000  \nmean     0.354030   8084.727619   8100.592923  \nstd      5.593079   1732.269215   1728.324919  \nmin    -11.028136   5178.868317   5178.868317  \n25%     -2.027201   6210.364581   6210.364581  \n50%     -0.540206   8760.786744   8776.073076  \n75%      0.471723   9439.975028   9439.975028  \nmax     22.804962  10804.897597  10804.897597  ",
      "text/html": "<div>\n<style scoped>\n    .dataframe tbody tr th:only-of-type {\n        vertical-align: middle;\n    }\n\n    .dataframe tbody tr th {\n        vertical-align: top;\n    }\n\n    .dataframe thead th {\n        text-align: right;\n    }\n</style>\n<table border=\"1\" class=\"dataframe\">\n  <thead>\n    <tr style=\"text-align: right;\">\n      <th></th>\n      <th>time in position</th>\n      <th>open price</th>\n      <th>close price</th>\n      <th>change</th>\n      <th>change %</th>\n      <th>open money</th>\n      <th>close money</th>\n    </tr>\n  </thead>\n  <tbody>\n    <tr>\n      <th>count</th>\n      <td>140</td>\n      <td>140.000000</td>\n      <td>140.000000</td>\n      <td>140.000000</td>\n      <td>140.000000</td>\n      <td>140.000000</td>\n      <td>140.000000</td>\n    </tr>\n    <tr>\n      <th>mean</th>\n      <td>1 days 16:14:08.571428</td>\n      <td>7321.519929</td>\n      <td>7335.929071</td>\n      <td>14.409143</td>\n      <td>0.354030</td>\n      <td>8084.727619</td>\n      <td>8100.592923</td>\n    </tr>\n    <tr>\n      <th>std</th>\n      <td>1 days 13:41:07.748766</td>\n      <td>2474.808035</td>\n      <td>2472.728545</td>\n      <td>408.760226</td>\n      <td>5.593079</td>\n      <td>1732.269215</td>\n      <td>1728.324919</td>\n    </tr>\n    <tr>\n      <th>min</th>\n      <td>0 days 01:00:00</td>\n      <td>3265.960000</td>\n      <td>3230.860000</td>\n      <td>-1184.220000</td>\n      <td>-11.028136</td>\n      <td>5178.868317</td>\n      <td>5178.868317</td>\n    </tr>\n    <tr>\n      <th>25%</th>\n      <td>0 days 12:45:00</td>\n      <td>5309.680000</td>\n      <td>5293.130000</td>\n      <td>-127.087500</td>\n      <td>-2.027201</td>\n      <td>6210.364581</td>\n      <td>6210.364581</td>\n    </tr>\n    <tr>\n      <th>50%</th>\n      <td>1 days 06:00:00</td>\n      <td>7469.015000</td>\n      <td>7492.930000</td>\n      <td>-39.055000</td>\n      <td>-0.540206</td>\n      <td>8760.786744</td>\n      <td>8776.073076</td>\n    </tr>\n    <tr>\n      <th>75%</th>\n      <td>2 days 03:30:00</td>\n      <td>9216.952500</td>\n      <td>9302.912500</td>\n      <td>38.842500</td>\n      <td>0.471723</td>\n      <td>9439.975028</td>\n      <td>9439.975028</td>\n    </tr>\n    <tr>\n      <th>max</th>\n      <td>9 days 07:00:00</td>\n      <td>11978.390000</td>\n      <td>11998.620000</td>\n      <td>1910.040000</td>\n      <td>22.804962</td>\n      <td>10804.897597</td>\n      <td>10804.897597</td>\n    </tr>\n  </tbody>\n</table>\n</div>"
     },
     "metadata": {},
     "execution_count": 9
    }
   ],
   "source": [
    "trades.describe()"
   ]
  },
  {
   "cell_type": "code",
   "execution_count": null,
   "metadata": {},
   "outputs": [],
   "source": []
  }
 ]
}