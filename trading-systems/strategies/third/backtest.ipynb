{
 "nbformat": 4,
 "nbformat_minor": 2,
 "metadata": {
  "language_info": {
   "name": "python",
   "codemirror_mode": {
    "name": "ipython",
    "version": 3
   },
   "version": "3.7.7-final"
  },
  "orig_nbformat": 2,
  "file_extension": ".py",
  "mimetype": "text/x-python",
  "name": "python",
  "npconvert_exporter": "python",
  "pygments_lexer": "ipython3",
  "version": 3,
  "kernelspec": {
   "name": "python3",
   "display_name": "Python 3"
  }
 },
 "cells": [
  {
   "cell_type": "code",
   "execution_count": 1,
   "metadata": {},
   "outputs": [],
   "source": [
    "import os, sys\n",
    "\n",
    "sys.path.insert(0, os.path.abspath(\"../..\"))"
   ]
  },
  {
   "cell_type": "code",
   "execution_count": 5,
   "metadata": {},
   "outputs": [],
   "source": [
    "from strategies.third.third import Third\n",
    "from lib.data_util import load_candlesticks\n",
    "from lib.backtest import Backtest, set_up_strategy_tmp_path\n",
    "from lib.charting import chartTrades\n",
    "import pathlib\n",
    "import pandas as pd"
   ]
  },
  {
   "cell_type": "code",
   "execution_count": 6,
   "metadata": {},
   "outputs": [
    {
     "output_type": "stream",
     "name": "stdout",
     "text": "Closetime of newest candle is 1587038399999\nOnly using data on file. Will not download new data from Binance.\n"
    }
   ],
   "source": [
    "#tmp_path = \"./tmp/backtesting\"\n",
    "candlesticks = load_candlesticks(\"BTCUSDT\", \"1h\", custom_data_path=\"../../tmp\")\n",
    "\n",
    "trade_start_position = 18000\n",
    "trade_end_position = len(candlesticks)\n",
    "\n",
    "strategy = Third()\n",
    "\n",
    "features = strategy.generate_features(candlesticks)\n",
    "targets = strategy._generate_targets(candlesticks, features)\n",
    "\n",
    "#features.to_csv(tmp_path + \"features.csv\")\n",
    "\n",
    "#pd.DataFrame(targets).to_csv(tmp_path + \"targets.csv\")"
   ]
  },
  {
   "cell_type": "code",
   "execution_count": 7,
   "metadata": {},
   "outputs": [
    {
     "output_type": "stream",
     "name": "stdout",
     "text": "Strategy - Start retraining.\nStrategy - End retraining.\nBacktest - position: 0 of 5257, number of signals: 0\nStrategy - Start retraining.\nStrategy - End retraining.\nBacktest - position: 100 of 5257, number of signals: 4\nStrategy - Start retraining.\nStrategy - End retraining.\nBacktest - position: 200 of 5257, number of signals: 4\nStrategy - Start retraining.\nStrategy - End retraining.\nBacktest - position: 300 of 5257, number of signals: 9\nStrategy - Start retraining.\nStrategy - End retraining.\nBacktest - position: 400 of 5257, number of signals: 11\nStrategy - Start retraining.\nStrategy - End retraining.\nBacktest - position: 500 of 5257, number of signals: 14\nStrategy - Start retraining.\nStrategy - End retraining.\nBacktest - position: 600 of 5257, number of signals: 16\nStrategy - Start retraining.\nStrategy - End retraining.\nBacktest - position: 700 of 5257, number of signals: 20\nStrategy - Start retraining.\nStrategy - End retraining.\nBacktest - position: 800 of 5257, number of signals: 24\nStrategy - Start retraining.\nStrategy - End retraining.\nBacktest - position: 900 of 5257, number of signals: 25\nStrategy - Start retraining.\nStrategy - End retraining.\nBacktest - position: 1000 of 5257, number of signals: 26\nStrategy - Start retraining.\nStrategy - End retraining.\nBacktest - position: 1100 of 5257, number of signals: 28\nStrategy - Start retraining.\nStrategy - End retraining.\nBacktest - position: 1200 of 5257, number of signals: 30\nStrategy - Start retraining.\nStrategy - End retraining.\nBacktest - position: 1300 of 5257, number of signals: 32\nStrategy - Start retraining.\nStrategy - End retraining.\nBacktest - position: 1400 of 5257, number of signals: 34\nStrategy - Start retraining.\nStrategy - End retraining.\nBacktest - position: 1500 of 5257, number of signals: 34\nStrategy - Start retraining.\nStrategy - End retraining.\nBacktest - position: 1600 of 5257, number of signals: 36\nStrategy - Start retraining.\nStrategy - End retraining.\nBacktest - position: 1700 of 5257, number of signals: 38\nStrategy - Start retraining.\nStrategy - End retraining.\nBacktest - position: 1800 of 5257, number of signals: 38\nStrategy - Start retraining.\nStrategy - End retraining.\nBacktest - position: 1900 of 5257, number of signals: 40\nStrategy - Start retraining.\nStrategy - End retraining.\nBacktest - position: 2000 of 5257, number of signals: 40\nStrategy - Start retraining.\nStrategy - End retraining.\nBacktest - position: 2100 of 5257, number of signals: 42\nStrategy - Start retraining.\nStrategy - End retraining.\nBacktest - position: 2200 of 5257, number of signals: 42\nStrategy - Start retraining.\nStrategy - End retraining.\nBacktest - position: 2300 of 5257, number of signals: 44\nStrategy - Start retraining.\nStrategy - End retraining.\nBacktest - position: 2400 of 5257, number of signals: 47\nStrategy - Start retraining.\nStrategy - End retraining.\nBacktest - position: 2500 of 5257, number of signals: 48\nStrategy - Start retraining.\nStrategy - End retraining.\nBacktest - position: 2600 of 5257, number of signals: 50\nStrategy - Start retraining.\nStrategy - End retraining.\nBacktest - position: 2700 of 5257, number of signals: 50\nStrategy - Start retraining.\nStrategy - End retraining.\nBacktest - position: 2800 of 5257, number of signals: 54\nStrategy - Start retraining.\nStrategy - End retraining.\nBacktest - position: 2900 of 5257, number of signals: 58\nStrategy - Start retraining.\nStrategy - End retraining.\nBacktest - position: 3000 of 5257, number of signals: 62\nStrategy - Start retraining.\nStrategy - End retraining.\nBacktest - position: 3100 of 5257, number of signals: 62\nStrategy - Start retraining.\nStrategy - End retraining.\nBacktest - position: 3200 of 5257, number of signals: 62\nStrategy - Start retraining.\nStrategy - End retraining.\nBacktest - position: 3300 of 5257, number of signals: 62\nStrategy - Start retraining.\nStrategy - End retraining.\nBacktest - position: 3400 of 5257, number of signals: 64\nStrategy - Start retraining.\nStrategy - End retraining.\nBacktest - position: 3500 of 5257, number of signals: 64\nStrategy - Start retraining.\nStrategy - End retraining.\nBacktest - position: 3600 of 5257, number of signals: 64\nStrategy - Start retraining.\nStrategy - End retraining.\nBacktest - position: 3700 of 5257, number of signals: 64\nStrategy - Start retraining.\nStrategy - End retraining.\nBacktest - position: 3800 of 5257, number of signals: 64\nStrategy - Start retraining.\nStrategy - End retraining.\nBacktest - position: 3900 of 5257, number of signals: 64\nStrategy - Start retraining.\nStrategy - End retraining.\nBacktest - position: 4000 of 5257, number of signals: 64\nStrategy - Start retraining.\nStrategy - End retraining.\nBacktest - position: 4100 of 5257, number of signals: 66\nStrategy - Start retraining.\nStrategy - End retraining.\nBacktest - position: 4200 of 5257, number of signals: 66\nStrategy - Start retraining.\nStrategy - End retraining.\nBacktest - position: 4300 of 5257, number of signals: 66\nStrategy - Start retraining.\nStrategy - End retraining.\nBacktest - position: 4400 of 5257, number of signals: 66\nStrategy - Start retraining.\nStrategy - End retraining.\nBacktest - position: 4500 of 5257, number of signals: 66\nStrategy - Start retraining.\nStrategy - End retraining.\nBacktest - position: 4600 of 5257, number of signals: 66\nStrategy - Start retraining.\nStrategy - End retraining.\nBacktest - position: 4700 of 5257, number of signals: 66\nStrategy - Start retraining.\nStrategy - End retraining.\nBacktest - position: 4800 of 5257, number of signals: 68\nStrategy - Start retraining.\nStrategy - End retraining.\nBacktest - position: 4900 of 5257, number of signals: 71\nStrategy - Start retraining.\nStrategy - End retraining.\nBacktest - position: 5000 of 5257, number of signals: 74\nStrategy - Start retraining.\nStrategy - End retraining.\nBacktest - position: 5100 of 5257, number of signals: 76\nStrategy - Start retraining.\nStrategy - End retraining.\nBacktest - position: 5200 of 5257, number of signals: 78\n"
    }
   ],
   "source": [
    "signals = Backtest.run(\n",
    "    strategy=strategy,\n",
    "    features=features,\n",
    "    candlesticks=candlesticks,\n",
    "    start_position=trade_start_position,\n",
    "    end_position=trade_end_position,\n",
    "    #signals_csv_path=strategy_tmp_path + \"/signals.csv\"\n",
    ")\n",
    "# signals = Backtest._runWithTarget(\n",
    "#     strategy=strategy,\n",
    "#     features=features,\n",
    "#     targets=targets,\n",
    "#     candlesticks=candlesticks,\n",
    "#     start_position=trade_start_position,\n",
    "#     end_position=trade_end_position,\n",
    "#     signals_csv_path=strategy_tmp_path + \"signals.csv\",\n",
    "# )"
   ]
  },
  {
   "cell_type": "code",
   "execution_count": 9,
   "metadata": {},
   "outputs": [
    {
     "output_type": "stream",
     "name": "stdout",
     "text": "Starts with 10302.58$ at 2019-09-10T00:00:00.000000000\nEnds with 9298.929353526692$ (number of trades: 80) at 2020-04-16T11:59:59.999000000\nEarned -1003.6506464733084$ (-9.74%)\nPercentage price change in period: -31.59%\n"
    }
   ],
   "source": [
    "trades = Backtest.evaluate(\n",
    "   signals, candlesticks, trade_start_position, trade_end_position, 0.001\n",
    ")\n",
    "#trades.to_csv(strategy_tmp_path + \"trades.csv\")\n",
    "\n",
    "chartTrades(\n",
    "    trades,\n",
    "    candlesticks,\n",
    "    trade_start_position,\n",
    "    trade_end_position,\n",
    "    \"./tmp/backtesting/chart.html\",\n",
    ")"
   ]
  },
  {
   "cell_type": "code",
   "execution_count": 10,
   "metadata": {},
   "outputs": [
    {
     "output_type": "execute_result",
     "data": {
      "text/plain": "                 open time              close time time in position  \\\n0  2019-09-11 14:59:59.999 2019-09-12 10:59:59.999  0 days 20:00:00   \n1  2019-09-13 16:59:59.999 2019-09-13 22:59:59.999  0 days 06:00:00   \n2  2019-09-20 02:59:59.999 2019-09-20 10:59:59.999  0 days 08:00:00   \n3  2019-09-21 02:59:59.999 2019-09-21 15:59:59.999  0 days 13:00:00   \n4  2019-09-21 16:59:59.999 2019-09-23 03:59:59.999  1 days 11:00:00   \n5  2019-09-26 01:59:59.999 2019-09-26 18:59:59.999  0 days 17:00:00   \n6  2019-09-27 11:59:59.999 2019-09-28 07:59:59.999  0 days 20:00:00   \n7  2019-09-30 20:59:59.999 2019-10-01 13:59:59.999  0 days 17:00:00   \n8  2019-10-07 04:59:59.999 2019-10-07 07:59:59.999  0 days 03:00:00   \n9  2019-10-07 20:59:59.999 2019-10-08 12:59:59.999  0 days 16:00:00   \n10 2019-10-09 21:59:59.999 2019-10-10 04:59:59.999  0 days 07:00:00   \n11 2019-10-11 18:59:59.999 2019-10-11 22:59:59.999  0 days 04:00:00   \n12 2019-10-17 04:59:59.999 2019-10-17 19:59:59.999  0 days 15:00:00   \n13 2019-10-22 02:59:59.999 2019-10-22 07:59:59.999  0 days 05:00:00   \n14 2019-10-29 09:59:59.999 2019-10-29 20:59:59.999  0 days 11:00:00   \n15 2019-10-31 02:59:59.999 2019-10-31 23:59:59.999  0 days 21:00:00   \n16 2019-11-03 20:59:59.999 2019-11-03 23:59:59.999  0 days 03:00:00   \n17 2019-11-13 21:59:59.999 2019-11-14 04:59:59.999  0 days 07:00:00   \n18 2019-11-16 12:59:59.999 2019-11-16 23:59:59.999  0 days 11:00:00   \n19 2019-11-27 22:59:59.999 2019-11-28 06:59:59.999  0 days 08:00:00   \n20 2019-12-04 14:59:59.999 2019-12-05 22:59:59.999  1 days 08:00:00   \n21 2019-12-11 18:59:59.999 2019-12-13 02:59:59.999  1 days 08:00:00   \n22 2019-12-17 07:59:59.999 2019-12-17 13:59:59.999  0 days 06:00:00   \n23 2019-12-18 07:59:59.999 2019-12-19 09:59:59.999  1 days 02:00:00   \n24 2019-12-26 21:59:59.999 2019-12-27 01:59:59.999  0 days 04:00:00   \n25 2020-01-01 11:59:59.999 2020-01-01 23:59:59.999  0 days 12:00:00   \n26 2020-01-02 15:59:59.999 2020-01-02 19:59:59.999  0 days 04:00:00   \n27 2020-01-08 07:59:59.999 2020-01-08 10:59:59.999  0 days 03:00:00   \n28 2020-01-08 12:59:59.999 2020-01-08 14:59:59.999  0 days 02:00:00   \n29 2020-01-09 13:59:59.999 2020-01-09 16:59:59.999  0 days 03:00:00   \n30 2020-01-11 04:59:59.999 2020-01-11 08:59:59.999  0 days 04:00:00   \n31 2020-01-26 00:59:59.999 2020-01-26 06:59:59.999  0 days 06:00:00   \n32 2020-02-25 03:59:59.999 2020-02-25 18:59:59.999  0 days 15:00:00   \n33 2020-03-27 04:59:59.999 2020-03-27 14:59:59.999  0 days 10:00:00   \n34 2020-03-29 05:59:59.999 2020-03-29 10:59:59.999  0 days 05:00:00   \n35 2020-04-01 11:59:59.999 2020-04-01 17:59:59.999  0 days 06:00:00   \n36 2020-04-02 01:59:59.999 2020-04-03 01:59:59.999  1 days 00:00:00   \n37 2020-04-07 02:59:59.999 2020-04-07 21:59:59.999  0 days 19:00:00   \n38 2020-04-12 17:59:59.999 2020-04-13 00:59:59.999  0 days 07:00:00   \n39 2020-04-14 04:59:59.999 2020-04-14 09:59:59.999  0 days 05:00:00   \n\n    open price  close price  change  change %    open money   close money  \n0     10031.43     10152.84  121.41  1.210296  10302.580000  10406.427602  \n1     10298.55     10282.08  -16.47 -0.159925  10406.427602  10369.015897  \n2     10175.38     10155.03  -20.35 -0.199993  10369.015897  10327.592431  \n3     10123.79     10038.43  -85.36 -0.843162  10327.592431  10220.043258  \n4     10003.11      9980.84  -22.27 -0.222631  10220.043258  10176.905914  \n5      8347.40      8120.70 -226.70 -2.715816  10176.905914   9880.728766  \n6      7988.18      8215.44  227.26  2.844953   9880.728766  10141.517397  \n7      8213.46      8343.56  130.10  1.583985  10141.517397  10281.563530  \n8      7838.02      7867.20   29.18  0.372288  10281.563530  10299.211186  \n9      8197.74      8225.56   27.82  0.339362  10299.211186  10313.504785  \n10     8542.46      8574.98   32.52  0.380687  10313.504785  10332.071734  \n11     8312.94      8314.50    1.56  0.018766  10332.071734  10313.352956  \n12     7933.34      8059.32  125.98  1.587982  10313.352956  10456.183353  \n13     8181.73      8208.60   26.87  0.328415  10456.183353  10469.552435  \n14     9385.35      9423.15   37.80  0.402755  10469.552435  10490.706192  \n15     9089.82      9140.86   51.04  0.561507  10490.706192  10528.523595  \n16     9151.72      9196.46   44.74  0.488870  10528.523595  10558.844964  \n17     8769.95      8688.16  -81.79 -0.932616  10558.844964  10439.461152  \n18     8474.72      8490.74   16.02  0.189033  10439.461152  10438.287226  \n19     7519.85      7504.29  -15.56 -0.206919  10438.287226  10395.865464  \n20     7466.79      7394.80  -71.99 -0.964136  10395.865464  10275.054222  \n21     7188.12      7213.37   25.25  0.351274  10275.054222  10290.535837  \n22     6877.46      6773.54 -103.92 -1.511023  10290.535837  10114.783525  \n23     6619.06      7121.23  502.17  7.586727  10114.783525  10860.411072  \n24     7197.81      7212.35   14.54  0.202006  10860.411072  10860.595925  \n25     7197.20      7200.77    3.57  0.049603  10860.595925  10844.261965  \n26     7130.37      6982.63 -147.74 -2.071982  10844.261965  10598.342261  \n27     8297.27      8327.06   29.79  0.359034  10598.342261  10615.131736  \n28     8285.92      8310.98   25.06  0.302441  10615.131736  10625.952397  \n29     7897.54      7818.15  -79.39 -1.005250  10625.952397  10498.107287  \n30     8118.40      8052.96  -65.44 -0.806070  10498.107287  10392.668620  \n31     8326.49      8356.24   29.75  0.357293  10392.668620  10408.951768  \n32     9579.94      9374.94 -205.00 -2.139888  10408.951768  10165.849606  \n33     6739.99      6616.82 -123.17 -1.827451  10165.849606   9960.123541  \n34     6146.70      6171.09   24.39  0.396798   9960.123541   9979.655849  \n35     6297.00      6194.56 -102.44 -1.626806   9979.655849   9797.681372  \n36     6567.37      6800.18  232.81  3.544950   9797.681372  10124.724440  \n37     7311.39      7172.29 -139.10 -1.902511  10124.724440   9912.246174  \n38     7092.98      6718.85 -374.13 -5.274652   9912.246174   9370.640269  \n39     6884.32      6845.32  -39.00 -0.566505   9370.640269   9298.929354  ",
      "text/html": "<div>\n<style scoped>\n    .dataframe tbody tr th:only-of-type {\n        vertical-align: middle;\n    }\n\n    .dataframe tbody tr th {\n        vertical-align: top;\n    }\n\n    .dataframe thead th {\n        text-align: right;\n    }\n</style>\n<table border=\"1\" class=\"dataframe\">\n  <thead>\n    <tr style=\"text-align: right;\">\n      <th></th>\n      <th>open time</th>\n      <th>close time</th>\n      <th>time in position</th>\n      <th>open price</th>\n      <th>close price</th>\n      <th>change</th>\n      <th>change %</th>\n      <th>open money</th>\n      <th>close money</th>\n    </tr>\n  </thead>\n  <tbody>\n    <tr>\n      <th>0</th>\n      <td>2019-09-11 14:59:59.999</td>\n      <td>2019-09-12 10:59:59.999</td>\n      <td>0 days 20:00:00</td>\n      <td>10031.43</td>\n      <td>10152.84</td>\n      <td>121.41</td>\n      <td>1.210296</td>\n      <td>10302.580000</td>\n      <td>10406.427602</td>\n    </tr>\n    <tr>\n      <th>1</th>\n      <td>2019-09-13 16:59:59.999</td>\n      <td>2019-09-13 22:59:59.999</td>\n      <td>0 days 06:00:00</td>\n      <td>10298.55</td>\n      <td>10282.08</td>\n      <td>-16.47</td>\n      <td>-0.159925</td>\n      <td>10406.427602</td>\n      <td>10369.015897</td>\n    </tr>\n    <tr>\n      <th>2</th>\n      <td>2019-09-20 02:59:59.999</td>\n      <td>2019-09-20 10:59:59.999</td>\n      <td>0 days 08:00:00</td>\n      <td>10175.38</td>\n      <td>10155.03</td>\n      <td>-20.35</td>\n      <td>-0.199993</td>\n      <td>10369.015897</td>\n      <td>10327.592431</td>\n    </tr>\n    <tr>\n      <th>3</th>\n      <td>2019-09-21 02:59:59.999</td>\n      <td>2019-09-21 15:59:59.999</td>\n      <td>0 days 13:00:00</td>\n      <td>10123.79</td>\n      <td>10038.43</td>\n      <td>-85.36</td>\n      <td>-0.843162</td>\n      <td>10327.592431</td>\n      <td>10220.043258</td>\n    </tr>\n    <tr>\n      <th>4</th>\n      <td>2019-09-21 16:59:59.999</td>\n      <td>2019-09-23 03:59:59.999</td>\n      <td>1 days 11:00:00</td>\n      <td>10003.11</td>\n      <td>9980.84</td>\n      <td>-22.27</td>\n      <td>-0.222631</td>\n      <td>10220.043258</td>\n      <td>10176.905914</td>\n    </tr>\n    <tr>\n      <th>5</th>\n      <td>2019-09-26 01:59:59.999</td>\n      <td>2019-09-26 18:59:59.999</td>\n      <td>0 days 17:00:00</td>\n      <td>8347.40</td>\n      <td>8120.70</td>\n      <td>-226.70</td>\n      <td>-2.715816</td>\n      <td>10176.905914</td>\n      <td>9880.728766</td>\n    </tr>\n    <tr>\n      <th>6</th>\n      <td>2019-09-27 11:59:59.999</td>\n      <td>2019-09-28 07:59:59.999</td>\n      <td>0 days 20:00:00</td>\n      <td>7988.18</td>\n      <td>8215.44</td>\n      <td>227.26</td>\n      <td>2.844953</td>\n      <td>9880.728766</td>\n      <td>10141.517397</td>\n    </tr>\n    <tr>\n      <th>7</th>\n      <td>2019-09-30 20:59:59.999</td>\n      <td>2019-10-01 13:59:59.999</td>\n      <td>0 days 17:00:00</td>\n      <td>8213.46</td>\n      <td>8343.56</td>\n      <td>130.10</td>\n      <td>1.583985</td>\n      <td>10141.517397</td>\n      <td>10281.563530</td>\n    </tr>\n    <tr>\n      <th>8</th>\n      <td>2019-10-07 04:59:59.999</td>\n      <td>2019-10-07 07:59:59.999</td>\n      <td>0 days 03:00:00</td>\n      <td>7838.02</td>\n      <td>7867.20</td>\n      <td>29.18</td>\n      <td>0.372288</td>\n      <td>10281.563530</td>\n      <td>10299.211186</td>\n    </tr>\n    <tr>\n      <th>9</th>\n      <td>2019-10-07 20:59:59.999</td>\n      <td>2019-10-08 12:59:59.999</td>\n      <td>0 days 16:00:00</td>\n      <td>8197.74</td>\n      <td>8225.56</td>\n      <td>27.82</td>\n      <td>0.339362</td>\n      <td>10299.211186</td>\n      <td>10313.504785</td>\n    </tr>\n    <tr>\n      <th>10</th>\n      <td>2019-10-09 21:59:59.999</td>\n      <td>2019-10-10 04:59:59.999</td>\n      <td>0 days 07:00:00</td>\n      <td>8542.46</td>\n      <td>8574.98</td>\n      <td>32.52</td>\n      <td>0.380687</td>\n      <td>10313.504785</td>\n      <td>10332.071734</td>\n    </tr>\n    <tr>\n      <th>11</th>\n      <td>2019-10-11 18:59:59.999</td>\n      <td>2019-10-11 22:59:59.999</td>\n      <td>0 days 04:00:00</td>\n      <td>8312.94</td>\n      <td>8314.50</td>\n      <td>1.56</td>\n      <td>0.018766</td>\n      <td>10332.071734</td>\n      <td>10313.352956</td>\n    </tr>\n    <tr>\n      <th>12</th>\n      <td>2019-10-17 04:59:59.999</td>\n      <td>2019-10-17 19:59:59.999</td>\n      <td>0 days 15:00:00</td>\n      <td>7933.34</td>\n      <td>8059.32</td>\n      <td>125.98</td>\n      <td>1.587982</td>\n      <td>10313.352956</td>\n      <td>10456.183353</td>\n    </tr>\n    <tr>\n      <th>13</th>\n      <td>2019-10-22 02:59:59.999</td>\n      <td>2019-10-22 07:59:59.999</td>\n      <td>0 days 05:00:00</td>\n      <td>8181.73</td>\n      <td>8208.60</td>\n      <td>26.87</td>\n      <td>0.328415</td>\n      <td>10456.183353</td>\n      <td>10469.552435</td>\n    </tr>\n    <tr>\n      <th>14</th>\n      <td>2019-10-29 09:59:59.999</td>\n      <td>2019-10-29 20:59:59.999</td>\n      <td>0 days 11:00:00</td>\n      <td>9385.35</td>\n      <td>9423.15</td>\n      <td>37.80</td>\n      <td>0.402755</td>\n      <td>10469.552435</td>\n      <td>10490.706192</td>\n    </tr>\n    <tr>\n      <th>15</th>\n      <td>2019-10-31 02:59:59.999</td>\n      <td>2019-10-31 23:59:59.999</td>\n      <td>0 days 21:00:00</td>\n      <td>9089.82</td>\n      <td>9140.86</td>\n      <td>51.04</td>\n      <td>0.561507</td>\n      <td>10490.706192</td>\n      <td>10528.523595</td>\n    </tr>\n    <tr>\n      <th>16</th>\n      <td>2019-11-03 20:59:59.999</td>\n      <td>2019-11-03 23:59:59.999</td>\n      <td>0 days 03:00:00</td>\n      <td>9151.72</td>\n      <td>9196.46</td>\n      <td>44.74</td>\n      <td>0.488870</td>\n      <td>10528.523595</td>\n      <td>10558.844964</td>\n    </tr>\n    <tr>\n      <th>17</th>\n      <td>2019-11-13 21:59:59.999</td>\n      <td>2019-11-14 04:59:59.999</td>\n      <td>0 days 07:00:00</td>\n      <td>8769.95</td>\n      <td>8688.16</td>\n      <td>-81.79</td>\n      <td>-0.932616</td>\n      <td>10558.844964</td>\n      <td>10439.461152</td>\n    </tr>\n    <tr>\n      <th>18</th>\n      <td>2019-11-16 12:59:59.999</td>\n      <td>2019-11-16 23:59:59.999</td>\n      <td>0 days 11:00:00</td>\n      <td>8474.72</td>\n      <td>8490.74</td>\n      <td>16.02</td>\n      <td>0.189033</td>\n      <td>10439.461152</td>\n      <td>10438.287226</td>\n    </tr>\n    <tr>\n      <th>19</th>\n      <td>2019-11-27 22:59:59.999</td>\n      <td>2019-11-28 06:59:59.999</td>\n      <td>0 days 08:00:00</td>\n      <td>7519.85</td>\n      <td>7504.29</td>\n      <td>-15.56</td>\n      <td>-0.206919</td>\n      <td>10438.287226</td>\n      <td>10395.865464</td>\n    </tr>\n    <tr>\n      <th>20</th>\n      <td>2019-12-04 14:59:59.999</td>\n      <td>2019-12-05 22:59:59.999</td>\n      <td>1 days 08:00:00</td>\n      <td>7466.79</td>\n      <td>7394.80</td>\n      <td>-71.99</td>\n      <td>-0.964136</td>\n      <td>10395.865464</td>\n      <td>10275.054222</td>\n    </tr>\n    <tr>\n      <th>21</th>\n      <td>2019-12-11 18:59:59.999</td>\n      <td>2019-12-13 02:59:59.999</td>\n      <td>1 days 08:00:00</td>\n      <td>7188.12</td>\n      <td>7213.37</td>\n      <td>25.25</td>\n      <td>0.351274</td>\n      <td>10275.054222</td>\n      <td>10290.535837</td>\n    </tr>\n    <tr>\n      <th>22</th>\n      <td>2019-12-17 07:59:59.999</td>\n      <td>2019-12-17 13:59:59.999</td>\n      <td>0 days 06:00:00</td>\n      <td>6877.46</td>\n      <td>6773.54</td>\n      <td>-103.92</td>\n      <td>-1.511023</td>\n      <td>10290.535837</td>\n      <td>10114.783525</td>\n    </tr>\n    <tr>\n      <th>23</th>\n      <td>2019-12-18 07:59:59.999</td>\n      <td>2019-12-19 09:59:59.999</td>\n      <td>1 days 02:00:00</td>\n      <td>6619.06</td>\n      <td>7121.23</td>\n      <td>502.17</td>\n      <td>7.586727</td>\n      <td>10114.783525</td>\n      <td>10860.411072</td>\n    </tr>\n    <tr>\n      <th>24</th>\n      <td>2019-12-26 21:59:59.999</td>\n      <td>2019-12-27 01:59:59.999</td>\n      <td>0 days 04:00:00</td>\n      <td>7197.81</td>\n      <td>7212.35</td>\n      <td>14.54</td>\n      <td>0.202006</td>\n      <td>10860.411072</td>\n      <td>10860.595925</td>\n    </tr>\n    <tr>\n      <th>25</th>\n      <td>2020-01-01 11:59:59.999</td>\n      <td>2020-01-01 23:59:59.999</td>\n      <td>0 days 12:00:00</td>\n      <td>7197.20</td>\n      <td>7200.77</td>\n      <td>3.57</td>\n      <td>0.049603</td>\n      <td>10860.595925</td>\n      <td>10844.261965</td>\n    </tr>\n    <tr>\n      <th>26</th>\n      <td>2020-01-02 15:59:59.999</td>\n      <td>2020-01-02 19:59:59.999</td>\n      <td>0 days 04:00:00</td>\n      <td>7130.37</td>\n      <td>6982.63</td>\n      <td>-147.74</td>\n      <td>-2.071982</td>\n      <td>10844.261965</td>\n      <td>10598.342261</td>\n    </tr>\n    <tr>\n      <th>27</th>\n      <td>2020-01-08 07:59:59.999</td>\n      <td>2020-01-08 10:59:59.999</td>\n      <td>0 days 03:00:00</td>\n      <td>8297.27</td>\n      <td>8327.06</td>\n      <td>29.79</td>\n      <td>0.359034</td>\n      <td>10598.342261</td>\n      <td>10615.131736</td>\n    </tr>\n    <tr>\n      <th>28</th>\n      <td>2020-01-08 12:59:59.999</td>\n      <td>2020-01-08 14:59:59.999</td>\n      <td>0 days 02:00:00</td>\n      <td>8285.92</td>\n      <td>8310.98</td>\n      <td>25.06</td>\n      <td>0.302441</td>\n      <td>10615.131736</td>\n      <td>10625.952397</td>\n    </tr>\n    <tr>\n      <th>29</th>\n      <td>2020-01-09 13:59:59.999</td>\n      <td>2020-01-09 16:59:59.999</td>\n      <td>0 days 03:00:00</td>\n      <td>7897.54</td>\n      <td>7818.15</td>\n      <td>-79.39</td>\n      <td>-1.005250</td>\n      <td>10625.952397</td>\n      <td>10498.107287</td>\n    </tr>\n    <tr>\n      <th>30</th>\n      <td>2020-01-11 04:59:59.999</td>\n      <td>2020-01-11 08:59:59.999</td>\n      <td>0 days 04:00:00</td>\n      <td>8118.40</td>\n      <td>8052.96</td>\n      <td>-65.44</td>\n      <td>-0.806070</td>\n      <td>10498.107287</td>\n      <td>10392.668620</td>\n    </tr>\n    <tr>\n      <th>31</th>\n      <td>2020-01-26 00:59:59.999</td>\n      <td>2020-01-26 06:59:59.999</td>\n      <td>0 days 06:00:00</td>\n      <td>8326.49</td>\n      <td>8356.24</td>\n      <td>29.75</td>\n      <td>0.357293</td>\n      <td>10392.668620</td>\n      <td>10408.951768</td>\n    </tr>\n    <tr>\n      <th>32</th>\n      <td>2020-02-25 03:59:59.999</td>\n      <td>2020-02-25 18:59:59.999</td>\n      <td>0 days 15:00:00</td>\n      <td>9579.94</td>\n      <td>9374.94</td>\n      <td>-205.00</td>\n      <td>-2.139888</td>\n      <td>10408.951768</td>\n      <td>10165.849606</td>\n    </tr>\n    <tr>\n      <th>33</th>\n      <td>2020-03-27 04:59:59.999</td>\n      <td>2020-03-27 14:59:59.999</td>\n      <td>0 days 10:00:00</td>\n      <td>6739.99</td>\n      <td>6616.82</td>\n      <td>-123.17</td>\n      <td>-1.827451</td>\n      <td>10165.849606</td>\n      <td>9960.123541</td>\n    </tr>\n    <tr>\n      <th>34</th>\n      <td>2020-03-29 05:59:59.999</td>\n      <td>2020-03-29 10:59:59.999</td>\n      <td>0 days 05:00:00</td>\n      <td>6146.70</td>\n      <td>6171.09</td>\n      <td>24.39</td>\n      <td>0.396798</td>\n      <td>9960.123541</td>\n      <td>9979.655849</td>\n    </tr>\n    <tr>\n      <th>35</th>\n      <td>2020-04-01 11:59:59.999</td>\n      <td>2020-04-01 17:59:59.999</td>\n      <td>0 days 06:00:00</td>\n      <td>6297.00</td>\n      <td>6194.56</td>\n      <td>-102.44</td>\n      <td>-1.626806</td>\n      <td>9979.655849</td>\n      <td>9797.681372</td>\n    </tr>\n    <tr>\n      <th>36</th>\n      <td>2020-04-02 01:59:59.999</td>\n      <td>2020-04-03 01:59:59.999</td>\n      <td>1 days 00:00:00</td>\n      <td>6567.37</td>\n      <td>6800.18</td>\n      <td>232.81</td>\n      <td>3.544950</td>\n      <td>9797.681372</td>\n      <td>10124.724440</td>\n    </tr>\n    <tr>\n      <th>37</th>\n      <td>2020-04-07 02:59:59.999</td>\n      <td>2020-04-07 21:59:59.999</td>\n      <td>0 days 19:00:00</td>\n      <td>7311.39</td>\n      <td>7172.29</td>\n      <td>-139.10</td>\n      <td>-1.902511</td>\n      <td>10124.724440</td>\n      <td>9912.246174</td>\n    </tr>\n    <tr>\n      <th>38</th>\n      <td>2020-04-12 17:59:59.999</td>\n      <td>2020-04-13 00:59:59.999</td>\n      <td>0 days 07:00:00</td>\n      <td>7092.98</td>\n      <td>6718.85</td>\n      <td>-374.13</td>\n      <td>-5.274652</td>\n      <td>9912.246174</td>\n      <td>9370.640269</td>\n    </tr>\n    <tr>\n      <th>39</th>\n      <td>2020-04-14 04:59:59.999</td>\n      <td>2020-04-14 09:59:59.999</td>\n      <td>0 days 05:00:00</td>\n      <td>6884.32</td>\n      <td>6845.32</td>\n      <td>-39.00</td>\n      <td>-0.566505</td>\n      <td>9370.640269</td>\n      <td>9298.929354</td>\n    </tr>\n  </tbody>\n</table>\n</div>"
     },
     "metadata": {},
     "execution_count": 10
    }
   ],
   "source": [
    "trades"
   ]
  },
  {
   "cell_type": "code",
   "execution_count": 11,
   "metadata": {},
   "outputs": [
    {
     "output_type": "execute_result",
     "data": {
      "text/plain": "             time in position    open price   close price     change  \\\ncount                      40     40.000000     40.000000   40.00000   \nmean          0 days 11:48:00   8095.026500   8091.021750   -4.00475   \nstd    0 days 08:54:27.006768   1131.329771   1133.482797  139.79786   \nmin           0 days 02:00:00   6146.700000   6171.090000 -374.13000   \n25%           0 days 05:00:00   7194.930000   7193.650000  -79.99000   \n50%           0 days 08:00:00   8150.065000   8164.650000    9.05500   \n75%           0 days 17:00:00   8599.332500   8603.275000   30.47250   \nmax           1 days 11:00:00  10298.550000  10282.080000  502.17000   \n\n        change %    open money   close money  \ncount  40.000000     40.000000     40.000000  \nmean   -0.037958  10320.941443  10295.850176  \nstd     1.942745    292.077703    333.822258  \nmin    -5.274652   9370.640269   9298.929354  \n25%    -0.940496  10174.141837  10159.766554  \n50%     0.119318  10329.832083  10329.832083  \n75%     0.384715  10474.840874  10474.840874  \nmax     7.586727  10860.595925  10860.595925  ",
      "text/html": "<div>\n<style scoped>\n    .dataframe tbody tr th:only-of-type {\n        vertical-align: middle;\n    }\n\n    .dataframe tbody tr th {\n        vertical-align: top;\n    }\n\n    .dataframe thead th {\n        text-align: right;\n    }\n</style>\n<table border=\"1\" class=\"dataframe\">\n  <thead>\n    <tr style=\"text-align: right;\">\n      <th></th>\n      <th>time in position</th>\n      <th>open price</th>\n      <th>close price</th>\n      <th>change</th>\n      <th>change %</th>\n      <th>open money</th>\n      <th>close money</th>\n    </tr>\n  </thead>\n  <tbody>\n    <tr>\n      <th>count</th>\n      <td>40</td>\n      <td>40.000000</td>\n      <td>40.000000</td>\n      <td>40.00000</td>\n      <td>40.000000</td>\n      <td>40.000000</td>\n      <td>40.000000</td>\n    </tr>\n    <tr>\n      <th>mean</th>\n      <td>0 days 11:48:00</td>\n      <td>8095.026500</td>\n      <td>8091.021750</td>\n      <td>-4.00475</td>\n      <td>-0.037958</td>\n      <td>10320.941443</td>\n      <td>10295.850176</td>\n    </tr>\n    <tr>\n      <th>std</th>\n      <td>0 days 08:54:27.006768</td>\n      <td>1131.329771</td>\n      <td>1133.482797</td>\n      <td>139.79786</td>\n      <td>1.942745</td>\n      <td>292.077703</td>\n      <td>333.822258</td>\n    </tr>\n    <tr>\n      <th>min</th>\n      <td>0 days 02:00:00</td>\n      <td>6146.700000</td>\n      <td>6171.090000</td>\n      <td>-374.13000</td>\n      <td>-5.274652</td>\n      <td>9370.640269</td>\n      <td>9298.929354</td>\n    </tr>\n    <tr>\n      <th>25%</th>\n      <td>0 days 05:00:00</td>\n      <td>7194.930000</td>\n      <td>7193.650000</td>\n      <td>-79.99000</td>\n      <td>-0.940496</td>\n      <td>10174.141837</td>\n      <td>10159.766554</td>\n    </tr>\n    <tr>\n      <th>50%</th>\n      <td>0 days 08:00:00</td>\n      <td>8150.065000</td>\n      <td>8164.650000</td>\n      <td>9.05500</td>\n      <td>0.119318</td>\n      <td>10329.832083</td>\n      <td>10329.832083</td>\n    </tr>\n    <tr>\n      <th>75%</th>\n      <td>0 days 17:00:00</td>\n      <td>8599.332500</td>\n      <td>8603.275000</td>\n      <td>30.47250</td>\n      <td>0.384715</td>\n      <td>10474.840874</td>\n      <td>10474.840874</td>\n    </tr>\n    <tr>\n      <th>max</th>\n      <td>1 days 11:00:00</td>\n      <td>10298.550000</td>\n      <td>10282.080000</td>\n      <td>502.17000</td>\n      <td>7.586727</td>\n      <td>10860.595925</td>\n      <td>10860.595925</td>\n    </tr>\n  </tbody>\n</table>\n</div>"
     },
     "metadata": {},
     "execution_count": 11
    }
   ],
   "source": [
    "trades.describe()"
   ]
  },
  {
   "cell_type": "code",
   "execution_count": null,
   "metadata": {},
   "outputs": [],
   "source": []
  }
 ]
}