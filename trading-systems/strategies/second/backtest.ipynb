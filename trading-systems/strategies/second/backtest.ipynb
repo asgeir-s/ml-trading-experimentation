{
 "nbformat": 4,
 "nbformat_minor": 2,
 "metadata": {
  "language_info": {
   "name": "python",
   "codemirror_mode": {
    "name": "ipython",
    "version": 3
   },
   "version": "3.7.7-final"
  },
  "orig_nbformat": 2,
  "file_extension": ".py",
  "mimetype": "text/x-python",
  "name": "python",
  "npconvert_exporter": "python",
  "pygments_lexer": "ipython3",
  "version": 3,
  "kernelspec": {
   "name": "python3",
   "display_name": "Python 3"
  }
 },
 "cells": [
  {
   "cell_type": "code",
   "execution_count": 4,
   "metadata": {},
   "outputs": [],
   "source": [
    "import os, sys\n",
    "\n",
    "sys.path.insert(0, os.path.abspath(\"../..\"))"
   ]
  },
  {
   "cell_type": "code",
   "execution_count": 5,
   "metadata": {},
   "outputs": [],
   "source": [
    "from strategies.second.second import Second\n",
    "from lib.data_util import load_candlesticks\n",
    "from lib.backtest import Backtest, set_up_strategy_tmp_path\n",
    "from lib.charting import chartTrades\n",
    "import pathlib\n",
    "import pandas as pd"
   ]
  },
  {
   "cell_type": "code",
   "execution_count": 13,
   "metadata": {},
   "outputs": [],
   "source": [
    "#tmp_path = \"./tmp/backtesting\"\n",
    "candlesticks = load_candlesticks(\"BTCUSDT\", \"1h\", custom_data_path=\"../../tmp\")\n",
    "\n",
    "trade_start_position = 18000\n",
    "trade_end_position = len(candlesticks)\n",
    "\n",
    "strategy = Second()\n",
    "\n",
    "features = strategy.generate_features(candlesticks)\n",
    "targets = strategy._generate_targets(candlesticks, features)\n",
    "\n",
    "#features.to_csv(tmp_path + \"features.csv\")\n",
    "\n",
    "#pd.DataFrame(targets).to_csv(tmp_path + \"targets.csv\")"
   ]
  },
  {
   "cell_type": "code",
   "execution_count": 14,
   "metadata": {},
   "outputs": [
    {
     "output_type": "stream",
     "name": "stdout",
     "text": "Strategy - Start retraining.\nStrategy - End retraining.\nBacktest - position: 0 of 5257, number of signals: 1\nStrategy - Start retraining.\nStrategy - End retraining.\nBacktest - position: 100 of 5257, number of signals: 21\nStrategy - Start retraining.\nStrategy - End retraining.\nBacktest - position: 200 of 5257, number of signals: 43\nStrategy - Start retraining.\nStrategy - End retraining.\nBacktest - position: 300 of 5257, number of signals: 69\nStrategy - Start retraining.\nStrategy - End retraining.\nBacktest - position: 400 of 5257, number of signals: 85\nStrategy - Start retraining.\nStrategy - End retraining.\nBacktest - position: 500 of 5257, number of signals: 107\nStrategy - Start retraining.\nStrategy - End retraining.\nBacktest - position: 600 of 5257, number of signals: 127\nStrategy - Start retraining.\nStrategy - End retraining.\nBacktest - position: 700 of 5257, number of signals: 141\nStrategy - Start retraining.\nStrategy - End retraining.\nBacktest - position: 800 of 5257, number of signals: 167\nStrategy - Start retraining.\nStrategy - End retraining.\nBacktest - position: 900 of 5257, number of signals: 185\nStrategy - Start retraining.\nStrategy - End retraining.\nBacktest - position: 1000 of 5257, number of signals: 205\nStrategy - Start retraining.\nStrategy - End retraining.\nBacktest - position: 1100 of 5257, number of signals: 221\nStrategy - Start retraining.\nStrategy - End retraining.\nBacktest - position: 1200 of 5257, number of signals: 239\nStrategy - Start retraining.\nStrategy - End retraining.\nBacktest - position: 1300 of 5257, number of signals: 257\nStrategy - Start retraining.\nStrategy - End retraining.\nBacktest - position: 1400 of 5257, number of signals: 277\nStrategy - Start retraining.\nStrategy - End retraining.\nBacktest - position: 1500 of 5257, number of signals: 297\nStrategy - Start retraining.\nStrategy - End retraining.\nBacktest - position: 1600 of 5257, number of signals: 323\nStrategy - Start retraining.\nStrategy - End retraining.\nBacktest - position: 1700 of 5257, number of signals: 345\nStrategy - Start retraining.\nStrategy - End retraining.\nBacktest - position: 1800 of 5257, number of signals: 359\nStrategy - Start retraining.\nStrategy - End retraining.\nBacktest - position: 1900 of 5257, number of signals: 375\nStrategy - Start retraining.\nStrategy - End retraining.\nBacktest - position: 2000 of 5257, number of signals: 395\nStrategy - Start retraining.\nStrategy - End retraining.\nBacktest - position: 2100 of 5257, number of signals: 417\nStrategy - Start retraining.\nStrategy - End retraining.\nBacktest - position: 2200 of 5257, number of signals: 433\nStrategy - Start retraining.\nStrategy - End retraining.\nBacktest - position: 2300 of 5257, number of signals: 455\nStrategy - Start retraining.\nStrategy - End retraining.\nBacktest - position: 2400 of 5257, number of signals: 471\nStrategy - Start retraining.\nStrategy - End retraining.\nBacktest - position: 2500 of 5257, number of signals: 489\nStrategy - Start retraining.\nStrategy - End retraining.\nBacktest - position: 2600 of 5257, number of signals: 509\nStrategy - Start retraining.\nStrategy - End retraining.\nBacktest - position: 2700 of 5257, number of signals: 525\nStrategy - Start retraining.\nStrategy - End retraining.\nBacktest - position: 2800 of 5257, number of signals: 545\nStrategy - Start retraining.\nStrategy - End retraining.\nBacktest - position: 2900 of 5257, number of signals: 563\nStrategy - Start retraining.\nStrategy - End retraining.\nBacktest - position: 3000 of 5257, number of signals: 593\nStrategy - Start retraining.\nStrategy - End retraining.\nBacktest - position: 3100 of 5257, number of signals: 607\nStrategy - Start retraining.\nStrategy - End retraining.\nBacktest - position: 3200 of 5257, number of signals: 633\nStrategy - Start retraining.\nStrategy - End retraining.\nBacktest - position: 3300 of 5257, number of signals: 651\nStrategy - Start retraining.\nStrategy - End retraining.\nBacktest - position: 3400 of 5257, number of signals: 671\nStrategy - Start retraining.\nStrategy - End retraining.\nBacktest - position: 3500 of 5257, number of signals: 689\nStrategy - Start retraining.\nStrategy - End retraining.\nBacktest - position: 3600 of 5257, number of signals: 709\nStrategy - Start retraining.\nStrategy - End retraining.\nBacktest - position: 3700 of 5257, number of signals: 727\nStrategy - Start retraining.\nStrategy - End retraining.\nBacktest - position: 3800 of 5257, number of signals: 749\nStrategy - Start retraining.\nStrategy - End retraining.\nBacktest - position: 3900 of 5257, number of signals: 763\nStrategy - Start retraining.\nStrategy - End retraining.\nBacktest - position: 4000 of 5257, number of signals: 779\nStrategy - Start retraining.\nStrategy - End retraining.\nBacktest - position: 4100 of 5257, number of signals: 795\nStrategy - Start retraining.\nStrategy - End retraining.\nBacktest - position: 4200 of 5257, number of signals: 815\nStrategy - Start retraining.\nStrategy - End retraining.\nBacktest - position: 4300 of 5257, number of signals: 837\nStrategy - Start retraining.\nStrategy - End retraining.\nBacktest - position: 4400 of 5257, number of signals: 849\nStoploss executed: Trade price: 5552.495685, low was: 5285.0\nStrategy - Start retraining.\nStrategy - End retraining.\nBacktest - position: 4500 of 5257, number of signals: 865\nStrategy - Start retraining.\nStrategy - End retraining.\nBacktest - position: 4600 of 5257, number of signals: 877\nStrategy - Start retraining.\nStrategy - End retraining.\nBacktest - position: 4700 of 5257, number of signals: 891\nStrategy - Start retraining.\nStrategy - End retraining.\nBacktest - position: 4800 of 5257, number of signals: 907\nStrategy - Start retraining.\nStrategy - End retraining.\nBacktest - position: 4900 of 5257, number of signals: 931\nStrategy - Start retraining.\nStrategy - End retraining.\nBacktest - position: 5000 of 5257, number of signals: 955\nStrategy - Start retraining.\nStrategy - End retraining.\nBacktest - position: 5100 of 5257, number of signals: 971\nStrategy - Start retraining.\nStrategy - End retraining.\nBacktest - position: 5200 of 5257, number of signals: 985\n"
    }
   ],
   "source": [
    "signals = Backtest.run(\n",
    "    strategy=strategy,\n",
    "    features=features,\n",
    "    candlesticks=candlesticks,\n",
    "    start_position=trade_start_position,\n",
    "    end_position=trade_end_position,\n",
    "    #signals_csv_path=strategy_tmp_path + \"/signals.csv\"\n",
    ")\n",
    "# signals = Backtest._runWithTarget(\n",
    "#     strategy=strategy,\n",
    "#     features=features,\n",
    "#     targets=targets,\n",
    "#     candlesticks=candlesticks,\n",
    "#     start_position=trade_start_position,\n",
    "#     end_position=trade_end_position,\n",
    "#     signals_csv_path=strategy_tmp_path + \"signals.csv\",\n",
    "# )"
   ]
  },
  {
   "cell_type": "code",
   "execution_count": 18,
   "metadata": {},
   "outputs": [
    {
     "output_type": "stream",
     "name": "stdout",
     "text": "Starts with 10302.58$ at 2019-09-10T00:00:00.000000000\nEnds with 3265.2338114762724$ (number of trades: 993) at 2020-04-16T11:59:59.999000000\nEarned -7037.3461885237275$ (-68.31%)\nPercentage price change in period: -31.59%\n"
    }
   ],
   "source": [
    "trades = Backtest.evaluate(\n",
    "   signals, candlesticks, trade_start_position, trade_end_position, 0.001\n",
    ")\n",
    "#trades.to_csv(strategy_tmp_path + \"trades.csv\")\n",
    "\n",
    "chartTrades(\n",
    "    trades,\n",
    "    candlesticks,\n",
    "    trade_start_position,\n",
    "    trade_end_position,\n",
    "    \"./tmp/backtesting/chart.html\",\n",
    ")"
   ]
  },
  {
   "cell_type": "code",
   "execution_count": null,
   "metadata": {},
   "outputs": [],
   "source": []
  }
 ]
}